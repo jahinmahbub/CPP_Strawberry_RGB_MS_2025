{
  "nbformat": 4,
  "nbformat_minor": 0,
  "metadata": {
    "colab": {
      "provenance": []
    },
    "kernelspec": {
      "name": "python3",
      "display_name": "Python 3"
    },
    "language_info": {
      "name": "python"
    }
  },
  "cells": [
    {
      "cell_type": "markdown",
      "source": [
        "1"
      ],
      "metadata": {
        "id": "Yxk0kvrymAw9"
      }
    },
    {
      "cell_type": "code",
      "source": [
        "!nvidia-smi"
      ],
      "metadata": {
        "colab": {
          "base_uri": "https://localhost:8080/"
        },
        "id": "ii4QVfoAWxAO",
        "outputId": "0561b84f-49ae-4f95-ffc6-093970821876"
      },
      "execution_count": null,
      "outputs": [
        {
          "output_type": "stream",
          "name": "stdout",
          "text": [
            "Fri Mar  7 09:13:57 2025       \n",
            "+-----------------------------------------------------------------------------------------+\n",
            "| NVIDIA-SMI 572.60                 Driver Version: 572.60         CUDA Version: 12.8     |\n",
            "|-----------------------------------------+------------------------+----------------------+\n",
            "| GPU  Name                  Driver-Model | Bus-Id          Disp.A | Volatile Uncorr. ECC |\n",
            "| Fan  Temp   Perf          Pwr:Usage/Cap |           Memory-Usage | GPU-Util  Compute M. |\n",
            "|                                         |                        |               MIG M. |\n",
            "|=========================================+========================+======================|\n",
            "|   0  NVIDIA GeForce RTX 3090      WDDM  |   00000000:0A:00.0  On |                  N/A |\n",
            "|  0%   46C    P5             37W /  420W |   10817MiB /  24576MiB |     15%      Default |\n",
            "|                                         |                        |                  N/A |\n",
            "+-----------------------------------------+------------------------+----------------------+\n",
            "                                                                                         \n",
            "+-----------------------------------------------------------------------------------------+\n",
            "| Processes:                                                                              |\n",
            "|  GPU   GI   CI              PID   Type   Process name                        GPU Memory |\n",
            "|        ID   ID                                                               Usage      |\n",
            "|=========================================================================================|\n",
            "|    0   N/A  N/A            3420    C+G   ...r\\frontend\\Docker Desktop.exe      N/A      |\n",
            "|    0   N/A  N/A            4884    C+G   ...yb3d8bbwe\\WindowsTerminal.exe      N/A      |\n",
            "|    0   N/A  N/A            5968    C+G   ...xyewy\\ShellExperienceHost.exe      N/A      |\n",
            "|    0   N/A  N/A            8132    C+G   ...4__cv1g1gvanyjgm\\WhatsApp.exe      N/A      |\n",
            "|    0   N/A  N/A            8924    C+G   ...nternet Explorer\\iexplore.exe      N/A      |\n",
            "|    0   N/A  N/A           10128    C+G   C:\\Windows\\explorer.exe               N/A      |\n",
            "|    0   N/A  N/A           10140    C+G   ...indows\\System32\\ShellHost.exe      N/A      |\n",
            "|    0   N/A  N/A           10792    C+G   ...em32\\ApplicationFrameHost.exe      N/A      |\n",
            "|    0   N/A  N/A           10868    C+G   ...4__8wekyb3d8bbwe\\Video.UI.exe      N/A      |\n",
            "|    0   N/A  N/A           12060    C+G   ...Browser\\Application\\brave.exe      N/A      |\n",
            "|    0   N/A  N/A           12240    C+G   ..._cw5n1h2txyewy\\SearchHost.exe      N/A      |\n",
            "|    0   N/A  N/A           12264    C+G   ...y\\StartMenuExperienceHost.exe      N/A      |\n",
            "|    0   N/A  N/A           14220    C+G   ...lus\\logioptionsplus_agent.exe      N/A      |\n",
            "|    0   N/A  N/A           14792    C+G   ...App_cw5n1h2txyewy\\LockApp.exe      N/A      |\n",
            "|    0   N/A  N/A           16208    C+G   ...ntrolPanel\\SystemSettings.exe      N/A      |\n",
            "|    0   N/A  N/A           16380      C   ...s\\Python\\Python310\\python.exe      N/A      |\n",
            "|    0   N/A  N/A           16452    C+G   ...5n1h2txyewy\\TextInputHost.exe      N/A      |\n",
            "|    0   N/A  N/A           17528    C+G   ....0.3065.92\\msedgewebview2.exe      N/A      |\n",
            "|    0   N/A  N/A           17728    C+G   ...ef.win7x64\\steamwebhelper.exe      N/A      |\n",
            "|    0   N/A  N/A           18916    C+G   ...m\\104.0.4.0\\GoogleDriveFS.exe      N/A      |\n",
            "|    0   N/A  N/A           19800    C+G   ...cord\\app-1.0.9185\\Discord.exe      N/A      |\n",
            "|    0   N/A  N/A           24360      C   ...s\\Python\\Python310\\python.exe      N/A      |\n",
            "|    0   N/A  N/A           25376    C+G   ...Browser\\Application\\brave.exe      N/A      |\n",
            "|    0   N/A  N/A           26828    C+G   ...SnippingTool\\SnippingTool.exe      N/A      |\n",
            "+-----------------------------------------------------------------------------------------+\n"
          ]
        }
      ]
    },
    {
      "cell_type": "markdown",
      "source": [
        "2"
      ],
      "metadata": {
        "id": "oorxBWWimER8"
      }
    },
    {
      "cell_type": "code",
      "source": [
        "!git clone https://github.com/Deci-AI/super-gradients.git\n",
        "%cd super-gradients\n",
        "!pip install -r requirements.txt"
      ],
      "metadata": {
        "colab": {
          "base_uri": "https://localhost:8080/"
        },
        "id": "V94DSPfbmQVY",
        "outputId": "93a19d3f-dc4b-47a6-bce2-2128926580ff"
      },
      "execution_count": null,
      "outputs": [
        {
          "output_type": "stream",
          "name": "stdout",
          "text": [
            "C:\\Users\\Jahin Catalan Mahbub\\super-gradients\n"
          ]
        },
        {
          "output_type": "stream",
          "name": "stderr",
          "text": [
            "Cloning into 'super-gradients'...\n",
            "Updating files:  89% (1061/1185)\n",
            "Updating files:  90% (1067/1185)\n",
            "Updating files:  91% (1079/1185)\n",
            "Updating files:  92% (1091/1185)\n",
            "Updating files:  93% (1103/1185)\n",
            "Updating files:  94% (1114/1185)\n",
            "Updating files:  95% (1126/1185)\n",
            "Updating files:  96% (1138/1185)\n",
            "Updating files:  97% (1150/1185)\n",
            "Updating files:  98% (1162/1185)\n",
            "Updating files:  99% (1174/1185)\n",
            "Updating files: 100% (1185/1185)\n",
            "Updating files: 100% (1185/1185), done.\n",
            "C:\\Users\\Jahin Catalan Mahbub\\AppData\\Local\\Programs\\Python\\Python310\\lib\\site-packages\\IPython\\core\\magics\\osm.py:417: UserWarning: This is now an optional IPython functionality, setting dhist requires you to install the `pickleshare` library.\n",
            "  self.shell.db['dhist'] = compress_dhist(dhist)[-100:]\n"
          ]
        },
        {
          "output_type": "stream",
          "name": "stdout",
          "text": [
            "Requirement already satisfied: torch>=1.9.0 in c:\\users\\jahin catalan mahbub\\appdata\\local\\programs\\python\\python310\\lib\\site-packages (from -r requirements.txt (line 1)) (2.5.1+cu124)\n",
            "Requirement already satisfied: tqdm>=4.57.0 in c:\\users\\jahin catalan mahbub\\appdata\\local\\programs\\python\\python310\\lib\\site-packages (from -r requirements.txt (line 2)) (4.66.5)\n",
            "Collecting boto3>=1.17.15 (from -r requirements.txt (line 3))\n",
            "  Downloading boto3-1.37.8-py3-none-any.whl.metadata (6.6 kB)\n",
            "Requirement already satisfied: jsonschema>=3.2.0 in c:\\users\\jahin catalan mahbub\\appdata\\local\\programs\\python\\python310\\lib\\site-packages (from -r requirements.txt (line 4)) (4.23.0)\n",
            "Requirement already satisfied: Deprecated>=1.2.11 in c:\\users\\jahin catalan mahbub\\appdata\\local\\programs\\python\\python310\\lib\\site-packages (from -r requirements.txt (line 5)) (1.2.14)\n",
            "Requirement already satisfied: scipy>=1.6.1 in c:\\users\\jahin catalan mahbub\\appdata\\local\\programs\\python\\python310\\lib\\site-packages (from -r requirements.txt (line 6)) (1.14.1)\n",
            "Requirement already satisfied: matplotlib>=3.3.4 in c:\\users\\jahin catalan mahbub\\appdata\\local\\programs\\python\\python310\\lib\\site-packages (from -r requirements.txt (line 7)) (3.9.2)\n",
            "Requirement already satisfied: psutil>=5.8.0 in c:\\users\\jahin catalan mahbub\\appdata\\local\\programs\\python\\python310\\lib\\site-packages (from -r requirements.txt (line 8)) (6.0.0)\n",
            "Collecting tensorboard>=2.4.1 (from -r requirements.txt (line 9))\n",
            "  Downloading tensorboard-2.19.0-py3-none-any.whl.metadata (1.8 kB)\n",
            "Collecting setuptools<67.0.0,>=65.5.1 (from -r requirements.txt (line 11))\n",
            "  Downloading setuptools-66.1.1-py3-none-any.whl.metadata (6.2 kB)\n",
            "Requirement already satisfied: torchvision>=0.10.0 in c:\\users\\jahin catalan mahbub\\appdata\\local\\programs\\python\\python310\\lib\\site-packages (from -r requirements.txt (line 12)) (0.20.1+cu124)\n",
            "Collecting torchmetrics==0.8 (from -r requirements.txt (line 13))\n",
            "  Downloading torchmetrics-0.8.0-py3-none-any.whl.metadata (20 kB)\n",
            "Collecting hydra-core>=1.2.0 (from -r requirements.txt (line 14))\n",
            "  Using cached hydra_core-1.3.2-py3-none-any.whl.metadata (5.5 kB)\n",
            "Requirement already satisfied: onnxruntime>=1.15.0 in c:\\users\\jahin catalan mahbub\\appdata\\local\\programs\\python\\python310\\lib\\site-packages (from -r requirements.txt (line 15)) (1.19.2)\n",
            "Collecting onnx==1.15.0 (from -r requirements.txt (line 17))\n",
            "  Downloading onnx-1.15.0-cp310-cp310-win_amd64.whl.metadata (15 kB)\n",
            "Collecting pillow>=10.2.0 (from -r requirements.txt (line 18))\n",
            "  Downloading pillow-11.1.0-cp310-cp310-win_amd64.whl.metadata (9.3 kB)\n",
            "Collecting pip-tools>=6.12.1 (from -r requirements.txt (line 19))\n",
            "  Downloading pip_tools-7.4.1-py3-none-any.whl.metadata (26 kB)\n",
            "Collecting einops==0.3.2 (from -r requirements.txt (line 20))\n",
            "  Downloading einops-0.3.2-py3-none-any.whl.metadata (10 kB)\n",
            "Collecting treelib==1.6.1 (from -r requirements.txt (line 21))\n",
            "  Downloading treelib-1.6.1.tar.gz (24 kB)\n",
            "  Preparing metadata (setup.py): started\n",
            "  Preparing metadata (setup.py): finished with status 'done'\n",
            "Collecting termcolor==1.1.0 (from -r requirements.txt (line 22))\n",
            "  Downloading termcolor-1.1.0.tar.gz (3.9 kB)\n",
            "  Preparing metadata (setup.py): started\n",
            "  Preparing metadata (setup.py): finished with status 'done'\n",
            "Requirement already satisfied: packaging>=20.4 in c:\\users\\jahin catalan mahbub\\appdata\\local\\programs\\python\\python310\\lib\\site-packages (from -r requirements.txt (line 23)) (24.1)\n",
            "Requirement already satisfied: wheel>=0.38.0 in c:\\users\\jahin catalan mahbub\\appdata\\local\\programs\\python\\python310\\lib\\site-packages (from -r requirements.txt (line 25)) (0.45.0)\n",
            "Requirement already satisfied: pygments>=2.7.4 in c:\\users\\jahin catalan mahbub\\appdata\\local\\programs\\python\\python310\\lib\\site-packages (from -r requirements.txt (line 27)) (2.18.0)\n",
            "Collecting stringcase>=1.2.0 (from -r requirements.txt (line 28))\n",
            "  Downloading stringcase-1.2.0.tar.gz (3.0 kB)\n",
            "  Preparing metadata (setup.py): started\n",
            "  Preparing metadata (setup.py): finished with status 'done'\n",
            "Collecting rapidfuzz (from -r requirements.txt (line 29))\n",
            "  Downloading rapidfuzz-3.12.2-cp310-cp310-win_amd64.whl.metadata (12 kB)\n",
            "Collecting json-tricks==3.16.1 (from -r requirements.txt (line 30))\n",
            "  Downloading json_tricks-3.16.1-py2.py3-none-any.whl.metadata (17 kB)\n",
            "Collecting onnxsim<1.0,>=0.4.3 (from -r requirements.txt (line 31))\n",
            "  Downloading onnxsim-0.4.36-cp310-cp310-win_amd64.whl.metadata (4.4 kB)\n",
            "Collecting data-gradients~=0.3.1 (from -r requirements.txt (line 32))\n",
            "  Downloading data_gradients-0.3.2-py3-none-any.whl.metadata (21 kB)\n",
            "Requirement already satisfied: albumentations~=1.3 in c:\\users\\jahin catalan mahbub\\appdata\\local\\programs\\python\\python310\\lib\\site-packages (from -r requirements.txt (line 33)) (1.4.14)\n",
            "Requirement already satisfied: fonttools>=4.43.0 in c:\\users\\jahin catalan mahbub\\appdata\\local\\programs\\python\\python310\\lib\\site-packages (from -r requirements.txt (line 35)) (4.53.1)\n",
            "Collecting werkzeug>=2.3.8 (from -r requirements.txt (line 37))\n",
            "  Downloading werkzeug-3.1.3-py3-none-any.whl.metadata (3.7 kB)\n",
            "Collecting imagesize~=1.4.1 (from -r requirements.txt (line 38))\n",
            "  Downloading imagesize-1.4.1-py2.py3-none-any.whl.metadata (1.5 kB)\n",
            "Requirement already satisfied: numpy>=1.17.2 in c:\\users\\jahin catalan mahbub\\appdata\\local\\programs\\python\\python310\\lib\\site-packages (from torchmetrics==0.8->-r requirements.txt (line 13)) (1.26.4)\n",
            "Collecting pyDeprecate==0.3.* (from torchmetrics==0.8->-r requirements.txt (line 13))\n",
            "  Downloading pyDeprecate-0.3.2-py3-none-any.whl.metadata (10 kB)\n",
            "Requirement already satisfied: protobuf>=3.20.2 in c:\\users\\jahin catalan mahbub\\appdata\\local\\programs\\python\\python310\\lib\\site-packages (from onnx==1.15.0->-r requirements.txt (line 17)) (4.25.4)\n",
            "Requirement already satisfied: future in c:\\users\\jahin catalan mahbub\\appdata\\local\\programs\\python\\python310\\lib\\site-packages (from treelib==1.6.1->-r requirements.txt (line 21)) (1.0.0)\n",
            "Requirement already satisfied: filelock in c:\\users\\jahin catalan mahbub\\appdata\\local\\programs\\python\\python310\\lib\\site-packages (from torch>=1.9.0->-r requirements.txt (line 1)) (3.15.4)\n",
            "Requirement already satisfied: typing-extensions>=4.8.0 in c:\\users\\jahin catalan mahbub\\appdata\\local\\programs\\python\\python310\\lib\\site-packages (from torch>=1.9.0->-r requirements.txt (line 1)) (4.12.2)\n",
            "Requirement already satisfied: networkx in c:\\users\\jahin catalan mahbub\\appdata\\local\\programs\\python\\python310\\lib\\site-packages (from torch>=1.9.0->-r requirements.txt (line 1)) (3.3)\n",
            "Requirement already satisfied: jinja2 in c:\\users\\jahin catalan mahbub\\appdata\\local\\programs\\python\\python310\\lib\\site-packages (from torch>=1.9.0->-r requirements.txt (line 1)) (3.1.4)\n",
            "Requirement already satisfied: fsspec in c:\\users\\jahin catalan mahbub\\appdata\\local\\programs\\python\\python310\\lib\\site-packages (from torch>=1.9.0->-r requirements.txt (line 1)) (2024.9.0)\n",
            "Requirement already satisfied: sympy==1.13.1 in c:\\users\\jahin catalan mahbub\\appdata\\local\\programs\\python\\python310\\lib\\site-packages (from torch>=1.9.0->-r requirements.txt (line 1)) (1.13.1)\n",
            "Requirement already satisfied: mpmath<1.4,>=1.1.0 in c:\\users\\jahin catalan mahbub\\appdata\\local\\programs\\python\\python310\\lib\\site-packages (from sympy==1.13.1->torch>=1.9.0->-r requirements.txt (line 1)) (1.3.0)\n",
            "Requirement already satisfied: colorama in c:\\users\\jahin catalan mahbub\\appdata\\local\\programs\\python\\python310\\lib\\site-packages (from tqdm>=4.57.0->-r requirements.txt (line 2)) (0.4.6)\n",
            "Collecting botocore<1.38.0,>=1.37.8 (from boto3>=1.17.15->-r requirements.txt (line 3))\n",
            "  Downloading botocore-1.37.8-py3-none-any.whl.metadata (5.7 kB)\n",
            "Collecting jmespath<2.0.0,>=0.7.1 (from boto3>=1.17.15->-r requirements.txt (line 3))\n",
            "  Using cached jmespath-1.0.1-py3-none-any.whl.metadata (7.6 kB)\n",
            "Collecting s3transfer<0.12.0,>=0.11.0 (from boto3>=1.17.15->-r requirements.txt (line 3))\n",
            "  Downloading s3transfer-0.11.4-py3-none-any.whl.metadata (1.7 kB)\n",
            "Requirement already satisfied: attrs>=22.2.0 in c:\\users\\jahin catalan mahbub\\appdata\\local\\programs\\python\\python310\\lib\\site-packages (from jsonschema>=3.2.0->-r requirements.txt (line 4)) (24.2.0)\n",
            "Requirement already satisfied: jsonschema-specifications>=2023.03.6 in c:\\users\\jahin catalan mahbub\\appdata\\local\\programs\\python\\python310\\lib\\site-packages (from jsonschema>=3.2.0->-r requirements.txt (line 4)) (2023.12.1)\n",
            "Requirement already satisfied: referencing>=0.28.4 in c:\\users\\jahin catalan mahbub\\appdata\\local\\programs\\python\\python310\\lib\\site-packages (from jsonschema>=3.2.0->-r requirements.txt (line 4)) (0.35.1)\n",
            "Requirement already satisfied: rpds-py>=0.7.1 in c:\\users\\jahin catalan mahbub\\appdata\\local\\programs\\python\\python310\\lib\\site-packages (from jsonschema>=3.2.0->-r requirements.txt (line 4)) (0.20.0)\n",
            "Requirement already satisfied: wrapt<2,>=1.10 in c:\\users\\jahin catalan mahbub\\appdata\\local\\programs\\python\\python310\\lib\\site-packages (from Deprecated>=1.2.11->-r requirements.txt (line 5)) (1.16.0)\n",
            "Requirement already satisfied: contourpy>=1.0.1 in c:\\users\\jahin catalan mahbub\\appdata\\local\\programs\\python\\python310\\lib\\site-packages (from matplotlib>=3.3.4->-r requirements.txt (line 7)) (1.3.0)\n",
            "Requirement already satisfied: cycler>=0.10 in c:\\users\\jahin catalan mahbub\\appdata\\local\\programs\\python\\python310\\lib\\site-packages (from matplotlib>=3.3.4->-r requirements.txt (line 7)) (0.12.1)\n",
            "Requirement already satisfied: kiwisolver>=1.3.1 in c:\\users\\jahin catalan mahbub\\appdata\\local\\programs\\python\\python310\\lib\\site-packages (from matplotlib>=3.3.4->-r requirements.txt (line 7)) (1.4.7)\n",
            "Requirement already satisfied: pyparsing>=2.3.1 in c:\\users\\jahin catalan mahbub\\appdata\\local\\programs\\python\\python310\\lib\\site-packages (from matplotlib>=3.3.4->-r requirements.txt (line 7)) (3.1.4)\n",
            "Requirement already satisfied: python-dateutil>=2.7 in c:\\users\\jahin catalan mahbub\\appdata\\local\\programs\\python\\python310\\lib\\site-packages (from matplotlib>=3.3.4->-r requirements.txt (line 7)) (2.9.0.post0)\n",
            "Requirement already satisfied: absl-py>=0.4 in c:\\users\\jahin catalan mahbub\\appdata\\local\\programs\\python\\python310\\lib\\site-packages (from tensorboard>=2.4.1->-r requirements.txt (line 9)) (2.1.0)\n",
            "Collecting grpcio>=1.48.2 (from tensorboard>=2.4.1->-r requirements.txt (line 9))\n",
            "  Downloading grpcio-1.70.0-cp310-cp310-win_amd64.whl.metadata (4.0 kB)\n",
            "Collecting markdown>=2.6.8 (from tensorboard>=2.4.1->-r requirements.txt (line 9))\n",
            "  Downloading Markdown-3.7-py3-none-any.whl.metadata (7.0 kB)\n",
            "Requirement already satisfied: six>1.9 in c:\\users\\jahin catalan mahbub\\appdata\\local\\programs\\python\\python310\\lib\\site-packages (from tensorboard>=2.4.1->-r requirements.txt (line 9)) (1.16.0)\n",
            "Collecting tensorboard-data-server<0.8.0,>=0.7.0 (from tensorboard>=2.4.1->-r requirements.txt (line 9))\n",
            "  Downloading tensorboard_data_server-0.7.2-py3-none-any.whl.metadata (1.1 kB)\n",
            "Requirement already satisfied: omegaconf<2.4,>=2.2 in c:\\users\\jahin catalan mahbub\\appdata\\local\\programs\\python\\python310\\lib\\site-packages (from hydra-core>=1.2.0->-r requirements.txt (line 14)) (2.3.0)\n",
            "Requirement already satisfied: antlr4-python3-runtime==4.9.* in c:\\users\\jahin catalan mahbub\\appdata\\local\\programs\\python\\python310\\lib\\site-packages (from hydra-core>=1.2.0->-r requirements.txt (line 14)) (4.9.3)\n",
            "Requirement already satisfied: coloredlogs in c:\\users\\jahin catalan mahbub\\appdata\\local\\programs\\python\\python310\\lib\\site-packages (from onnxruntime>=1.15.0->-r requirements.txt (line 15)) (15.0.1)\n",
            "Requirement already satisfied: flatbuffers in c:\\users\\jahin catalan mahbub\\appdata\\local\\programs\\python\\python310\\lib\\site-packages (from onnxruntime>=1.15.0->-r requirements.txt (line 15)) (24.3.25)\n",
            "Collecting build>=1.0.0 (from pip-tools>=6.12.1->-r requirements.txt (line 19))\n",
            "  Downloading build-1.2.2.post1-py3-none-any.whl.metadata (6.5 kB)\n",
            "Requirement already satisfied: click>=8 in c:\\users\\jahin catalan mahbub\\appdata\\local\\programs\\python\\python310\\lib\\site-packages (from pip-tools>=6.12.1->-r requirements.txt (line 19)) (8.1.7)\n",
            "Requirement already satisfied: pip>=22.2 in c:\\users\\jahin catalan mahbub\\appdata\\local\\programs\\python\\python310\\lib\\site-packages (from pip-tools>=6.12.1->-r requirements.txt (line 19)) (25.0.1)\n",
            "Collecting pyproject-hooks (from pip-tools>=6.12.1->-r requirements.txt (line 19))\n",
            "  Downloading pyproject_hooks-1.2.0-py3-none-any.whl.metadata (1.3 kB)\n",
            "Requirement already satisfied: tomli in c:\\users\\jahin catalan mahbub\\appdata\\local\\programs\\python\\python310\\lib\\site-packages (from pip-tools>=6.12.1->-r requirements.txt (line 19)) (2.0.1)\n",
            "Requirement already satisfied: rich in c:\\users\\jahin catalan mahbub\\appdata\\local\\programs\\python\\python310\\lib\\site-packages (from onnxsim<1.0,>=0.4.3->-r requirements.txt (line 31)) (13.8.0)\n",
            "Requirement already satisfied: platformdirs>=2.5.2 in c:\\users\\jahin catalan mahbub\\appdata\\local\\programs\\python\\python310\\lib\\site-packages (from data-gradients~=0.3.1->-r requirements.txt (line 32)) (4.2.2)\n",
            "Requirement already satisfied: opencv-python in c:\\users\\jahin catalan mahbub\\appdata\\local\\programs\\python\\python310\\lib\\site-packages (from data-gradients~=0.3.1->-r requirements.txt (line 32)) (4.10.0.84)\n",
            "Collecting coverage~=5.3.1 (from data-gradients~=0.3.1->-r requirements.txt (line 32))\n",
            "  Downloading coverage-5.3.1.tar.gz (684 kB)\n",
            "     ---------------------------------------- 0.0/684.5 kB ? eta -:--:--\n",
            "     -------------------------------------- 684.5/684.5 kB 2.7 MB/s eta 0:00:00\n",
            "  Preparing metadata (setup.py): started\n",
            "  Preparing metadata (setup.py): finished with status 'done'\n",
            "Requirement already satisfied: seaborn in c:\\users\\jahin catalan mahbub\\appdata\\local\\programs\\python\\python310\\lib\\site-packages (from data-gradients~=0.3.1->-r requirements.txt (line 32)) (0.13.2)\n",
            "Collecting xhtml2pdf==0.2.11 (from data-gradients~=0.3.1->-r requirements.txt (line 32))\n",
            "  Downloading xhtml2pdf-0.2.11.tar.gz (108 kB)\n",
            "  Preparing metadata (setup.py): started\n",
            "  Preparing metadata (setup.py): finished with status 'done'\n",
            "Collecting imagededup (from data-gradients~=0.3.1->-r requirements.txt (line 32))\n",
            "  Downloading imagededup-0.3.2-cp310-cp310-win_amd64.whl.metadata (2.5 kB)\n",
            "Collecting arabic-reshaper>=3.0.0 (from xhtml2pdf==0.2.11->data-gradients~=0.3.1->-r requirements.txt (line 32))\n",
            "  Downloading arabic_reshaper-3.0.0-py3-none-any.whl.metadata (12 kB)\n",
            "Collecting html5lib>=1.0.1 (from xhtml2pdf==0.2.11->data-gradients~=0.3.1->-r requirements.txt (line 32))\n",
            "  Downloading html5lib-1.1-py2.py3-none-any.whl.metadata (16 kB)\n",
            "Collecting pyHanko>=0.12.1 (from xhtml2pdf==0.2.11->data-gradients~=0.3.1->-r requirements.txt (line 32))\n",
            "  Downloading pyHanko-0.25.3-py3-none-any.whl.metadata (9.4 kB)\n",
            "Collecting pyhanko-certvalidator>=0.19.5 (from xhtml2pdf==0.2.11->data-gradients~=0.3.1->-r requirements.txt (line 32))\n",
            "  Downloading pyhanko_certvalidator-0.26.5-py3-none-any.whl.metadata (5.4 kB)\n",
            "Collecting pypdf>=3.1.0 (from xhtml2pdf==0.2.11->data-gradients~=0.3.1->-r requirements.txt (line 32))\n",
            "  Downloading pypdf-5.3.1-py3-none-any.whl.metadata (7.3 kB)\n",
            "Collecting python-bidi>=0.4.2 (from xhtml2pdf==0.2.11->data-gradients~=0.3.1->-r requirements.txt (line 32))\n",
            "  Downloading python_bidi-0.6.6-cp310-cp310-win_amd64.whl.metadata (5.0 kB)\n",
            "Collecting reportlab<4,>=3.5.53 (from xhtml2pdf==0.2.11->data-gradients~=0.3.1->-r requirements.txt (line 32))\n",
            "  Downloading reportlab-3.6.13-cp310-cp310-win_amd64.whl.metadata (1.2 kB)\n",
            "Requirement already satisfied: svglib>=1.2.1 in c:\\users\\jahin catalan mahbub\\appdata\\local\\programs\\python\\python310\\lib\\site-packages (from xhtml2pdf==0.2.11->data-gradients~=0.3.1->-r requirements.txt (line 32)) (1.5.1)\n",
            "Requirement already satisfied: scikit-image>=0.21.0 in c:\\users\\jahin catalan mahbub\\appdata\\local\\programs\\python\\python310\\lib\\site-packages (from albumentations~=1.3->-r requirements.txt (line 33)) (0.24.0)\n",
            "Requirement already satisfied: PyYAML in c:\\users\\jahin catalan mahbub\\appdata\\local\\programs\\python\\python310\\lib\\site-packages (from albumentations~=1.3->-r requirements.txt (line 33)) (6.0.2)\n",
            "Requirement already satisfied: pydantic>=2.7.0 in c:\\users\\jahin catalan mahbub\\appdata\\local\\programs\\python\\python310\\lib\\site-packages (from albumentations~=1.3->-r requirements.txt (line 33)) (2.9.0)\n",
            "Requirement already satisfied: albucore>=0.0.13 in c:\\users\\jahin catalan mahbub\\appdata\\local\\programs\\python\\python310\\lib\\site-packages (from albumentations~=1.3->-r requirements.txt (line 33)) (0.0.14)\n",
            "Requirement already satisfied: eval-type-backport in c:\\users\\jahin catalan mahbub\\appdata\\local\\programs\\python\\python310\\lib\\site-packages (from albumentations~=1.3->-r requirements.txt (line 33)) (0.2.0)\n",
            "Collecting opencv-python-headless>=4.9.0.80 (from albumentations~=1.3->-r requirements.txt (line 33))\n",
            "  Downloading opencv_python_headless-4.11.0.86-cp37-abi3-win_amd64.whl.metadata (20 kB)\n",
            "Requirement already satisfied: MarkupSafe>=2.1.1 in c:\\users\\jahin catalan mahbub\\appdata\\local\\programs\\python\\python310\\lib\\site-packages (from werkzeug>=2.3.8->-r requirements.txt (line 37)) (2.1.5)\n",
            "Requirement already satisfied: urllib3!=2.2.0,<3,>=1.25.4 in c:\\users\\jahin catalan mahbub\\appdata\\local\\programs\\python\\python310\\lib\\site-packages (from botocore<1.38.0,>=1.37.8->boto3>=1.17.15->-r requirements.txt (line 3)) (1.26.20)\n",
            "Requirement already satisfied: annotated-types>=0.4.0 in c:\\users\\jahin catalan mahbub\\appdata\\local\\programs\\python\\python310\\lib\\site-packages (from pydantic>=2.7.0->albumentations~=1.3->-r requirements.txt (line 33)) (0.7.0)\n",
            "Requirement already satisfied: pydantic-core==2.23.2 in c:\\users\\jahin catalan mahbub\\appdata\\local\\programs\\python\\python310\\lib\\site-packages (from pydantic>=2.7.0->albumentations~=1.3->-r requirements.txt (line 33)) (2.23.2)\n",
            "Requirement already satisfied: tzdata in c:\\users\\jahin catalan mahbub\\appdata\\local\\programs\\python\\python310\\lib\\site-packages (from pydantic>=2.7.0->albumentations~=1.3->-r requirements.txt (line 33)) (2024.1)\n",
            "Requirement already satisfied: imageio>=2.33 in c:\\users\\jahin catalan mahbub\\appdata\\local\\programs\\python\\python310\\lib\\site-packages (from scikit-image>=0.21.0->albumentations~=1.3->-r requirements.txt (line 33)) (2.35.1)\n",
            "Requirement already satisfied: tifffile>=2022.8.12 in c:\\users\\jahin catalan mahbub\\appdata\\local\\programs\\python\\python310\\lib\\site-packages (from scikit-image>=0.21.0->albumentations~=1.3->-r requirements.txt (line 33)) (2024.8.30)\n",
            "Requirement already satisfied: lazy-loader>=0.4 in c:\\users\\jahin catalan mahbub\\appdata\\local\\programs\\python\\python310\\lib\\site-packages (from scikit-image>=0.21.0->albumentations~=1.3->-r requirements.txt (line 33)) (0.4)\n",
            "Requirement already satisfied: humanfriendly>=9.1 in c:\\users\\jahin catalan mahbub\\appdata\\local\\programs\\python\\python310\\lib\\site-packages (from coloredlogs->onnxruntime>=1.15.0->-r requirements.txt (line 15)) (10.0)\n",
            "Requirement already satisfied: scikit-learn in c:\\users\\jahin catalan mahbub\\appdata\\local\\programs\\python\\python310\\lib\\site-packages (from imagededup->data-gradients~=0.3.1->-r requirements.txt (line 32)) (1.5.1)\n",
            "Collecting PyWavelets (from imagededup->data-gradients~=0.3.1->-r requirements.txt (line 32))\n",
            "  Downloading pywavelets-1.8.0-cp310-cp310-win_amd64.whl.metadata (9.0 kB)\n",
            "Requirement already satisfied: markdown-it-py>=2.2.0 in c:\\users\\jahin catalan mahbub\\appdata\\local\\programs\\python\\python310\\lib\\site-packages (from rich->onnxsim<1.0,>=0.4.3->-r requirements.txt (line 31)) (3.0.0)\n",
            "Requirement already satisfied: pandas>=1.2 in c:\\users\\jahin catalan mahbub\\appdata\\local\\programs\\python\\python310\\lib\\site-packages (from seaborn->data-gradients~=0.3.1->-r requirements.txt (line 32)) (2.2.3)\n",
            "Requirement already satisfied: webencodings in c:\\users\\jahin catalan mahbub\\appdata\\local\\programs\\python\\python310\\lib\\site-packages (from html5lib>=1.0.1->xhtml2pdf==0.2.11->data-gradients~=0.3.1->-r requirements.txt (line 32)) (0.5.1)\n",
            "Requirement already satisfied: pyreadline3 in c:\\users\\jahin catalan mahbub\\appdata\\local\\programs\\python\\python310\\lib\\site-packages (from humanfriendly>=9.1->coloredlogs->onnxruntime>=1.15.0->-r requirements.txt (line 15)) (3.4.1)\n",
            "Requirement already satisfied: mdurl~=0.1 in c:\\users\\jahin catalan mahbub\\appdata\\local\\programs\\python\\python310\\lib\\site-packages (from markdown-it-py>=2.2.0->rich->onnxsim<1.0,>=0.4.3->-r requirements.txt (line 31)) (0.1.2)\n",
            "Requirement already satisfied: pytz>=2020.1 in c:\\users\\jahin catalan mahbub\\appdata\\local\\programs\\python\\python310\\lib\\site-packages (from pandas>=1.2->seaborn->data-gradients~=0.3.1->-r requirements.txt (line 32)) (2024.2)\n",
            "Collecting asn1crypto>=1.5.1 (from pyHanko>=0.12.1->xhtml2pdf==0.2.11->data-gradients~=0.3.1->-r requirements.txt (line 32))\n",
            "  Downloading asn1crypto-1.5.1-py2.py3-none-any.whl.metadata (13 kB)\n",
            "Requirement already satisfied: qrcode>=7.3.1 in c:\\users\\jahin catalan mahbub\\appdata\\local\\programs\\python\\python310\\lib\\site-packages (from pyHanko>=0.12.1->xhtml2pdf==0.2.11->data-gradients~=0.3.1->-r requirements.txt (line 32)) (7.4.2)\n",
            "Collecting tzlocal>=4.3 (from pyHanko>=0.12.1->xhtml2pdf==0.2.11->data-gradients~=0.3.1->-r requirements.txt (line 32))\n",
            "  Downloading tzlocal-5.3.1-py3-none-any.whl.metadata (7.6 kB)\n",
            "Requirement already satisfied: requests>=2.31.0 in c:\\users\\jahin catalan mahbub\\appdata\\local\\programs\\python\\python310\\lib\\site-packages (from pyHanko>=0.12.1->xhtml2pdf==0.2.11->data-gradients~=0.3.1->-r requirements.txt (line 32)) (2.32.3)\n",
            "Collecting cryptography>=43.0.3 (from pyHanko>=0.12.1->xhtml2pdf==0.2.11->data-gradients~=0.3.1->-r requirements.txt (line 32))\n",
            "  Downloading cryptography-44.0.2-cp39-abi3-win_amd64.whl.metadata (5.7 kB)\n",
            "Collecting oscrypto>=1.1.0 (from pyhanko-certvalidator>=0.19.5->xhtml2pdf==0.2.11->data-gradients~=0.3.1->-r requirements.txt (line 32))\n",
            "  Downloading oscrypto-1.3.0-py2.py3-none-any.whl.metadata (15 kB)\n",
            "Collecting uritools>=3.0.1 (from pyhanko-certvalidator>=0.19.5->xhtml2pdf==0.2.11->data-gradients~=0.3.1->-r requirements.txt (line 32))\n",
            "  Downloading uritools-4.0.3-py3-none-any.whl.metadata (4.7 kB)\n",
            "Requirement already satisfied: lxml in c:\\users\\jahin catalan mahbub\\appdata\\local\\programs\\python\\python310\\lib\\site-packages (from svglib>=1.2.1->xhtml2pdf==0.2.11->data-gradients~=0.3.1->-r requirements.txt (line 32)) (5.3.0)\n",
            "Requirement already satisfied: tinycss2>=0.6.0 in c:\\users\\jahin catalan mahbub\\appdata\\local\\programs\\python\\python310\\lib\\site-packages (from svglib>=1.2.1->xhtml2pdf==0.2.11->data-gradients~=0.3.1->-r requirements.txt (line 32)) (1.3.0)\n",
            "Requirement already satisfied: cssselect2>=0.2.0 in c:\\users\\jahin catalan mahbub\\appdata\\local\\programs\\python\\python310\\lib\\site-packages (from svglib>=1.2.1->xhtml2pdf==0.2.11->data-gradients~=0.3.1->-r requirements.txt (line 32)) (0.7.0)\n",
            "Requirement already satisfied: joblib>=1.2.0 in c:\\users\\jahin catalan mahbub\\appdata\\local\\programs\\python\\python310\\lib\\site-packages (from scikit-learn->imagededup->data-gradients~=0.3.1->-r requirements.txt (line 32)) (1.4.2)\n",
            "Requirement already satisfied: threadpoolctl>=3.1.0 in c:\\users\\jahin catalan mahbub\\appdata\\local\\programs\\python\\python310\\lib\\site-packages (from scikit-learn->imagededup->data-gradients~=0.3.1->-r requirements.txt (line 32)) (3.5.0)\n",
            "Requirement already satisfied: cffi>=1.12 in c:\\users\\jahin catalan mahbub\\appdata\\local\\programs\\python\\python310\\lib\\site-packages (from cryptography>=43.0.3->pyHanko>=0.12.1->xhtml2pdf==0.2.11->data-gradients~=0.3.1->-r requirements.txt (line 32)) (1.17.1)\n",
            "Requirement already satisfied: pypng in c:\\users\\jahin catalan mahbub\\appdata\\local\\programs\\python\\python310\\lib\\site-packages (from qrcode>=7.3.1->pyHanko>=0.12.1->xhtml2pdf==0.2.11->data-gradients~=0.3.1->-r requirements.txt (line 32)) (0.20220715.0)\n",
            "Requirement already satisfied: charset-normalizer<4,>=2 in c:\\users\\jahin catalan mahbub\\appdata\\local\\programs\\python\\python310\\lib\\site-packages (from requests>=2.31.0->pyHanko>=0.12.1->xhtml2pdf==0.2.11->data-gradients~=0.3.1->-r requirements.txt (line 32)) (3.3.2)\n",
            "Requirement already satisfied: idna<4,>=2.5 in c:\\users\\jahin catalan mahbub\\appdata\\local\\programs\\python\\python310\\lib\\site-packages (from requests>=2.31.0->pyHanko>=0.12.1->xhtml2pdf==0.2.11->data-gradients~=0.3.1->-r requirements.txt (line 32)) (3.8)\n",
            "Requirement already satisfied: certifi>=2017.4.17 in c:\\users\\jahin catalan mahbub\\appdata\\local\\programs\\python\\python310\\lib\\site-packages (from requests>=2.31.0->pyHanko>=0.12.1->xhtml2pdf==0.2.11->data-gradients~=0.3.1->-r requirements.txt (line 32)) (2024.8.30)\n",
            "Requirement already satisfied: pycparser in c:\\users\\jahin catalan mahbub\\appdata\\local\\programs\\python\\python310\\lib\\site-packages (from cffi>=1.12->cryptography>=43.0.3->pyHanko>=0.12.1->xhtml2pdf==0.2.11->data-gradients~=0.3.1->-r requirements.txt (line 32)) (2.22)\n",
            "Downloading torchmetrics-0.8.0-py3-none-any.whl (408 kB)\n",
            "Downloading onnx-1.15.0-cp310-cp310-win_amd64.whl (14.3 MB)\n",
            "   ---------------------------------------- 0.0/14.3 MB ? eta -:--:--\n",
            "   - -------------------------------------- 0.5/14.3 MB 3.4 MB/s eta 0:00:05\n",
            "   -- ------------------------------------- 1.0/14.3 MB 3.4 MB/s eta 0:00:04\n",
            "   ---- ----------------------------------- 1.6/14.3 MB 2.7 MB/s eta 0:00:05\n",
            "   ------- -------------------------------- 2.6/14.3 MB 3.3 MB/s eta 0:00:04\n",
            "   --------- ------------------------------ 3.4/14.3 MB 3.5 MB/s eta 0:00:04\n",
            "   ----------- ---------------------------- 4.2/14.3 MB 3.6 MB/s eta 0:00:03\n",
            "   -------------- ------------------------- 5.2/14.3 MB 3.8 MB/s eta 0:00:03\n",
            "   ----------------- ---------------------- 6.3/14.3 MB 4.0 MB/s eta 0:00:03\n",
            "   ------------------- -------------------- 7.1/14.3 MB 4.0 MB/s eta 0:00:02\n",
            "   ----------------------- ---------------- 8.4/14.3 MB 4.2 MB/s eta 0:00:02\n",
            "   ------------------------- -------------- 9.2/14.3 MB 4.2 MB/s eta 0:00:02\n",
            "   ---------------------------- ----------- 10.2/14.3 MB 4.3 MB/s eta 0:00:01\n",
            "   -------------------------------- ------- 11.5/14.3 MB 4.4 MB/s eta 0:00:01\n",
            "   ---------------------------------- ----- 12.3/14.3 MB 4.4 MB/s eta 0:00:01\n",
            "   -------------------------------------- - 13.6/14.3 MB 4.5 MB/s eta 0:00:01\n",
            "   ---------------------------------------- 14.3/14.3 MB 4.5 MB/s eta 0:00:00\n",
            "Downloading einops-0.3.2-py3-none-any.whl (25 kB)\n",
            "Downloading json_tricks-3.16.1-py2.py3-none-any.whl (27 kB)\n",
            "Downloading pyDeprecate-0.3.2-py3-none-any.whl (10 kB)\n",
            "Downloading boto3-1.37.8-py3-none-any.whl (139 kB)\n",
            "Downloading tensorboard-2.19.0-py3-none-any.whl (5.5 MB)\n",
            "   ---------------------------------------- 0.0/5.5 MB ? eta -:--:--\n",
            "   ------- -------------------------------- 1.0/5.5 MB 6.3 MB/s eta 0:00:01\n",
            "   ----------------- ---------------------- 2.4/5.5 MB 6.1 MB/s eta 0:00:01\n",
            "   ------------------------ --------------- 3.4/5.5 MB 5.9 MB/s eta 0:00:01\n",
            "   -------------------------------- ------- 4.5/5.5 MB 5.7 MB/s eta 0:00:01\n",
            "   ---------------------------------------- 5.5/5.5 MB 5.6 MB/s eta 0:00:00\n",
            "Downloading setuptools-66.1.1-py3-none-any.whl (1.3 MB)\n",
            "   ---------------------------------------- 0.0/1.3 MB ? eta -:--:--\n",
            "   --------------------------------- ------ 1.0/1.3 MB 5.6 MB/s eta 0:00:01\n",
            "   ---------------------------------------- 1.3/1.3 MB 5.3 MB/s eta 0:00:00\n",
            "Using cached hydra_core-1.3.2-py3-none-any.whl (154 kB)\n",
            "Downloading pillow-11.1.0-cp310-cp310-win_amd64.whl (2.6 MB)\n",
            "   ---------------------------------------- 0.0/2.6 MB ? eta -:--:--\n",
            "   --------------- ------------------------ 1.0/2.6 MB 5.6 MB/s eta 0:00:01\n",
            "   ----------------------------------- ---- 2.4/2.6 MB 5.6 MB/s eta 0:00:01\n",
            "   ---------------------------------------- 2.6/2.6 MB 5.4 MB/s eta 0:00:00\n",
            "Downloading pip_tools-7.4.1-py3-none-any.whl (61 kB)\n",
            "Downloading rapidfuzz-3.12.2-cp310-cp310-win_amd64.whl (1.6 MB)\n",
            "   ---------------------------------------- 0.0/1.6 MB ? eta -:--:--\n",
            "   ------------------- -------------------- 0.8/1.6 MB 4.8 MB/s eta 0:00:01\n",
            "   ---------------------------------------- 1.6/1.6 MB 5.1 MB/s eta 0:00:00\n",
            "Downloading onnxsim-0.4.36-cp310-cp310-win_amd64.whl (1.3 MB)\n",
            "   ---------------------------------------- 0.0/1.3 MB ? eta -:--:--\n",
            "   -------------------------------- ------- 1.0/1.3 MB 5.0 MB/s eta 0:00:01\n",
            "   ---------------------------------------- 1.3/1.3 MB 4.7 MB/s eta 0:00:00\n",
            "Downloading data_gradients-0.3.2-py3-none-any.whl (459 kB)\n",
            "Downloading werkzeug-3.1.3-py3-none-any.whl (224 kB)\n",
            "Downloading imagesize-1.4.1-py2.py3-none-any.whl (8.8 kB)\n",
            "Downloading botocore-1.37.8-py3-none-any.whl (13.4 MB)\n",
            "   ---------------------------------------- 0.0/13.4 MB ? eta -:--:--\n",
            "   --- ------------------------------------ 1.0/13.4 MB 5.6 MB/s eta 0:00:03\n",
            "   ------ --------------------------------- 2.1/13.4 MB 5.3 MB/s eta 0:00:03\n",
            "   --------- ------------------------------ 3.1/13.4 MB 5.3 MB/s eta 0:00:02\n",
            "   ------------- -------------------------- 4.5/13.4 MB 5.4 MB/s eta 0:00:02\n",
            "   ---------------- ----------------------- 5.5/13.4 MB 5.4 MB/s eta 0:00:02\n",
            "   ------------------- -------------------- 6.6/13.4 MB 5.3 MB/s eta 0:00:02\n",
            "   ----------------------- ---------------- 7.9/13.4 MB 5.4 MB/s eta 0:00:02\n",
            "   --------------------------- ------------ 9.2/13.4 MB 5.5 MB/s eta 0:00:01\n",
            "   ------------------------------ --------- 10.2/13.4 MB 5.6 MB/s eta 0:00:01\n",
            "   ---------------------------------- ----- 11.5/13.4 MB 5.6 MB/s eta 0:00:01\n",
            "   ------------------------------------- -- 12.6/13.4 MB 5.6 MB/s eta 0:00:01\n",
            "   ---------------------------------------- 13.4/13.4 MB 5.6 MB/s eta 0:00:00\n",
            "Downloading build-1.2.2.post1-py3-none-any.whl (22 kB)\n",
            "Downloading grpcio-1.70.0-cp310-cp310-win_amd64.whl (4.3 MB)\n",
            "   ---------------------------------------- 0.0/4.3 MB ? eta -:--:--\n",
            "   ------------ --------------------------- 1.3/4.3 MB 6.7 MB/s eta 0:00:01\n",
            "   --------------------- ------------------ 2.4/4.3 MB 6.1 MB/s eta 0:00:01\n",
            "   ---------------------------------- ----- 3.7/4.3 MB 6.1 MB/s eta 0:00:01\n",
            "   ---------------------------------------- 4.3/4.3 MB 6.0 MB/s eta 0:00:00\n",
            "Using cached jmespath-1.0.1-py3-none-any.whl (20 kB)\n",
            "Downloading Markdown-3.7-py3-none-any.whl (106 kB)\n",
            "Downloading opencv_python_headless-4.11.0.86-cp37-abi3-win_amd64.whl (39.4 MB)\n",
            "   ---------------------------------------- 0.0/39.4 MB ? eta -:--:--\n",
            "   - -------------------------------------- 1.0/39.4 MB 6.3 MB/s eta 0:00:07\n",
            "   -- ------------------------------------- 2.1/39.4 MB 6.2 MB/s eta 0:00:07\n",
            "   --- ------------------------------------ 3.4/39.4 MB 5.9 MB/s eta 0:00:07\n",
            "   ---- ----------------------------------- 4.7/39.4 MB 5.9 MB/s eta 0:00:06\n",
            "   ----- ---------------------------------- 5.8/39.4 MB 5.8 MB/s eta 0:00:06\n",
            "   ------ --------------------------------- 6.8/39.4 MB 5.7 MB/s eta 0:00:06\n",
            "   ------- -------------------------------- 7.9/39.4 MB 5.7 MB/s eta 0:00:06\n",
            "   --------- ------------------------------ 9.2/39.4 MB 5.7 MB/s eta 0:00:06\n",
            "   ---------- ----------------------------- 10.2/39.4 MB 5.6 MB/s eta 0:00:06\n",
            "   ----------- ---------------------------- 11.3/39.4 MB 5.7 MB/s eta 0:00:05\n",
            "   ------------ --------------------------- 12.6/39.4 MB 5.6 MB/s eta 0:00:05\n",
            "   ------------- -------------------------- 13.6/39.4 MB 5.7 MB/s eta 0:00:05\n",
            "   --------------- ------------------------ 14.9/39.4 MB 5.7 MB/s eta 0:00:05\n",
            "   ---------------- ----------------------- 16.3/39.4 MB 5.7 MB/s eta 0:00:05\n",
            "   ----------------- ---------------------- 17.3/39.4 MB 5.7 MB/s eta 0:00:04\n",
            "   ------------------ --------------------- 18.6/39.4 MB 5.7 MB/s eta 0:00:04\n",
            "   ------------------- -------------------- 19.7/39.4 MB 5.7 MB/s eta 0:00:04\n",
            "   --------------------- ------------------ 20.7/39.4 MB 5.7 MB/s eta 0:00:04\n",
            "   ---------------------- ----------------- 22.0/39.4 MB 5.7 MB/s eta 0:00:04\n",
            "   ----------------------- ---------------- 23.3/39.4 MB 5.7 MB/s eta 0:00:03\n",
            "   ------------------------ --------------- 24.4/39.4 MB 5.7 MB/s eta 0:00:03\n",
            "   -------------------------- ------------- 25.7/39.4 MB 5.8 MB/s eta 0:00:03\n",
            "   --------------------------- ------------ 27.0/39.4 MB 5.7 MB/s eta 0:00:03\n",
            "   ---------------------------- ----------- 28.3/39.4 MB 5.8 MB/s eta 0:00:02\n",
            "   ------------------------------ --------- 29.6/39.4 MB 5.8 MB/s eta 0:00:02\n",
            "   ------------------------------- -------- 30.9/39.4 MB 5.8 MB/s eta 0:00:02\n",
            "   -------------------------------- ------- 32.0/39.4 MB 5.8 MB/s eta 0:00:02\n",
            "   --------------------------------- ------ 33.3/39.4 MB 5.8 MB/s eta 0:00:02\n",
            "   ---------------------------------- ----- 34.3/39.4 MB 5.8 MB/s eta 0:00:01\n",
            "   ------------------------------------ --- 35.7/39.4 MB 5.8 MB/s eta 0:00:01\n",
            "   ------------------------------------- -- 37.0/39.4 MB 5.8 MB/s eta 0:00:01\n",
            "   -------------------------------------- - 38.3/39.4 MB 5.8 MB/s eta 0:00:01\n",
            "   ---------------------------------------  39.3/39.4 MB 5.8 MB/s eta 0:00:01\n",
            "   ---------------------------------------- 39.4/39.4 MB 5.8 MB/s eta 0:00:00\n",
            "Downloading s3transfer-0.11.4-py3-none-any.whl (84 kB)\n",
            "Downloading tensorboard_data_server-0.7.2-py3-none-any.whl (2.4 kB)\n",
            "Downloading imagededup-0.3.2-cp310-cp310-win_amd64.whl (53 kB)\n",
            "Downloading pyproject_hooks-1.2.0-py3-none-any.whl (10 kB)\n",
            "Downloading arabic_reshaper-3.0.0-py3-none-any.whl (20 kB)\n",
            "Downloading html5lib-1.1-py2.py3-none-any.whl (112 kB)\n",
            "Downloading pyHanko-0.25.3-py3-none-any.whl (447 kB)\n",
            "Downloading pyhanko_certvalidator-0.26.5-py3-none-any.whl (109 kB)\n",
            "Downloading pypdf-5.3.1-py3-none-any.whl (302 kB)\n",
            "Downloading python_bidi-0.6.6-cp310-cp310-win_amd64.whl (160 kB)\n",
            "Downloading reportlab-3.6.13-cp310-cp310-win_amd64.whl (2.3 MB)\n",
            "   ---------------------------------------- 0.0/2.3 MB ? eta -:--:--\n",
            "   ----------------- ---------------------- 1.0/2.3 MB 5.6 MB/s eta 0:00:01\n",
            "   -------------------------- ------------- 1.6/2.3 MB 4.0 MB/s eta 0:00:01\n",
            "   ---------------------------------------- 2.3/2.3 MB 4.4 MB/s eta 0:00:00\n",
            "Downloading pywavelets-1.8.0-cp310-cp310-win_amd64.whl (4.2 MB)\n",
            "   ---------------------------------------- 0.0/4.2 MB ? eta -:--:--\n",
            "   --------- ------------------------------ 1.0/4.2 MB 6.3 MB/s eta 0:00:01\n",
            "   ---------------------- ----------------- 2.4/4.2 MB 5.8 MB/s eta 0:00:01\n",
            "   -------------------------------- ------- 3.4/4.2 MB 5.8 MB/s eta 0:00:01\n",
            "   ---------------------------------------- 4.2/4.2 MB 5.8 MB/s eta 0:00:00\n",
            "Downloading asn1crypto-1.5.1-py2.py3-none-any.whl (105 kB)\n",
            "Downloading cryptography-44.0.2-cp39-abi3-win_amd64.whl (3.2 MB)\n",
            "   ---------------------------------------- 0.0/3.2 MB ? eta -:--:--\n",
            "   ------------- -------------------------- 1.0/3.2 MB 5.6 MB/s eta 0:00:01\n",
            "   -------------------------- ------------- 2.1/3.2 MB 5.6 MB/s eta 0:00:01\n",
            "   ---------------------------------------  3.1/3.2 MB 5.4 MB/s eta 0:00:01\n",
            "   ---------------------------------------- 3.2/3.2 MB 4.8 MB/s eta 0:00:00\n",
            "Downloading oscrypto-1.3.0-py2.py3-none-any.whl (194 kB)\n",
            "Downloading tzlocal-5.3.1-py3-none-any.whl (18 kB)\n",
            "Downloading uritools-4.0.3-py3-none-any.whl (10 kB)\n",
            "Building wheels for collected packages: treelib, termcolor, stringcase, xhtml2pdf, coverage\n",
            "  Building wheel for treelib (setup.py): started\n",
            "  Building wheel for treelib (setup.py): finished with status 'done'\n",
            "  Created wheel for treelib: filename=treelib-1.6.1-py3-none-any.whl size=18380 sha256=6f63dd26882ac87b7eedfa9228bdc8eab090ec73b84eb9d8d94ba371ab3dd189\n",
            "  Stored in directory: c:\\users\\jahin catalan mahbub\\appdata\\local\\pip\\cache\\wheels\\63\\72\\8b\\76569b82bf280a03c4e294c3b29ee2398217186369c427ed4b\n",
            "  Building wheel for termcolor (setup.py): started\n",
            "  Building wheel for termcolor (setup.py): finished with status 'done'\n",
            "  Created wheel for termcolor: filename=termcolor-1.1.0-py3-none-any.whl size=4855 sha256=fa88fdb453df351ac077e06966540dd6d2eb149b7f52219743cd558522fc64a6\n",
            "  Stored in directory: c:\\users\\jahin catalan mahbub\\appdata\\local\\pip\\cache\\wheels\\a1\\49\\46\\1b13a65d8da11238af9616b00fdde6d45b0f95d9291bac8452\n",
            "  Building wheel for stringcase (setup.py): started\n",
            "  Building wheel for stringcase (setup.py): finished with status 'done'\n",
            "  Created wheel for stringcase: filename=stringcase-1.2.0-py3-none-any.whl size=3580 sha256=440204bf2c0a3436d0d7993da6c4ce266ecbbac8520fb5eb94bccdc53f5552a6\n",
            "  Stored in directory: c:\\users\\jahin catalan mahbub\\appdata\\local\\pip\\cache\\wheels\\31\\ba\\22\\1a2d952a9ce8aa86e42fda41e2c87fdaf20e238c88bf8df013\n",
            "  Building wheel for xhtml2pdf (setup.py): started\n",
            "  Building wheel for xhtml2pdf (setup.py): finished with status 'done'\n",
            "  Created wheel for xhtml2pdf: filename=xhtml2pdf-0.2.11-py3-none-any.whl size=263040 sha256=71e9408a90ea98010923ac71c983fa5b1664fff88dfe1312d6bebc72685f21da\n",
            "  Stored in directory: c:\\users\\jahin catalan mahbub\\appdata\\local\\pip\\cache\\wheels\\72\\77\\fb\\e473c11c4e30a7680bf5b1b7f1d07ef04932184a2f39118e8d\n",
            "  Building wheel for coverage (setup.py): started\n",
            "  Building wheel for coverage (setup.py): finished with status 'done'\n",
            "  Created wheel for coverage: filename=coverage-5.3.1-cp310-cp310-win_amd64.whl size=210233 sha256=8d9ed58b67336ce1d00956762588c14b8be82ab106ca8bfe72e03d823845d96b\n",
            "  Stored in directory: c:\\users\\jahin catalan mahbub\\appdata\\local\\pip\\cache\\wheels\\e2\\70\\10\\313be697f460d6024cfa94b7f0e22ffc1c53aab718fb4f42af\n",
            "Successfully built treelib termcolor stringcase xhtml2pdf coverage\n",
            "Installing collected packages: termcolor, stringcase, python-bidi, json-tricks, einops, asn1crypto, arabic-reshaper, werkzeug, uritools, tzlocal, treelib, tensorboard-data-server, setuptools, rapidfuzz, PyWavelets, pyproject-hooks, pypdf, pyDeprecate, pillow, oscrypto, opencv-python-headless, onnx, markdown, jmespath, imagesize, html5lib, grpcio, coverage, tensorboard, reportlab, hydra-core, cryptography, build, botocore, torchmetrics, s3transfer, pyhanko-certvalidator, pip-tools, onnxsim, pyHanko, imagededup, boto3, xhtml2pdf, data-gradients\n",
            "  Attempting uninstall: termcolor\n",
            "    Found existing installation: termcolor 2.4.0\n",
            "    Uninstalling termcolor-2.4.0:\n",
            "      Successfully uninstalled termcolor-2.4.0\n",
            "  Attempting uninstall: einops\n",
            "    Found existing installation: einops 0.8.0\n",
            "    Uninstalling einops-0.8.0:\n",
            "      Successfully uninstalled einops-0.8.0\n",
            "  Attempting uninstall: setuptools\n",
            "    Found existing installation: setuptools 63.2.0\n",
            "    Uninstalling setuptools-63.2.0:\n",
            "      Successfully uninstalled setuptools-63.2.0\n",
            "  Attempting uninstall: pillow\n",
            "    Found existing installation: Pillow 9.5.0\n",
            "    Uninstalling Pillow-9.5.0:\n",
            "      Successfully uninstalled Pillow-9.5.0\n",
            "  Attempting uninstall: opencv-python-headless\n",
            "    Found existing installation: opencv-python-headless 4.7.0.72\n",
            "    Uninstalling opencv-python-headless-4.7.0.72:\n",
            "      Successfully uninstalled opencv-python-headless-4.7.0.72\n",
            "  Attempting uninstall: reportlab\n",
            "    Found existing installation: reportlab 4.2.2\n",
            "    Uninstalling reportlab-4.2.2:\n",
            "      Successfully uninstalled reportlab-4.2.2\n",
            "  Attempting uninstall: cryptography\n",
            "    Found existing installation: cryptography 43.0.1\n",
            "    Uninstalling cryptography-43.0.1:\n",
            "      Successfully uninstalled cryptography-43.0.1\n",
            "Successfully installed PyWavelets-1.8.0 arabic-reshaper-3.0.0 asn1crypto-1.5.1 boto3-1.37.8 botocore-1.37.8 build-1.2.2.post1 coverage-5.3.1 cryptography-44.0.2 data-gradients-0.3.2 einops-0.3.2 grpcio-1.70.0 html5lib-1.1 hydra-core-1.3.2 imagededup-0.3.2 imagesize-1.4.1 jmespath-1.0.1 json-tricks-3.16.1 markdown-3.7 onnx-1.15.0 onnxsim-0.4.36 opencv-python-headless-4.11.0.86 oscrypto-1.3.0 pillow-11.1.0 pip-tools-7.4.1 pyDeprecate-0.3.2 pyHanko-0.25.3 pyhanko-certvalidator-0.26.5 pypdf-5.3.1 pyproject-hooks-1.2.0 python-bidi-0.6.6 rapidfuzz-3.12.2 reportlab-3.6.13 s3transfer-0.11.4 setuptools-66.1.1 stringcase-1.2.0 tensorboard-2.19.0 tensorboard-data-server-0.7.2 termcolor-1.1.0 torchmetrics-0.8.0 treelib-1.6.1 tzlocal-5.3.1 uritools-4.0.3 werkzeug-3.1.3 xhtml2pdf-0.2.11\n"
          ]
        },
        {
          "output_type": "stream",
          "name": "stderr",
          "text": [
            "  WARNING: Failed to remove contents in a temporary directory 'C:\\Users\\Jahin Catalan Mahbub\\AppData\\Local\\Programs\\Python\\Python310\\Lib\\site-packages\\~il'.\n",
            "  You can safely remove it manually.\n",
            "ERROR: pip's dependency resolver does not currently take into account all the packages that are installed. This behaviour is the source of the following dependency conflicts.\n",
            "img2texture 1.0.6 requires pillow<10,>=9.2, but you have pillow 11.1.0 which is incompatible.\n"
          ]
        }
      ]
    },
    {
      "cell_type": "code",
      "source": [
        "# Install YOLO-NAS dependencies (SuperGradients)\n",
        "!pip install super-gradients==3.2.1"
      ],
      "metadata": {
        "colab": {
          "base_uri": "https://localhost:8080/"
        },
        "id": "7g-gCSWcuKNV",
        "outputId": "98afdfb3-5bbf-4d5c-e99c-080d1f68cd40"
      },
      "execution_count": null,
      "outputs": [
        {
          "output_type": "stream",
          "name": "stdout",
          "text": [
            "Collecting super-gradients==3.2.1\n",
            "  Downloading super_gradients-3.2.1-py3-none-any.whl.metadata (35 kB)\n",
            "Requirement already satisfied: torch>=1.9.0 in c:\\users\\jahin catalan mahbub\\appdata\\local\\programs\\python\\python310\\lib\\site-packages (from super-gradients==3.2.1) (2.5.1+cu124)\n",
            "Requirement already satisfied: tqdm>=4.57.0 in c:\\users\\jahin catalan mahbub\\appdata\\local\\programs\\python\\python310\\lib\\site-packages (from super-gradients==3.2.1) (4.66.5)\n",
            "Requirement already satisfied: boto3>=1.17.15 in c:\\users\\jahin catalan mahbub\\appdata\\local\\programs\\python\\python310\\lib\\site-packages (from super-gradients==3.2.1) (1.37.8)\n",
            "Requirement already satisfied: jsonschema>=3.2.0 in c:\\users\\jahin catalan mahbub\\appdata\\local\\programs\\python\\python310\\lib\\site-packages (from super-gradients==3.2.1) (4.23.0)\n",
            "Requirement already satisfied: Deprecated>=1.2.11 in c:\\users\\jahin catalan mahbub\\appdata\\local\\programs\\python\\python310\\lib\\site-packages (from super-gradients==3.2.1) (1.2.14)\n",
            "Requirement already satisfied: opencv-python>=4.5.1 in c:\\users\\jahin catalan mahbub\\appdata\\local\\programs\\python\\python310\\lib\\site-packages (from super-gradients==3.2.1) (4.10.0.84)\n",
            "Requirement already satisfied: scipy>=1.6.1 in c:\\users\\jahin catalan mahbub\\appdata\\local\\programs\\python\\python310\\lib\\site-packages (from super-gradients==3.2.1) (1.14.1)\n",
            "Requirement already satisfied: matplotlib>=3.3.4 in c:\\users\\jahin catalan mahbub\\appdata\\local\\programs\\python\\python310\\lib\\site-packages (from super-gradients==3.2.1) (3.9.2)\n",
            "Requirement already satisfied: psutil>=5.8.0 in c:\\users\\jahin catalan mahbub\\appdata\\local\\programs\\python\\python310\\lib\\site-packages (from super-gradients==3.2.1) (6.0.0)\n",
            "Requirement already satisfied: tensorboard>=2.4.1 in c:\\users\\jahin catalan mahbub\\appdata\\local\\programs\\python\\python310\\lib\\site-packages (from super-gradients==3.2.1) (2.19.0)\n",
            "Requirement already satisfied: setuptools>=21.0.0 in c:\\users\\jahin catalan mahbub\\appdata\\local\\programs\\python\\python310\\lib\\site-packages (from super-gradients==3.2.1) (66.1.1)\n",
            "Requirement already satisfied: coverage~=5.3.1 in c:\\users\\jahin catalan mahbub\\appdata\\local\\programs\\python\\python310\\lib\\site-packages (from super-gradients==3.2.1) (5.3.1)\n",
            "Requirement already satisfied: torchvision>=0.10.0 in c:\\users\\jahin catalan mahbub\\appdata\\local\\programs\\python\\python310\\lib\\site-packages (from super-gradients==3.2.1) (0.20.1+cu124)\n",
            "Collecting sphinx~=4.0.2 (from super-gradients==3.2.1)\n",
            "  Downloading Sphinx-4.0.3-py3-none-any.whl.metadata (8.0 kB)\n",
            "Collecting sphinx-rtd-theme (from super-gradients==3.2.1)\n",
            "  Downloading sphinx_rtd_theme-3.0.2-py2.py3-none-any.whl.metadata (4.4 kB)\n",
            "Requirement already satisfied: torchmetrics==0.8 in c:\\users\\jahin catalan mahbub\\appdata\\local\\programs\\python\\python310\\lib\\site-packages (from super-gradients==3.2.1) (0.8.0)\n",
            "Requirement already satisfied: hydra-core>=1.2.0 in c:\\users\\jahin catalan mahbub\\appdata\\local\\programs\\python\\python310\\lib\\site-packages (from super-gradients==3.2.1) (1.3.2)\n",
            "Requirement already satisfied: omegaconf in c:\\users\\jahin catalan mahbub\\appdata\\local\\programs\\python\\python310\\lib\\site-packages (from super-gradients==3.2.1) (2.3.0)\n",
            "Collecting onnxruntime==1.13.1 (from super-gradients==3.2.1)\n",
            "  Downloading onnxruntime-1.13.1-cp310-cp310-win_amd64.whl.metadata (3.8 kB)\n",
            "Collecting onnx==1.13.0 (from super-gradients==3.2.1)\n",
            "  Downloading onnx-1.13.0-cp310-cp310-win_amd64.whl.metadata (14 kB)\n",
            "Requirement already satisfied: pillow!=8.3,>=5.3.0 in c:\\users\\jahin catalan mahbub\\appdata\\local\\programs\\python\\python310\\lib\\site-packages (from super-gradients==3.2.1) (11.1.0)\n",
            "Requirement already satisfied: pip-tools>=6.12.1 in c:\\users\\jahin catalan mahbub\\appdata\\local\\programs\\python\\python310\\lib\\site-packages (from super-gradients==3.2.1) (7.4.1)\n",
            "Collecting pyparsing==2.4.5 (from super-gradients==3.2.1)\n",
            "  Downloading pyparsing-2.4.5-py2.py3-none-any.whl.metadata (3.6 kB)\n",
            "Requirement already satisfied: einops==0.3.2 in c:\\users\\jahin catalan mahbub\\appdata\\local\\programs\\python\\python310\\lib\\site-packages (from super-gradients==3.2.1) (0.3.2)\n",
            "Collecting pycocotools==2.0.6 (from super-gradients==3.2.1)\n",
            "  Downloading pycocotools-2.0.6.tar.gz (24 kB)\n",
            "  Installing build dependencies: started\n",
            "  Installing build dependencies: finished with status 'done'\n",
            "  Getting requirements to build wheel: started\n",
            "  Getting requirements to build wheel: finished with status 'done'\n",
            "  Preparing metadata (pyproject.toml): started\n",
            "  Preparing metadata (pyproject.toml): finished with status 'done'\n",
            "Collecting protobuf==3.20.3 (from super-gradients==3.2.1)\n",
            "  Downloading protobuf-3.20.3-cp310-cp310-win_amd64.whl.metadata (698 bytes)\n",
            "Requirement already satisfied: treelib==1.6.1 in c:\\users\\jahin catalan mahbub\\appdata\\local\\programs\\python\\python310\\lib\\site-packages (from super-gradients==3.2.1) (1.6.1)\n",
            "Requirement already satisfied: termcolor==1.1.0 in c:\\users\\jahin catalan mahbub\\appdata\\local\\programs\\python\\python310\\lib\\site-packages (from super-gradients==3.2.1) (1.1.0)\n",
            "Requirement already satisfied: packaging>=20.4 in c:\\users\\jahin catalan mahbub\\appdata\\local\\programs\\python\\python310\\lib\\site-packages (from super-gradients==3.2.1) (24.1)\n",
            "Requirement already satisfied: wheel>=0.38.0 in c:\\users\\jahin catalan mahbub\\appdata\\local\\programs\\python\\python310\\lib\\site-packages (from super-gradients==3.2.1) (0.45.0)\n",
            "Requirement already satisfied: pygments>=2.7.4 in c:\\users\\jahin catalan mahbub\\appdata\\local\\programs\\python\\python310\\lib\\site-packages (from super-gradients==3.2.1) (2.18.0)\n",
            "Requirement already satisfied: stringcase>=1.2.0 in c:\\users\\jahin catalan mahbub\\appdata\\local\\programs\\python\\python310\\lib\\site-packages (from super-gradients==3.2.1) (1.2.0)\n",
            "Collecting numpy<=1.23 (from super-gradients==3.2.1)\n",
            "  Downloading numpy-1.23.0-cp310-cp310-win_amd64.whl.metadata (2.2 kB)\n",
            "Requirement already satisfied: rapidfuzz in c:\\users\\jahin catalan mahbub\\appdata\\local\\programs\\python\\python310\\lib\\site-packages (from super-gradients==3.2.1) (3.12.2)\n",
            "Requirement already satisfied: json-tricks==3.16.1 in c:\\users\\jahin catalan mahbub\\appdata\\local\\programs\\python\\python310\\lib\\site-packages (from super-gradients==3.2.1) (3.16.1)\n",
            "Collecting onnx-simplifier<1.0,>=0.3.6 (from super-gradients==3.2.1)\n",
            "  Downloading onnx_simplifier-0.4.36-cp310-cp310-win_amd64.whl.metadata (4.4 kB)\n",
            "Requirement already satisfied: typing-extensions>=3.6.2.1 in c:\\users\\jahin catalan mahbub\\appdata\\local\\programs\\python\\python310\\lib\\site-packages (from onnx==1.13.0->super-gradients==3.2.1) (4.12.2)\n",
            "Requirement already satisfied: coloredlogs in c:\\users\\jahin catalan mahbub\\appdata\\local\\programs\\python\\python310\\lib\\site-packages (from onnxruntime==1.13.1->super-gradients==3.2.1) (15.0.1)\n",
            "Requirement already satisfied: flatbuffers in c:\\users\\jahin catalan mahbub\\appdata\\local\\programs\\python\\python310\\lib\\site-packages (from onnxruntime==1.13.1->super-gradients==3.2.1) (24.3.25)\n",
            "Requirement already satisfied: sympy in c:\\users\\jahin catalan mahbub\\appdata\\local\\programs\\python\\python310\\lib\\site-packages (from onnxruntime==1.13.1->super-gradients==3.2.1) (1.13.1)\n",
            "Requirement already satisfied: pyDeprecate==0.3.* in c:\\users\\jahin catalan mahbub\\appdata\\local\\programs\\python\\python310\\lib\\site-packages (from torchmetrics==0.8->super-gradients==3.2.1) (0.3.2)\n",
            "Requirement already satisfied: future in c:\\users\\jahin catalan mahbub\\appdata\\local\\programs\\python\\python310\\lib\\site-packages (from treelib==1.6.1->super-gradients==3.2.1) (1.0.0)\n",
            "Requirement already satisfied: botocore<1.38.0,>=1.37.8 in c:\\users\\jahin catalan mahbub\\appdata\\local\\programs\\python\\python310\\lib\\site-packages (from boto3>=1.17.15->super-gradients==3.2.1) (1.37.8)\n",
            "Requirement already satisfied: jmespath<2.0.0,>=0.7.1 in c:\\users\\jahin catalan mahbub\\appdata\\local\\programs\\python\\python310\\lib\\site-packages (from boto3>=1.17.15->super-gradients==3.2.1) (1.0.1)\n",
            "Requirement already satisfied: s3transfer<0.12.0,>=0.11.0 in c:\\users\\jahin catalan mahbub\\appdata\\local\\programs\\python\\python310\\lib\\site-packages (from boto3>=1.17.15->super-gradients==3.2.1) (0.11.4)\n",
            "Requirement already satisfied: wrapt<2,>=1.10 in c:\\users\\jahin catalan mahbub\\appdata\\local\\programs\\python\\python310\\lib\\site-packages (from Deprecated>=1.2.11->super-gradients==3.2.1) (1.16.0)\n",
            "Requirement already satisfied: antlr4-python3-runtime==4.9.* in c:\\users\\jahin catalan mahbub\\appdata\\local\\programs\\python\\python310\\lib\\site-packages (from hydra-core>=1.2.0->super-gradients==3.2.1) (4.9.3)\n",
            "Requirement already satisfied: attrs>=22.2.0 in c:\\users\\jahin catalan mahbub\\appdata\\local\\programs\\python\\python310\\lib\\site-packages (from jsonschema>=3.2.0->super-gradients==3.2.1) (24.2.0)\n",
            "Requirement already satisfied: jsonschema-specifications>=2023.03.6 in c:\\users\\jahin catalan mahbub\\appdata\\local\\programs\\python\\python310\\lib\\site-packages (from jsonschema>=3.2.0->super-gradients==3.2.1) (2023.12.1)\n",
            "Requirement already satisfied: referencing>=0.28.4 in c:\\users\\jahin catalan mahbub\\appdata\\local\\programs\\python\\python310\\lib\\site-packages (from jsonschema>=3.2.0->super-gradients==3.2.1) (0.35.1)\n",
            "Requirement already satisfied: rpds-py>=0.7.1 in c:\\users\\jahin catalan mahbub\\appdata\\local\\programs\\python\\python310\\lib\\site-packages (from jsonschema>=3.2.0->super-gradients==3.2.1) (0.20.0)\n",
            "Requirement already satisfied: contourpy>=1.0.1 in c:\\users\\jahin catalan mahbub\\appdata\\local\\programs\\python\\python310\\lib\\site-packages (from matplotlib>=3.3.4->super-gradients==3.2.1) (1.3.0)\n",
            "Requirement already satisfied: cycler>=0.10 in c:\\users\\jahin catalan mahbub\\appdata\\local\\programs\\python\\python310\\lib\\site-packages (from matplotlib>=3.3.4->super-gradients==3.2.1) (0.12.1)\n",
            "Requirement already satisfied: fonttools>=4.22.0 in c:\\users\\jahin catalan mahbub\\appdata\\local\\programs\\python\\python310\\lib\\site-packages (from matplotlib>=3.3.4->super-gradients==3.2.1) (4.53.1)\n",
            "Requirement already satisfied: kiwisolver>=1.3.1 in c:\\users\\jahin catalan mahbub\\appdata\\local\\programs\\python\\python310\\lib\\site-packages (from matplotlib>=3.3.4->super-gradients==3.2.1) (1.4.7)\n",
            "Requirement already satisfied: python-dateutil>=2.7 in c:\\users\\jahin catalan mahbub\\appdata\\local\\programs\\python\\python310\\lib\\site-packages (from matplotlib>=3.3.4->super-gradients==3.2.1) (2.9.0.post0)\n",
            "Requirement already satisfied: PyYAML>=5.1.0 in c:\\users\\jahin catalan mahbub\\appdata\\local\\programs\\python\\python310\\lib\\site-packages (from omegaconf->super-gradients==3.2.1) (6.0.2)\n",
            "Requirement already satisfied: rich in c:\\users\\jahin catalan mahbub\\appdata\\local\\programs\\python\\python310\\lib\\site-packages (from onnx-simplifier<1.0,>=0.3.6->super-gradients==3.2.1) (13.8.0)\n",
            "Requirement already satisfied: build>=1.0.0 in c:\\users\\jahin catalan mahbub\\appdata\\local\\programs\\python\\python310\\lib\\site-packages (from pip-tools>=6.12.1->super-gradients==3.2.1) (1.2.2.post1)\n",
            "Requirement already satisfied: click>=8 in c:\\users\\jahin catalan mahbub\\appdata\\local\\programs\\python\\python310\\lib\\site-packages (from pip-tools>=6.12.1->super-gradients==3.2.1) (8.1.7)\n",
            "Requirement already satisfied: pip>=22.2 in c:\\users\\jahin catalan mahbub\\appdata\\local\\programs\\python\\python310\\lib\\site-packages (from pip-tools>=6.12.1->super-gradients==3.2.1) (25.0.1)\n",
            "Requirement already satisfied: pyproject-hooks in c:\\users\\jahin catalan mahbub\\appdata\\local\\programs\\python\\python310\\lib\\site-packages (from pip-tools>=6.12.1->super-gradients==3.2.1) (1.2.0)\n",
            "Requirement already satisfied: tomli in c:\\users\\jahin catalan mahbub\\appdata\\local\\programs\\python\\python310\\lib\\site-packages (from pip-tools>=6.12.1->super-gradients==3.2.1) (2.0.1)\n",
            "INFO: pip is looking at multiple versions of scipy to determine which version is compatible with other requirements. This could take a while.\n",
            "Collecting scipy>=1.6.1 (from super-gradients==3.2.1)\n",
            "  Downloading scipy-1.15.2-cp310-cp310-win_amd64.whl.metadata (60 kB)\n",
            "  Downloading scipy-1.15.1-cp310-cp310-win_amd64.whl.metadata (60 kB)\n",
            "  Downloading scipy-1.15.0-cp310-cp310-win_amd64.whl.metadata (60 kB)\n",
            "  Downloading scipy-1.14.0-cp310-cp310-win_amd64.whl.metadata (60 kB)\n",
            "  Downloading scipy-1.13.1-cp310-cp310-win_amd64.whl.metadata (60 kB)\n",
            "Collecting sphinxcontrib-applehelp (from sphinx~=4.0.2->super-gradients==3.2.1)\n",
            "  Downloading sphinxcontrib_applehelp-2.0.0-py3-none-any.whl.metadata (2.3 kB)\n",
            "Collecting sphinxcontrib-devhelp (from sphinx~=4.0.2->super-gradients==3.2.1)\n",
            "  Downloading sphinxcontrib_devhelp-2.0.0-py3-none-any.whl.metadata (2.3 kB)\n",
            "Collecting sphinxcontrib-jsmath (from sphinx~=4.0.2->super-gradients==3.2.1)\n",
            "  Downloading sphinxcontrib_jsmath-1.0.1-py2.py3-none-any.whl.metadata (1.4 kB)\n",
            "Collecting sphinxcontrib-htmlhelp (from sphinx~=4.0.2->super-gradients==3.2.1)\n",
            "  Downloading sphinxcontrib_htmlhelp-2.1.0-py3-none-any.whl.metadata (2.3 kB)\n",
            "Collecting sphinxcontrib-serializinghtml (from sphinx~=4.0.2->super-gradients==3.2.1)\n",
            "  Downloading sphinxcontrib_serializinghtml-2.0.0-py3-none-any.whl.metadata (2.4 kB)\n",
            "Collecting sphinxcontrib-qthelp (from sphinx~=4.0.2->super-gradients==3.2.1)\n",
            "  Downloading sphinxcontrib_qthelp-2.0.0-py3-none-any.whl.metadata (2.3 kB)\n",
            "Requirement already satisfied: Jinja2>=2.3 in c:\\users\\jahin catalan mahbub\\appdata\\local\\programs\\python\\python310\\lib\\site-packages (from sphinx~=4.0.2->super-gradients==3.2.1) (3.1.4)\n",
            "Collecting docutils<0.18,>=0.14 (from sphinx~=4.0.2->super-gradients==3.2.1)\n",
            "  Downloading docutils-0.17.1-py2.py3-none-any.whl.metadata (2.9 kB)\n",
            "Collecting snowballstemmer>=1.1 (from sphinx~=4.0.2->super-gradients==3.2.1)\n",
            "  Downloading snowballstemmer-2.2.0-py2.py3-none-any.whl.metadata (6.5 kB)\n",
            "Requirement already satisfied: babel>=1.3 in c:\\users\\jahin catalan mahbub\\appdata\\local\\programs\\python\\python310\\lib\\site-packages (from sphinx~=4.0.2->super-gradients==3.2.1) (2.17.0)\n",
            "Collecting alabaster<0.8,>=0.7 (from sphinx~=4.0.2->super-gradients==3.2.1)\n",
            "  Downloading alabaster-0.7.16-py3-none-any.whl.metadata (2.9 kB)\n",
            "Requirement already satisfied: imagesize in c:\\users\\jahin catalan mahbub\\appdata\\local\\programs\\python\\python310\\lib\\site-packages (from sphinx~=4.0.2->super-gradients==3.2.1) (1.4.1)\n",
            "Requirement already satisfied: requests>=2.5.0 in c:\\users\\jahin catalan mahbub\\appdata\\local\\programs\\python\\python310\\lib\\site-packages (from sphinx~=4.0.2->super-gradients==3.2.1) (2.32.3)\n",
            "Requirement already satisfied: colorama>=0.3.5 in c:\\users\\jahin catalan mahbub\\appdata\\local\\programs\\python\\python310\\lib\\site-packages (from sphinx~=4.0.2->super-gradients==3.2.1) (0.4.6)\n",
            "Requirement already satisfied: absl-py>=0.4 in c:\\users\\jahin catalan mahbub\\appdata\\local\\programs\\python\\python310\\lib\\site-packages (from tensorboard>=2.4.1->super-gradients==3.2.1) (2.1.0)\n",
            "Requirement already satisfied: grpcio>=1.48.2 in c:\\users\\jahin catalan mahbub\\appdata\\local\\programs\\python\\python310\\lib\\site-packages (from tensorboard>=2.4.1->super-gradients==3.2.1) (1.70.0)\n",
            "Requirement already satisfied: markdown>=2.6.8 in c:\\users\\jahin catalan mahbub\\appdata\\local\\programs\\python\\python310\\lib\\site-packages (from tensorboard>=2.4.1->super-gradients==3.2.1) (3.7)\n",
            "Requirement already satisfied: six>1.9 in c:\\users\\jahin catalan mahbub\\appdata\\local\\programs\\python\\python310\\lib\\site-packages (from tensorboard>=2.4.1->super-gradients==3.2.1) (1.16.0)\n",
            "Requirement already satisfied: tensorboard-data-server<0.8.0,>=0.7.0 in c:\\users\\jahin catalan mahbub\\appdata\\local\\programs\\python\\python310\\lib\\site-packages (from tensorboard>=2.4.1->super-gradients==3.2.1) (0.7.2)\n",
            "Requirement already satisfied: werkzeug>=1.0.1 in c:\\users\\jahin catalan mahbub\\appdata\\local\\programs\\python\\python310\\lib\\site-packages (from tensorboard>=2.4.1->super-gradients==3.2.1) (3.1.3)\n",
            "Requirement already satisfied: filelock in c:\\users\\jahin catalan mahbub\\appdata\\local\\programs\\python\\python310\\lib\\site-packages (from torch>=1.9.0->super-gradients==3.2.1) (3.15.4)\n",
            "Requirement already satisfied: networkx in c:\\users\\jahin catalan mahbub\\appdata\\local\\programs\\python\\python310\\lib\\site-packages (from torch>=1.9.0->super-gradients==3.2.1) (3.3)\n",
            "Requirement already satisfied: fsspec in c:\\users\\jahin catalan mahbub\\appdata\\local\\programs\\python\\python310\\lib\\site-packages (from torch>=1.9.0->super-gradients==3.2.1) (2024.9.0)\n",
            "Requirement already satisfied: mpmath<1.4,>=1.1.0 in c:\\users\\jahin catalan mahbub\\appdata\\local\\programs\\python\\python310\\lib\\site-packages (from sympy->onnxruntime==1.13.1->super-gradients==3.2.1) (1.3.0)\n",
            "INFO: pip is looking at multiple versions of sphinx-rtd-theme to determine which version is compatible with other requirements. This could take a while.\n",
            "Collecting sphinx-rtd-theme (from super-gradients==3.2.1)\n",
            "  Downloading sphinx_rtd_theme-3.0.1-py2.py3-none-any.whl.metadata (4.4 kB)\n",
            "  Downloading sphinx_rtd_theme-3.0.0-py2.py3-none-any.whl.metadata (4.4 kB)\n",
            "  Downloading sphinx_rtd_theme-2.0.0-py2.py3-none-any.whl.metadata (4.4 kB)\n",
            "  Downloading sphinx_rtd_theme-1.3.0-py2.py3-none-any.whl.metadata (4.5 kB)\n",
            "Collecting sphinxcontrib-jquery<5,>=4 (from sphinx-rtd-theme->super-gradients==3.2.1)\n",
            "  Downloading sphinxcontrib_jquery-4.1-py2.py3-none-any.whl.metadata (2.6 kB)\n",
            "Requirement already satisfied: urllib3!=2.2.0,<3,>=1.25.4 in c:\\users\\jahin catalan mahbub\\appdata\\local\\programs\\python\\python310\\lib\\site-packages (from botocore<1.38.0,>=1.37.8->boto3>=1.17.15->super-gradients==3.2.1) (1.26.20)\n",
            "Requirement already satisfied: MarkupSafe>=2.0 in c:\\users\\jahin catalan mahbub\\appdata\\local\\programs\\python\\python310\\lib\\site-packages (from Jinja2>=2.3->sphinx~=4.0.2->super-gradients==3.2.1) (2.1.5)\n",
            "Requirement already satisfied: charset-normalizer<4,>=2 in c:\\users\\jahin catalan mahbub\\appdata\\local\\programs\\python\\python310\\lib\\site-packages (from requests>=2.5.0->sphinx~=4.0.2->super-gradients==3.2.1) (3.3.2)\n",
            "Requirement already satisfied: idna<4,>=2.5 in c:\\users\\jahin catalan mahbub\\appdata\\local\\programs\\python\\python310\\lib\\site-packages (from requests>=2.5.0->sphinx~=4.0.2->super-gradients==3.2.1) (3.8)\n",
            "Requirement already satisfied: certifi>=2017.4.17 in c:\\users\\jahin catalan mahbub\\appdata\\local\\programs\\python\\python310\\lib\\site-packages (from requests>=2.5.0->sphinx~=4.0.2->super-gradients==3.2.1) (2024.8.30)\n",
            "Requirement already satisfied: humanfriendly>=9.1 in c:\\users\\jahin catalan mahbub\\appdata\\local\\programs\\python\\python310\\lib\\site-packages (from coloredlogs->onnxruntime==1.13.1->super-gradients==3.2.1) (10.0)\n",
            "Requirement already satisfied: markdown-it-py>=2.2.0 in c:\\users\\jahin catalan mahbub\\appdata\\local\\programs\\python\\python310\\lib\\site-packages (from rich->onnx-simplifier<1.0,>=0.3.6->super-gradients==3.2.1) (3.0.0)\n",
            "Requirement already satisfied: pyreadline3 in c:\\users\\jahin catalan mahbub\\appdata\\local\\programs\\python\\python310\\lib\\site-packages (from humanfriendly>=9.1->coloredlogs->onnxruntime==1.13.1->super-gradients==3.2.1) (3.4.1)\n",
            "Requirement already satisfied: mdurl~=0.1 in c:\\users\\jahin catalan mahbub\\appdata\\local\\programs\\python\\python310\\lib\\site-packages (from markdown-it-py>=2.2.0->rich->onnx-simplifier<1.0,>=0.3.6->super-gradients==3.2.1) (0.1.2)\n",
            "Downloading super_gradients-3.2.1-py3-none-any.whl (6.4 MB)\n",
            "   ---------------------------------------- 0.0/6.4 MB ? eta -:--:--\n",
            "   --- ------------------------------------ 0.5/6.4 MB 2.4 MB/s eta 0:00:03\n",
            "   ------ --------------------------------- 1.0/6.4 MB 2.8 MB/s eta 0:00:02\n",
            "   --------- ------------------------------ 1.6/6.4 MB 2.5 MB/s eta 0:00:02\n",
            "   ------------- -------------------------- 2.1/6.4 MB 2.8 MB/s eta 0:00:02\n",
            "   ------------- -------------------------- 2.1/6.4 MB 2.8 MB/s eta 0:00:02\n",
            "   ------------------ --------------------- 2.9/6.4 MB 2.3 MB/s eta 0:00:02\n",
            "   ----------------------- ---------------- 3.7/6.4 MB 2.5 MB/s eta 0:00:02\n",
            "   --------------------------- ------------ 4.5/6.4 MB 2.8 MB/s eta 0:00:01\n",
            "   -------------------------------- ------- 5.2/6.4 MB 2.9 MB/s eta 0:00:01\n",
            "   ------------------------------------- -- 6.0/6.4 MB 3.0 MB/s eta 0:00:01\n",
            "   ---------------------------------------- 6.4/6.4 MB 3.0 MB/s eta 0:00:00\n",
            "Downloading onnx-1.13.0-cp310-cp310-win_amd64.whl (12.2 MB)\n",
            "   ---------------------------------------- 0.0/12.2 MB ? eta -:--:--\n",
            "   -- ------------------------------------- 0.8/12.2 MB 3.7 MB/s eta 0:00:04\n",
            "   ---- ----------------------------------- 1.3/12.2 MB 3.5 MB/s eta 0:00:04\n",
            "   ------ --------------------------------- 2.1/12.2 MB 3.7 MB/s eta 0:00:03\n",
            "   ---------- ----------------------------- 3.1/12.2 MB 3.8 MB/s eta 0:00:03\n",
            "   ------------ --------------------------- 3.9/12.2 MB 3.9 MB/s eta 0:00:03\n",
            "   --------------- ------------------------ 4.7/12.2 MB 3.9 MB/s eta 0:00:02\n",
            "   ------------------ --------------------- 5.5/12.2 MB 3.9 MB/s eta 0:00:02\n",
            "   --------------------- ------------------ 6.6/12.2 MB 4.0 MB/s eta 0:00:02\n",
            "   ------------------------- -------------- 7.6/12.2 MB 4.1 MB/s eta 0:00:02\n",
            "   --------------------------- ------------ 8.4/12.2 MB 4.2 MB/s eta 0:00:01\n",
            "   --------------------------- ------------ 8.4/12.2 MB 4.2 MB/s eta 0:00:01\n",
            "   --------------------------- ------------ 8.4/12.2 MB 4.2 MB/s eta 0:00:01\n",
            "   ---------------------------- ----------- 8.7/12.2 MB 3.2 MB/s eta 0:00:02\n",
            "   ------------------------------- -------- 9.4/12.2 MB 3.3 MB/s eta 0:00:01\n",
            "   ------------------------------- -------- 9.7/12.2 MB 3.2 MB/s eta 0:00:01\n",
            "   ---------------------------------- ----- 10.5/12.2 MB 3.2 MB/s eta 0:00:01\n",
            "   ------------------------------------- -- 11.3/12.2 MB 3.2 MB/s eta 0:00:01\n",
            "   ---------------------------------------  12.1/12.2 MB 3.3 MB/s eta 0:00:01\n",
            "   ---------------------------------------- 12.2/12.2 MB 3.2 MB/s eta 0:00:00\n",
            "Downloading onnxruntime-1.13.1-cp310-cp310-win_amd64.whl (5.9 MB)\n",
            "   ---------------------------------------- 0.0/5.9 MB ? eta -:--:--\n",
            "   ----- ---------------------------------- 0.8/5.9 MB 4.2 MB/s eta 0:00:02\n",
            "   ---------- ----------------------------- 1.6/5.9 MB 4.2 MB/s eta 0:00:02\n",
            "   ----------------- ---------------------- 2.6/5.9 MB 4.2 MB/s eta 0:00:01\n",
            "   ---------------------- ----------------- 3.4/5.9 MB 4.0 MB/s eta 0:00:01\n",
            "   ---------------------------- ----------- 4.2/5.9 MB 4.1 MB/s eta 0:00:01\n",
            "   ----------------------------------- ---- 5.2/5.9 MB 4.2 MB/s eta 0:00:01\n",
            "   ---------------------------------------- 5.9/5.9 MB 4.3 MB/s eta 0:00:00\n",
            "Downloading protobuf-3.20.3-cp310-cp310-win_amd64.whl (904 kB)\n",
            "   ---------------------------------------- 0.0/904.0 kB ? eta -:--:--\n",
            "   ---------------------------------------- 904.0/904.0 kB 4.1 MB/s eta 0:00:00\n",
            "Downloading pyparsing-2.4.5-py2.py3-none-any.whl (67 kB)\n",
            "Downloading numpy-1.23.0-cp310-cp310-win_amd64.whl (14.6 MB)\n",
            "   ---------------------------------------- 0.0/14.6 MB ? eta -:--:--\n",
            "   -- ------------------------------------- 0.8/14.6 MB 4.2 MB/s eta 0:00:04\n",
            "   ----- ---------------------------------- 1.8/14.6 MB 4.6 MB/s eta 0:00:03\n",
            "   ------- -------------------------------- 2.6/14.6 MB 4.4 MB/s eta 0:00:03\n",
            "   --------- ------------------------------ 3.4/14.6 MB 4.3 MB/s eta 0:00:03\n",
            "   ------------ --------------------------- 4.5/14.6 MB 4.4 MB/s eta 0:00:03\n",
            "   -------------- ------------------------- 5.2/14.6 MB 4.3 MB/s eta 0:00:03\n",
            "   ---------------- ----------------------- 6.0/14.6 MB 4.2 MB/s eta 0:00:03\n",
            "   ------------------- -------------------- 7.1/14.6 MB 4.3 MB/s eta 0:00:02\n",
            "   --------------------- ------------------ 7.9/14.6 MB 4.3 MB/s eta 0:00:02\n",
            "   ------------------------ --------------- 8.9/14.6 MB 4.4 MB/s eta 0:00:02\n",
            "   --------------------------- ------------ 10.0/14.6 MB 4.4 MB/s eta 0:00:02\n",
            "   ----------------------------- ---------- 10.7/14.6 MB 4.4 MB/s eta 0:00:01\n",
            "   -------------------------------- ------- 11.8/14.6 MB 4.4 MB/s eta 0:00:01\n",
            "   ---------------------------------- ----- 12.6/14.6 MB 4.4 MB/s eta 0:00:01\n",
            "   ------------------------------------- -- 13.6/14.6 MB 4.5 MB/s eta 0:00:01\n",
            "   ---------------------------------------  14.4/14.6 MB 4.4 MB/s eta 0:00:01\n",
            "   ---------------------------------------- 14.6/14.6 MB 4.4 MB/s eta 0:00:00\n",
            "Downloading onnx_simplifier-0.4.36-cp310-cp310-win_amd64.whl (1.3 MB)\n",
            "   ---------------------------------------- 0.0/1.3 MB ? eta -:--:--\n",
            "   ------------------------ --------------- 0.8/1.3 MB 3.7 MB/s eta 0:00:01\n",
            "   ---------------------------------------- 1.3/1.3 MB 3.9 MB/s eta 0:00:00\n",
            "Downloading scipy-1.13.1-cp310-cp310-win_amd64.whl (46.2 MB)\n",
            "   ---------------------------------------- 0.0/46.2 MB ? eta -:--:--\n",
            "    --------------------------------------- 0.8/46.2 MB 4.2 MB/s eta 0:00:11\n",
            "   - -------------------------------------- 1.8/46.2 MB 4.8 MB/s eta 0:00:10\n",
            "   -- ------------------------------------- 2.9/46.2 MB 4.7 MB/s eta 0:00:10\n",
            "   --- ------------------------------------ 3.7/46.2 MB 4.4 MB/s eta 0:00:10\n",
            "   --- ------------------------------------ 4.5/46.2 MB 4.5 MB/s eta 0:00:10\n",
            "   ---- ----------------------------------- 5.5/46.2 MB 4.5 MB/s eta 0:00:09\n",
            "   ----- ---------------------------------- 6.6/46.2 MB 4.5 MB/s eta 0:00:09\n",
            "   ------ --------------------------------- 7.3/46.2 MB 4.5 MB/s eta 0:00:09\n",
            "   ------- -------------------------------- 8.1/46.2 MB 4.5 MB/s eta 0:00:09\n",
            "   ------- -------------------------------- 9.2/46.2 MB 4.5 MB/s eta 0:00:09\n",
            "   -------- ------------------------------- 10.2/46.2 MB 4.5 MB/s eta 0:00:09\n",
            "   --------- ------------------------------ 11.3/46.2 MB 4.6 MB/s eta 0:00:08\n",
            "   ---------- ----------------------------- 12.1/46.2 MB 4.5 MB/s eta 0:00:08\n",
            "   ----------- ---------------------------- 13.4/46.2 MB 4.7 MB/s eta 0:00:08\n",
            "   ------------ --------------------------- 14.4/46.2 MB 4.7 MB/s eta 0:00:07\n",
            "   ------------- -------------------------- 15.2/46.2 MB 4.7 MB/s eta 0:00:07\n",
            "   -------------- ------------------------- 16.5/46.2 MB 4.7 MB/s eta 0:00:07\n",
            "   --------------- ------------------------ 17.6/46.2 MB 4.8 MB/s eta 0:00:07\n",
            "   --------------- ------------------------ 18.4/46.2 MB 4.7 MB/s eta 0:00:06\n",
            "   ----------------- ---------------------- 19.7/46.2 MB 4.8 MB/s eta 0:00:06\n",
            "   ----------------- ---------------------- 20.7/46.2 MB 4.8 MB/s eta 0:00:06\n",
            "   ------------------ --------------------- 21.8/46.2 MB 4.8 MB/s eta 0:00:06\n",
            "   ------------------- -------------------- 22.8/46.2 MB 4.8 MB/s eta 0:00:05\n",
            "   -------------------- ------------------- 23.9/46.2 MB 4.9 MB/s eta 0:00:05\n",
            "   --------------------- ------------------ 25.2/46.2 MB 4.9 MB/s eta 0:00:05\n",
            "   ---------------------- ----------------- 26.2/46.2 MB 4.9 MB/s eta 0:00:05\n",
            "   ----------------------- ---------------- 27.3/46.2 MB 4.9 MB/s eta 0:00:04\n",
            "   ------------------------ --------------- 28.6/46.2 MB 5.0 MB/s eta 0:00:04\n",
            "   ------------------------- -------------- 29.6/46.2 MB 5.0 MB/s eta 0:00:04\n",
            "   -------------------------- ------------- 30.7/46.2 MB 5.0 MB/s eta 0:00:04\n",
            "   --------------------------- ------------ 31.7/46.2 MB 5.0 MB/s eta 0:00:03\n",
            "   ---------------------------- ----------- 32.8/46.2 MB 5.0 MB/s eta 0:00:03\n",
            "   ----------------------------- ---------- 33.8/46.2 MB 5.0 MB/s eta 0:00:03\n",
            "   ------------------------------ --------- 34.9/46.2 MB 5.0 MB/s eta 0:00:03\n",
            "   ------------------------------ --------- 35.7/46.2 MB 5.0 MB/s eta 0:00:03\n",
            "   ------------------------------- -------- 36.7/46.2 MB 5.0 MB/s eta 0:00:02\n",
            "   -------------------------------- ------- 37.7/46.2 MB 5.0 MB/s eta 0:00:02\n",
            "   --------------------------------- ------ 38.8/46.2 MB 5.0 MB/s eta 0:00:02\n",
            "   ---------------------------------- ----- 39.8/46.2 MB 5.0 MB/s eta 0:00:02\n",
            "   ----------------------------------- ---- 40.6/46.2 MB 5.0 MB/s eta 0:00:02\n",
            "   ------------------------------------ --- 41.7/46.2 MB 5.0 MB/s eta 0:00:01\n",
            "   ------------------------------------- -- 43.0/46.2 MB 5.0 MB/s eta 0:00:01\n",
            "   -------------------------------------- - 44.0/46.2 MB 5.0 MB/s eta 0:00:01\n",
            "   ---------------------------------------  45.1/46.2 MB 5.0 MB/s eta 0:00:01\n",
            "   ---------------------------------------  46.1/46.2 MB 5.0 MB/s eta 0:00:01\n",
            "   ---------------------------------------- 46.2/46.2 MB 5.0 MB/s eta 0:00:00\n",
            "Downloading Sphinx-4.0.3-py3-none-any.whl (2.9 MB)\n",
            "   ---------------------------------------- 0.0/2.9 MB ? eta -:--:--\n",
            "   ---------- ----------------------------- 0.8/2.9 MB 4.8 MB/s eta 0:00:01\n",
            "   ---------------------------- ----------- 2.1/2.9 MB 5.3 MB/s eta 0:00:01\n",
            "   ---------------------------------------- 2.9/2.9 MB 5.4 MB/s eta 0:00:00\n",
            "Downloading sphinx_rtd_theme-1.3.0-py2.py3-none-any.whl (2.8 MB)\n",
            "   ---------------------------------------- 0.0/2.8 MB ? eta -:--:--\n",
            "   -------------- ------------------------- 1.0/2.8 MB 6.3 MB/s eta 0:00:01\n",
            "   ----------------------------- ---------- 2.1/2.8 MB 5.6 MB/s eta 0:00:01\n",
            "   ---------------------------------------- 2.8/2.8 MB 5.7 MB/s eta 0:00:00\n",
            "Downloading alabaster-0.7.16-py3-none-any.whl (13 kB)\n",
            "Downloading docutils-0.17.1-py2.py3-none-any.whl (575 kB)\n",
            "   ---------------------------------------- 0.0/575.5 kB ? eta -:--:--\n",
            "   ---------------------------------------- 575.5/575.5 kB 4.0 MB/s eta 0:00:00\n",
            "Downloading snowballstemmer-2.2.0-py2.py3-none-any.whl (93 kB)\n",
            "Downloading sphinxcontrib_jquery-4.1-py2.py3-none-any.whl (121 kB)\n",
            "Downloading sphinxcontrib_applehelp-2.0.0-py3-none-any.whl (119 kB)\n",
            "Downloading sphinxcontrib_devhelp-2.0.0-py3-none-any.whl (82 kB)\n",
            "Downloading sphinxcontrib_htmlhelp-2.1.0-py3-none-any.whl (98 kB)\n",
            "Downloading sphinxcontrib_jsmath-1.0.1-py2.py3-none-any.whl (5.1 kB)\n",
            "Downloading sphinxcontrib_qthelp-2.0.0-py3-none-any.whl (88 kB)\n",
            "Downloading sphinxcontrib_serializinghtml-2.0.0-py3-none-any.whl (92 kB)\n",
            "Building wheels for collected packages: pycocotools\n",
            "  Building wheel for pycocotools (pyproject.toml): started\n",
            "  Building wheel for pycocotools (pyproject.toml): finished with status 'done'\n",
            "  Created wheel for pycocotools: filename=pycocotools-2.0.6-cp310-cp310-win_amd64.whl size=83852 sha256=1bad5e5c26685d3013ddfc2f9d66afda0772bd49b145b8e70c9b6e3b99fd8172\n",
            "  Stored in directory: c:\\users\\jahin catalan mahbub\\appdata\\local\\pip\\cache\\wheels\\58\\e6\\f9\\f87c8f8be098b51b616871315318329cae12cdb618f4caac93\n",
            "Successfully built pycocotools\n",
            "Installing collected packages: snowballstemmer, sphinxcontrib-serializinghtml, sphinxcontrib-qthelp, sphinxcontrib-jsmath, sphinxcontrib-htmlhelp, sphinxcontrib-devhelp, sphinxcontrib-applehelp, pyparsing, protobuf, numpy, docutils, alabaster, sphinx, scipy, onnx, sphinxcontrib-jquery, onnxruntime, onnx-simplifier, sphinx-rtd-theme, pycocotools, super-gradients\n",
            "  Attempting uninstall: pyparsing\n",
            "    Found existing installation: pyparsing 3.1.4\n",
            "    Uninstalling pyparsing-3.1.4:\n",
            "      Successfully uninstalled pyparsing-3.1.4\n",
            "  Attempting uninstall: protobuf\n",
            "    Found existing installation: protobuf 4.25.4\n",
            "    Uninstalling protobuf-4.25.4:\n",
            "      Successfully uninstalled protobuf-4.25.4\n",
            "  Attempting uninstall: numpy\n",
            "    Found existing installation: numpy 1.26.4\n",
            "    Uninstalling numpy-1.26.4:\n",
            "      Successfully uninstalled numpy-1.26.4\n",
            "  Attempting uninstall: scipy\n",
            "    Found existing installation: scipy 1.14.1\n",
            "    Uninstalling scipy-1.14.1:\n",
            "      Successfully uninstalled scipy-1.14.1\n",
            "  Attempting uninstall: onnx\n",
            "    Found existing installation: onnx 1.15.0\n",
            "    Uninstalling onnx-1.15.0:\n",
            "      Successfully uninstalled onnx-1.15.0\n",
            "  Attempting uninstall: onnxruntime\n",
            "    Found existing installation: onnxruntime 1.19.2\n",
            "    Uninstalling onnxruntime-1.19.2:\n",
            "      Successfully uninstalled onnxruntime-1.19.2\n",
            "  Attempting uninstall: pycocotools\n",
            "    Found existing installation: pycocotools 2.0.8\n",
            "    Uninstalling pycocotools-2.0.8:\n",
            "      Successfully uninstalled pycocotools-2.0.8\n",
            "Successfully installed alabaster-0.7.16 docutils-0.17.1 numpy-1.23.0 onnx-1.13.0 onnx-simplifier-0.4.36 onnxruntime-1.13.1 protobuf-3.20.3 pycocotools-2.0.6 pyparsing-2.4.5 scipy-1.13.1 snowballstemmer-2.2.0 sphinx-4.0.3 sphinx-rtd-theme-1.3.0 sphinxcontrib-applehelp-2.0.0 sphinxcontrib-devhelp-2.0.0 sphinxcontrib-htmlhelp-2.1.0 sphinxcontrib-jquery-4.1 sphinxcontrib-jsmath-1.0.1 sphinxcontrib-qthelp-2.0.0 sphinxcontrib-serializinghtml-2.0.0 super-gradients-3.2.1\n"
          ]
        },
        {
          "output_type": "stream",
          "name": "stderr",
          "text": [
            "  WARNING: Failed to remove contents in a temporary directory 'C:\\Users\\Jahin Catalan Mahbub\\AppData\\Local\\Programs\\Python\\Python310\\Lib\\site-packages\\~umpy.libs'.\n",
            "  You can safely remove it manually.\n",
            "  WARNING: Failed to remove contents in a temporary directory 'C:\\Users\\Jahin Catalan Mahbub\\AppData\\Local\\Programs\\Python\\Python310\\Lib\\site-packages\\~umpy'.\n",
            "  You can safely remove it manually.\n",
            "  WARNING: Failed to remove contents in a temporary directory 'C:\\Users\\Jahin Catalan Mahbub\\AppData\\Local\\Programs\\Python\\Python310\\Lib\\site-packages\\~cipy.libs'.\n",
            "  You can safely remove it manually.\n",
            "  WARNING: Failed to remove contents in a temporary directory 'C:\\Users\\Jahin Catalan Mahbub\\AppData\\Local\\Programs\\Python\\Python310\\Lib\\site-packages\\~cipy'.\n",
            "  You can safely remove it manually.\n",
            "  WARNING: Failed to remove contents in a temporary directory 'C:\\Users\\Jahin Catalan Mahbub\\AppData\\Local\\Programs\\Python\\Python310\\Lib\\site-packages\\~ycocotools'.\n",
            "  You can safely remove it manually.\n",
            "ERROR: pip's dependency resolver does not currently take into account all the packages that are installed. This behaviour is the source of the following dependency conflicts.\n",
            "albucore 0.0.14 requires numpy>=1.24, but you have numpy 1.23.0 which is incompatible.\n",
            "albumentations 1.4.14 requires numpy>=1.24.4, but you have numpy 1.23.0 which is incompatible.\n",
            "jax 0.4.31 requires numpy>=1.24, but you have numpy 1.23.0 which is incompatible.\n",
            "jaxlib 0.4.31 requires numpy>=1.24, but you have numpy 1.23.0 which is incompatible.\n",
            "mediapipe 0.10.14 requires protobuf<5,>=4.25.3, but you have protobuf 3.20.3 which is incompatible.\n",
            "rasterio 1.4.2 requires numpy>=1.24, but you have numpy 1.23.0 which is incompatible.\n"
          ]
        }
      ]
    },
    {
      "cell_type": "code",
      "source": [
        "!pip install super-gradients"
      ],
      "metadata": {
        "id": "yCWddEJ_2QF_"
      },
      "execution_count": null,
      "outputs": []
    },
    {
      "cell_type": "code",
      "source": [
        "import torch\n",
        "print(torch.cuda.is_available())\n",
        "print(torch.cuda.get_device_name(0))"
      ],
      "metadata": {
        "id": "Y2AZQ-V13mn9",
        "colab": {
          "base_uri": "https://localhost:8080/"
        },
        "outputId": "39185916-fee0-4aac-bca0-5ff01d6843b1"
      },
      "execution_count": 1,
      "outputs": [
        {
          "output_type": "stream",
          "name": "stdout",
          "text": [
            "True\n",
            "NVIDIA GeForce RTX 3090\n"
          ]
        }
      ]
    },
    {
      "cell_type": "code",
      "source": [
        "from ultralytics import YOLO\n",
        "\n",
        "# Load a model\n",
        "model = YOLO(\"yolo11l.pt\")"
      ],
      "metadata": {
        "colab": {
          "base_uri": "https://localhost:8080/"
        },
        "id": "vlDJA9_W3KPM",
        "outputId": "9d84822a-3d13-4a43-fccb-e770b13d9269"
      },
      "execution_count": null,
      "outputs": [
        {
          "output_type": "stream",
          "name": "stderr",
          "text": [
            "100%|█████████████████████████████████████████████████████████████████████████████| 49.0M/49.0M [00:08<00:00, 6.05MB/s]\n"
          ]
        }
      ]
    },
    {
      "cell_type": "code",
      "source": [
        "import os\n",
        "print(os.listdir('C:/Strawberry.v6i.yolov11/train/images'))"
      ],
      "metadata": {
        "id": "cxoEmr9nCUC8",
        "colab": {
          "base_uri": "https://localhost:8080/"
        },
        "outputId": "80b8637a-f370-4baa-cbad-d8d8563b3666"
      },
      "execution_count": 2,
      "outputs": [
        {
          "output_type": "stream",
          "name": "stdout",
          "text": [
            "['DJI_0001_JPG.rf.031cca1a26ef081be538cbf157bd9a26.jpg', 'DJI_0001_JPG.rf.1c2735f18d56dab7f9d5f7eec766a1bc.jpg', 'DJI_0001_JPG.rf.225d622bfd9bc2800dc6ba25f1741713.jpg', 'DJI_0001_JPG.rf.2aeedfffa80ee46a7641775c4fde0a26.jpg', 'DJI_0001_JPG.rf.3700cf5742e774cbc53acdb9bbfc33cb.jpg', 'DJI_0001_JPG.rf.37b1786d509e2a70ea27e69280f5cf01.jpg', 'DJI_0001_JPG.rf.3b1cefd031752ebce23e21e13d82a8c2.jpg', 'DJI_0001_JPG.rf.3fbc85f63de2d5c0204098521b560e9a.jpg', 'DJI_0001_JPG.rf.449018d864ba2ca019b313df9c94d6f1.jpg', 'DJI_0001_JPG.rf.598f5afc7c396c35979b9b5ac2e646e7.jpg', 'DJI_0001_JPG.rf.7b8f6cbd0c7e103a251607f8f956485e.jpg', 'DJI_0001_JPG.rf.8a26e0f30b940b1b5dc9797f49a13c77.jpg', 'DJI_0001_JPG.rf.8ea9f0d2f3f2dfe1484f41ad5b9b8684.jpg', 'DJI_0001_JPG.rf.9443fdcc487d445cf84f46ae373d72e3.jpg', 'DJI_0001_JPG.rf.99694557626f0528405ca49e0b16ce0b.jpg', 'DJI_0001_JPG.rf.a3c216c3fe614905766638ad9ccc832f.jpg', 'DJI_0001_JPG.rf.b018262195b98babbd2d76c7ed3b739b.jpg', 'DJI_0001_JPG.rf.b8150c8b54a6996b8df52d39c70ada73.jpg', 'DJI_0001_JPG.rf.c0d3244b2b1a375c2f8acaf2ca95612c.jpg', 'DJI_0001_JPG.rf.dc67d7cc84faf890f218f18a4ab6ced2.jpg', 'DJI_0001_JPG.rf.e2e8b61e580074968c6202f3dfdfd4ea.jpg', 'DJI_0001_JPG.rf.e6a407b052a393e3cf0d8226089c86f2.jpg', 'DJI_0001_JPG.rf.f07f4f6f59e2f569256bb6b03e16ef19.jpg', 'DJI_0001_JPG.rf.f703eea078b5a6a0466b928e245ea8e4.jpg', 'DJI_0001_JPG.rf.f96642d86b39f29f7289fb49da5c6268.jpg', 'DJI_0001_JPG.rf.ff7af3f426767fd2799803c662a2debb.jpg', 'DJI_0001_JPG.rf.ffee8145da26581b7d0b5c8511ddd44d.jpg', 'DJI_0005_JPG.rf.1816999570c8baafeb75307a9da0f0eb.jpg', 'DJI_0005_JPG.rf.201ba614630793045629c7d78bc5fb58.jpg', 'DJI_0005_JPG.rf.2cbbfa3d921054cd80fb52076af666c8.jpg', 'DJI_0005_JPG.rf.2f520fa1bc3e2808d47327b2500f1b25.jpg', 'DJI_0005_JPG.rf.355b6da627b5092692dbb48300383d56.jpg', 'DJI_0005_JPG.rf.49c8726819ebddc434c2a3c33a10460d.jpg', 'DJI_0005_JPG.rf.4aeb8769f53915704a5b4c3cd37a6dfd.jpg', 'DJI_0005_JPG.rf.5ae00b00f6ce48a6fb6775d8c5974b71.jpg', 'DJI_0005_JPG.rf.69625714c7b42466d6a7dc3fd207ca93.jpg', 'DJI_0005_JPG.rf.779de4e0763f95199e0eb566b6517511.jpg', 'DJI_0005_JPG.rf.7892e1f3bf49150db9eb7ad22d76bba3.jpg', 'DJI_0005_JPG.rf.7a02d84e349baf7101eb9e4e75c7623b.jpg', 'DJI_0005_JPG.rf.861b2abe5acfbbc4e6c3b202aa91045f.jpg', 'DJI_0005_JPG.rf.9feb29219e741af043ff14722d9739fe.jpg', 'DJI_0005_JPG.rf.afe8177db01561639ef09910e51ff23d.jpg', 'DJI_0005_JPG.rf.b0b2dc859dc1fd74f22491f2ff4567f3.jpg', 'DJI_0005_JPG.rf.b748961366c00267556df8732ce8666e.jpg', 'DJI_0005_JPG.rf.c251c659df4cdd629d0d602bd7fb6865.jpg', 'DJI_0005_JPG.rf.c6ac579ed91d0c62bf27a5fee0838219.jpg', 'DJI_0005_JPG.rf.c7199c45770b3a25615018951a0d2165.jpg', 'DJI_0005_JPG.rf.decb96b6741048249ac626b6c4344fa1.jpg', 'DJI_0005_JPG.rf.e2778c46154e9242cfaad0469f26d2c4.jpg', 'DJI_0005_JPG.rf.e85c7e10896f131191b2c79b7cd8dad9.jpg', 'DJI_0005_JPG.rf.f0c91bc4046f39eab43b46551b0d4d06.jpg', 'DJI_0005_JPG.rf.f5aa119b9b3d6e9e24f0d4df06a74a17.jpg', 'DJI_0005_JPG.rf.fd2639bab340492603ba4ec1dad34b60.jpg', 'DJI_0005_JPG.rf.ff2857e2c4f2e7b05b7943b15519b60c.jpg', 'DJI_0006_JPG.rf.02b9d985d84ec072c7023b8cf1d6abb9.jpg', 'DJI_0006_JPG.rf.0fbc4cb28bd8b32e0c0f9ae016d22c2c.jpg', 'DJI_0006_JPG.rf.185ca53eac82a4785495d3772450b148.jpg', 'DJI_0006_JPG.rf.201342ff7534ce0c22c853cf0128aaf4.jpg', 'DJI_0006_JPG.rf.3c0dbfbc491acc33fba181208a2f9e32.jpg', 'DJI_0006_JPG.rf.3d6f98671c6a13c58803b9ed4ff48715.jpg', 'DJI_0006_JPG.rf.419058d424b8cd1f108c102757a48e80.jpg', 'DJI_0006_JPG.rf.550a905d7954a1c02ca457a25d7d2300.jpg', 'DJI_0006_JPG.rf.5638b992d322130711cf25c463ac2b75.jpg', 'DJI_0006_JPG.rf.72370e4f21bd458432d52d64e67d34fe.jpg', 'DJI_0006_JPG.rf.7bb4e21558d63945bb5ef0cb14153bff.jpg', 'DJI_0006_JPG.rf.7fb7c820eea303af3c7447952c310dc9.jpg', 'DJI_0006_JPG.rf.801750f64a9097463399fe0d9544a4bc.jpg', 'DJI_0006_JPG.rf.854687b8a6c1ff5011bcd1e8cfb74f6a.jpg', 'DJI_0006_JPG.rf.89935dc4c3712946fd28a656753a964a.jpg', 'DJI_0006_JPG.rf.9509909197379706a5b79aa71a04d7a4.jpg', 'DJI_0006_JPG.rf.b7b16733a29ef8153f1758f40ed0f786.jpg', 'DJI_0006_JPG.rf.b911389caea07711a23b5f08f5e7e07b.jpg', 'DJI_0006_JPG.rf.c6c4ba01b7d3cdeebcc05c183189c9be.jpg', 'DJI_0006_JPG.rf.e202e4fd5f870b6591052a88f87fc518.jpg', 'DJI_0006_JPG.rf.e46df39dcdb2feeeb858a13f6a02bcab.jpg', 'DJI_0006_JPG.rf.ee8829b66bf16305af9d180f1751a328.jpg', 'DJI_0008_JPG.rf.11deea348aab3903258b3aec0e0787de.jpg', 'DJI_0008_JPG.rf.270f9572edad8e892639cd37e9c25e3d.jpg', 'DJI_0008_JPG.rf.29db07f59118ed96bc5c91bcd2142d00.jpg', 'DJI_0008_JPG.rf.2d632fa5c7fc2f08fc78e30cea724c35.jpg', 'DJI_0008_JPG.rf.30449419a026faf9852e688bcd56643c.jpg', 'DJI_0008_JPG.rf.34f119b790871437bcd24e2c7b10000b.jpg', 'DJI_0008_JPG.rf.4ff14cdefbfca4c42b13fedaeaba325c.jpg', 'DJI_0008_JPG.rf.510d58f36b94c93fff40270617649ad7.jpg', 'DJI_0008_JPG.rf.5240ab352e030cbb16905ea48443388f.jpg', 'DJI_0008_JPG.rf.53374c7d5317701ae4ed4b369e8a489a.jpg', 'DJI_0008_JPG.rf.55bf737297c32d86305ea9a7dc99a88f.jpg', 'DJI_0008_JPG.rf.5e5884492b9552b380f1965d0386a009.jpg', 'DJI_0008_JPG.rf.73ca5157d1fff852b1c023dc68ef54fd.jpg', 'DJI_0008_JPG.rf.8065548d217d11defdb9c5ab3dd6db67.jpg', 'DJI_0008_JPG.rf.82b30c25e8d6ca7ea17d19033f7e4df9.jpg', 'DJI_0008_JPG.rf.84c4a5437bb205fa67051a7826f9f7a8.jpg', 'DJI_0008_JPG.rf.ab04bce9337bff8a485fd8c3e8fcdd4c.jpg', 'DJI_0008_JPG.rf.d3bf17fa8d85b8ec6105de4a7b711f96.jpg', 'DJI_0008_JPG.rf.dab1788ac09b30a7bcdf321522d15f09.jpg', 'DJI_0008_JPG.rf.ea741166075e34a98f83a306ba8bd21c.jpg', 'DJI_0009_JPG.rf.0844d2d61438b1924ddb35fd71691dc6.jpg', 'DJI_0009_JPG.rf.0c9e0e368de7c222f7ec6ba723400ccb.jpg', 'DJI_0009_JPG.rf.1903f3f111a43544c07a318c21bcb0e2.jpg', 'DJI_0009_JPG.rf.21fa808c5d3ecb14c117b1ced26d578a.jpg', 'DJI_0009_JPG.rf.241883ce838fd43d908d8da24f698a0e.jpg', 'DJI_0009_JPG.rf.271a9246b58cb087322cc972168a12b9.jpg', 'DJI_0009_JPG.rf.379f1eed7a4fa45b5c35dacb271f6c3a.jpg', 'DJI_0009_JPG.rf.3de350bb76e8d4f2abea68eef2000020.jpg', 'DJI_0009_JPG.rf.44456706f422f1ad659292c12ca1a77d.jpg', 'DJI_0009_JPG.rf.4e77e15a7a6763e4ddfcf6621e42da60.jpg', 'DJI_0009_JPG.rf.6489441d6ce513f5053435d6ab9a6afe.jpg', 'DJI_0009_JPG.rf.8d139e9ce3d053c4b3cfcf9bde947ebe.jpg', 'DJI_0009_JPG.rf.9db369a0dec37124ca63fc2b5ca276ea.jpg', 'DJI_0009_JPG.rf.b4a136a995878aa407d607d3cb51e556.jpg', 'DJI_0009_JPG.rf.b8bb6e9134db797ba721d4ef922335b9.jpg', 'DJI_0009_JPG.rf.c0b5efa864e5796c466b5c084c8bfd6b.jpg', 'DJI_0009_JPG.rf.c63dcfb35c4354d5f109f78de960e5af.jpg', 'DJI_0009_JPG.rf.d184b422207f504a5c016a74f0c8ae55.jpg', 'DJI_0009_JPG.rf.d1b85926220a50aceb5c367de5e811a7.jpg', 'DJI_0009_JPG.rf.e2f6e597a6267eb3b9de0c3994ceca11.jpg', 'DJI_0009_JPG.rf.e6e6f5aba94a7d758383d0efe00d0540.jpg', 'DJI_0009_JPG.rf.e6f26b62f7c689efbbd361b4205a65c0.jpg', 'DJI_0009_JPG.rf.e869d764a41e62e68cdaab61f4ee7b69.jpg', 'DJI_0009_JPG.rf.f4507f95ea13f3197ee9971437fefe3e.jpg', 'DJI_0009_JPG.rf.f887c7e44812e55981aa0ef8ac4b1c06.jpg', 'DJI_0009_JPG.rf.fce32c1e22f09b895a971a03318c929f.jpg', 'DJI_0010_JPG.rf.0c080e89b91fa166314332f431119c23.jpg', 'DJI_0010_JPG.rf.0cc34b27a76d28c6f49f7443aa73f005.jpg', 'DJI_0010_JPG.rf.0cf54396e3579bf95189cb8e42fadd11.jpg', 'DJI_0010_JPG.rf.0d818403591ac542c60213f779171b8a.jpg', 'DJI_0010_JPG.rf.147ef71bd26290e9145a412b1cfa37d8.jpg', 'DJI_0010_JPG.rf.17376cb04e271557854dd5ac6dd7c333.jpg', 'DJI_0010_JPG.rf.1e6ac447cdd5b67ac50402d69236450d.jpg', 'DJI_0010_JPG.rf.1e99745c042c7b8e2d1d0073d62a76b0.jpg', 'DJI_0010_JPG.rf.21b4ac596d3bd1c7133cb3a76444b41c.jpg', 'DJI_0010_JPG.rf.375037f0b88c71fa4d7cb360e06c560b.jpg', 'DJI_0010_JPG.rf.48773a20363f32f76ba3dc9c7cce1bee.jpg', 'DJI_0010_JPG.rf.497f2a88830bd2c0615388fc8d8f78fb.jpg', 'DJI_0010_JPG.rf.54a7a2d90b52da69bb0c7352522b01e4.jpg', 'DJI_0010_JPG.rf.5af44b44047ecbdec828295deb8f6fb2.jpg', 'DJI_0010_JPG.rf.63610692ae0e510d32f9677b32ede1ad.jpg', 'DJI_0010_JPG.rf.638bebe338ccf8095db68f23a863afc8.jpg', 'DJI_0010_JPG.rf.66544cc2ce638c91e6e59785a1c07896.jpg', 'DJI_0010_JPG.rf.6f6d2128c258111bb1604f20070abfe6.jpg', 'DJI_0010_JPG.rf.7136683ca8d86bb67c9e8896bce17bf7.jpg', 'DJI_0010_JPG.rf.80f2d2f57f549d037e81a78070a489ba.jpg', 'DJI_0010_JPG.rf.885981c5b76df0e3404698bdccac1b75.jpg', 'DJI_0010_JPG.rf.951aee37a7edcb8121e802c5594d8a75.jpg', 'DJI_0010_JPG.rf.95bf270b2bf8cad3978b9f35206af466.jpg', 'DJI_0010_JPG.rf.96135bc2c9f516cb0e9cbe4cb5e95a67.jpg', 'DJI_0010_JPG.rf.adde90c7e8552e4b84ee3f8b70e510ef.jpg', 'DJI_0010_JPG.rf.ae7988ed8c8efa0b4aa5f5ff597905ee.jpg', 'DJI_0010_JPG.rf.bd50662f37241259c43142ea515cd1b7.jpg', 'DJI_0010_JPG.rf.bea9fa0a7a6d374e9e7f8cb351894566.jpg', 'DJI_0010_JPG.rf.c3cffd03301ab68966b59df5982383e3.jpg', 'DJI_0010_JPG.rf.d2f79cafc72b0d2c32b2342fc4340505.jpg', 'DJI_0010_JPG.rf.d577504c17f1f793f505d735a015ba49.jpg', 'DJI_0010_JPG.rf.dd0d071822a8972442507f78a413e4d2.jpg', 'DJI_0010_JPG.rf.e0661c02331e32c37cc9a49f5dbb2085.jpg', 'DJI_0010_JPG.rf.e5c483f7a857b9ed4837041d96254492.jpg', 'DJI_0010_JPG.rf.e6af3e129f3f28448851be47ddc90be5.jpg', 'DJI_0010_JPG.rf.eb3981e87e0f58c18cac1f78429de844.jpg', 'DJI_0010_JPG.rf.eb6f9d6220eae05ab90f8eb4285cbee2.jpg', 'DJI_0010_JPG.rf.f4980f313a96cfe67a11db4ec53f8ebd.jpg', 'DJI_0010_JPG.rf.fad7b2496b6fadb50f2b76ae2a652fe9.jpg', 'DJI_0013_JPG.rf.02b76ccdaa1e41b6ac233f3ac193d8cb.jpg', 'DJI_0013_JPG.rf.1345feac171fbff5ffeba572d47f5031.jpg', 'DJI_0013_JPG.rf.166a74a00c1eed537c7da290c3857a22.jpg', 'DJI_0013_JPG.rf.18ec1c070ace775831b2ac8df68b8dd5.jpg', 'DJI_0013_JPG.rf.47405ca73c9ce800a8ca2bde72bc5d42.jpg', 'DJI_0013_JPG.rf.4e8e9a90921a5150b5eca8d544858cb9.jpg', 'DJI_0013_JPG.rf.52da7f23260948502de937c9e34ec0af.jpg', 'DJI_0013_JPG.rf.536f8d5b7f6b738256d07b6364fec46f.jpg', 'DJI_0013_JPG.rf.55e218649dd5bd85746ecc57e851e038.jpg', 'DJI_0013_JPG.rf.594f019f0309121dd6d54b4d2d605291.jpg', 'DJI_0013_JPG.rf.698ddb81f461e7d99a8d15efb551b012.jpg', 'DJI_0013_JPG.rf.703588fdae0f35cfad720bcf9785bfb6.jpg', 'DJI_0013_JPG.rf.7420ec1b36cfdd6692cef0f41aa6d1b1.jpg', 'DJI_0013_JPG.rf.781432766c3699f28ddfcb5b4f9ff448.jpg', 'DJI_0013_JPG.rf.7b89045ebb829a20df761f16e8860b35.jpg', 'DJI_0013_JPG.rf.83697b13773e473556c438d73c63288f.jpg', 'DJI_0013_JPG.rf.876ebeca3ab356a4b3405fe4adc7b0b8.jpg', 'DJI_0013_JPG.rf.9109a66e5b807e2b7e079b12d0a07f26.jpg', 'DJI_0013_JPG.rf.94b76f9a5acb09872974bf3c5f25f0bc.jpg', 'DJI_0013_JPG.rf.984d8d684c1d8606de214f0625b06972.jpg', 'DJI_0013_JPG.rf.9c4dc55ace14b486df757ff3f0ed0214.jpg', 'DJI_0013_JPG.rf.a9e7c4c685e6ab4ee6a8b7feada7e348.jpg', 'DJI_0013_JPG.rf.bb026e4d10daf594185674d17ef17c4c.jpg', 'DJI_0013_JPG.rf.bbd1aa7dc4e91aed43dc97cb81e05e90.jpg', 'DJI_0013_JPG.rf.c31c495611413c710de54d25aa937aab.jpg', 'DJI_0013_JPG.rf.c85a36e7c8335372419edb88d944992b.jpg', 'DJI_0013_JPG.rf.ca774cb727d7b20260b88bbc36cbfef6.jpg', 'DJI_0013_JPG.rf.cd83e72d7560c9b5bdd20da668e9612d.jpg', 'DJI_0013_JPG.rf.d4c7746544ac0423a7374f527cc3ef91.jpg', 'DJI_0013_JPG.rf.decbf9b5dc47730a07c0db4e2852f5db.jpg', 'DJI_0013_JPG.rf.e8c452b407ffb0521df6ab136623920f.jpg', 'DJI_0013_JPG.rf.eb1e1692e2934e2717e7b723563c6daa.jpg', 'DJI_0013_JPG.rf.f88e6ce00a64e8eb855ba9c00f6dd535.jpg', 'DJI_0013_JPG.rf.fee6e545cc58ef9b646bacf846206155.jpg', 'DJI_0045_JPG.rf.08ff51cd8687fad0309e747be5e753d6.jpg', 'DJI_0045_JPG.rf.099751193d5e15db1259948b90dfb7f0.jpg', 'DJI_0045_JPG.rf.0e87c366de531f07a3afc51c1517bd43.jpg', 'DJI_0045_JPG.rf.0f7286f1454f3d33a2d7d9f0ab0ccd97.jpg', 'DJI_0045_JPG.rf.1355515c54ad0ed7f55305bafed63d2c.jpg', 'DJI_0045_JPG.rf.1a32b32046f68ff42ceeaa126170a084.jpg', 'DJI_0045_JPG.rf.1a64b75fe9428b483928429200303250.jpg', 'DJI_0045_JPG.rf.1e447af762da232e51b7d7fc7a45a943.jpg', 'DJI_0045_JPG.rf.1ec9b912386b87ea94ae2497c5b4cf54.jpg', 'DJI_0045_JPG.rf.1f9b3d8de5c200a837b8d207aca108f8.jpg', 'DJI_0045_JPG.rf.21e158cf37519c7afb07c190e0a48962.jpg', 'DJI_0045_JPG.rf.2303a8d77d341684a0e0e0ff2232a27f.jpg', 'DJI_0045_JPG.rf.2994cf590c2f5aa1f836219059eda9df.jpg', 'DJI_0045_JPG.rf.2d400a3eae92d5d1b29519aea53540c0.jpg', 'DJI_0045_JPG.rf.3c74251fe50a00af70cef17e40bc2d25.jpg', 'DJI_0045_JPG.rf.3e3bf4153b64e9ed0cd07daa3208a183.jpg', 'DJI_0045_JPG.rf.3f589fe1060224b3d191ac28e5a59d93.jpg', 'DJI_0045_JPG.rf.3f74b3c624018c20b97e893218b9e087.jpg', 'DJI_0045_JPG.rf.402e25329e995044807cf29d60e7d5c3.jpg', 'DJI_0045_JPG.rf.4261f920482d0c2002a704914ff36e86.jpg', 'DJI_0045_JPG.rf.46e3ca1f053d2e240082f4cf1ad87a46.jpg', 'DJI_0045_JPG.rf.4b7a85e4df687db7690cdab0acd587da.jpg', 'DJI_0045_JPG.rf.512f4f519870574e4a911c2cc1cd3cb7.jpg', 'DJI_0045_JPG.rf.51564b494824f9f4817aa9f7c16354a6.jpg', 'DJI_0045_JPG.rf.55af6b8388e97182e2653ef04cf3b8ec.jpg', 'DJI_0045_JPG.rf.56160505f1a4d2ca5edcaef70164284a.jpg', 'DJI_0045_JPG.rf.58381fbf9249b0705d614d3a221aa793.jpg', 'DJI_0045_JPG.rf.5a291c963ad2cd91ed4750b4641db349.jpg', 'DJI_0045_JPG.rf.5d529abb38e4c848aeda9b587896029f.jpg', 'DJI_0045_JPG.rf.605544d34fdbe04cdf52e808523a0f1e.jpg', 'DJI_0045_JPG.rf.65427552265b0bf1c6c6387adb5bfefe.jpg', 'DJI_0045_JPG.rf.65b85c4b38d40116eaa485e5d882974a.jpg', 'DJI_0045_JPG.rf.66e8d249ea7d6114623e6fcb2c3148c4.jpg', 'DJI_0045_JPG.rf.674066dbdd90083cbcc8244a1d103183.jpg', 'DJI_0045_JPG.rf.695be82f1b6ee4f5b53a84c8183d3cd7.jpg', 'DJI_0045_JPG.rf.6e75fbcb0f94bbc7936945055c63e583.jpg', 'DJI_0045_JPG.rf.76da807f22ed193986e1531df8d3c9a0.jpg', 'DJI_0045_JPG.rf.7a3555a404968d9c11e238dbeed73db9.jpg', 'DJI_0045_JPG.rf.7d64c6043b6ba0a87934a0c7487eab82.jpg', 'DJI_0045_JPG.rf.7e3c0736feaa906ec9298e52cf5c77c6.jpg', 'DJI_0045_JPG.rf.8322d26de5e116b07f4c7b6df220b498.jpg', 'DJI_0045_JPG.rf.8e0bf876640b544e5ff2b82bf90c06f0.jpg', 'DJI_0045_JPG.rf.8e3829a905b5e0c30a8a66c8aa9b2b32.jpg', 'DJI_0045_JPG.rf.90a71ed720e58f9257efb7c535cc4279.jpg', 'DJI_0045_JPG.rf.92590ed64e852dc5808ee943a81b915c.jpg', 'DJI_0045_JPG.rf.98b7262e440e7a62b0f10741857be46e.jpg', 'DJI_0045_JPG.rf.9f29aab452910b279e330b259323bcd7.jpg', 'DJI_0045_JPG.rf.a362723e761167bbebcbb1e4860ea072.jpg', 'DJI_0045_JPG.rf.a6a3d08603c0db75170abc8cb44547bd.jpg', 'DJI_0045_JPG.rf.aabe7a2e865e78a9f83dff3a82812758.jpg', 'DJI_0045_JPG.rf.ab496d655607c83cd902a478fec8c33d.jpg', 'DJI_0045_JPG.rf.abc5cf63bee3a68d35ecc739816c6c1e.jpg', 'DJI_0045_JPG.rf.ac3182b15ce9833f20e112ad614861da.jpg', 'DJI_0045_JPG.rf.bd7dbcb23102caef0d27130c2e33419c.jpg', 'DJI_0045_JPG.rf.c8ec9adada0104c8455b2253c68be5a9.jpg', 'DJI_0045_JPG.rf.c92aa058c93266ec8e0bb7cef855c1fd.jpg', 'DJI_0045_JPG.rf.d12c1235d99f97e24974fb1a675fe6f0.jpg', 'DJI_0045_JPG.rf.da48da6bcb1da3da10488dca182fe22b.jpg', 'DJI_0045_JPG.rf.df69a159446306543eff852c9b375e2c.jpg', 'DJI_0045_JPG.rf.e28d380a2bb0a881c8925fcbd16da372.jpg', 'DJI_0045_JPG.rf.e2a5c08862019c162423e553eca267ff.jpg', 'DJI_0045_JPG.rf.e47f64d033eb025cd460f9bf576bfe71.jpg', 'DJI_0045_JPG.rf.e5ba3766d161702ebfafe079ce2353fc.jpg', 'DJI_0045_JPG.rf.ea23ffa77c5ea26c0c32f3a70c17baf9.jpg', 'DJI_0045_JPG.rf.ef8ba5061b6daf6b4719b9843d7efc94.jpg', 'DJI_0045_JPG.rf.f3a0bab030f3284d496f576d5eb355bf.jpg', 'DJI_0045_JPG.rf.f56b30eef87ed1dcc1b1fa007cdb9bfb.jpg', 'DJI_0045_JPG.rf.f5c9636e62776cc66c55c33c8063928e.jpg', 'DJI_0045_JPG.rf.f87d5401c10b48db46a767b629fb68e5.jpg', 'DJI_0052_JPG.rf.0045d0344e15c7bafccae5ddd97a6d0c.jpg', 'DJI_0052_JPG.rf.02d1b79c3f92a96ff1614bbceb2ab889.jpg', 'DJI_0052_JPG.rf.0a323f9a576c7ab10d70f96d6a4a8881.jpg', 'DJI_0052_JPG.rf.0a3f522565eebaab3731f5d842a67c14.jpg', 'DJI_0052_JPG.rf.0ecd46979afefafdca999f20c3367753.jpg', 'DJI_0052_JPG.rf.11e7a09322566da630b16b8f8eff162f.jpg', 'DJI_0052_JPG.rf.1a9d2a21d48f8ee01577dc1831fd0706.jpg', 'DJI_0052_JPG.rf.1ed2cde95620fe441a913fdfbce549bb.jpg', 'DJI_0052_JPG.rf.251ac75b179d3fe5fcee41545d4dbb91.jpg', 'DJI_0052_JPG.rf.27f9d5b95c0526121db9444733418e26.jpg', 'DJI_0052_JPG.rf.28ce7ca40693a7998db1874f6abb2be2.jpg', 'DJI_0052_JPG.rf.2a600bf5995474b31b0c54b7b4e96936.jpg', 'DJI_0052_JPG.rf.2a890c492f8b71ab1660de6ce216f52d.jpg', 'DJI_0052_JPG.rf.2af9700541532ba4002f37898ff8e9dd.jpg', 'DJI_0052_JPG.rf.2f6b4194971bb6b26d7de59705f58686.jpg', 'DJI_0052_JPG.rf.31edb34db7a3e73cd6c3fb5590cbc6b6.jpg', 'DJI_0052_JPG.rf.32dd68f092e785d997c3bf457a761409.jpg', 'DJI_0052_JPG.rf.3f612cea24b832599477599eaab1a920.jpg', 'DJI_0052_JPG.rf.455950e2dea41571b7f6163431676e26.jpg', 'DJI_0052_JPG.rf.45755f119afa92da24ff2cb287cbc368.jpg', 'DJI_0052_JPG.rf.47418bbe2245eb6c67f14fc2a46f5fa3.jpg', 'DJI_0052_JPG.rf.49242c92e34cb246dad17de4e3643c35.jpg', 'DJI_0052_JPG.rf.4b1b3cd2c7be6983ba3f8226cf5663e7.jpg', 'DJI_0052_JPG.rf.533b22ac9c2b5c0001416c06d41a4295.jpg', 'DJI_0052_JPG.rf.57fcff5ef923c1567dde8d4cae86bed5.jpg', 'DJI_0052_JPG.rf.58f54f64663be5b02efdeae4798a33c4.jpg', 'DJI_0052_JPG.rf.598fbe16a303962fada156bb99308125.jpg', 'DJI_0052_JPG.rf.5d6d6bee9bbedb3d33b28d0d9e1abcbf.jpg', 'DJI_0052_JPG.rf.5e5d360e766d1a1708c4913d35b1e5fc.jpg', 'DJI_0052_JPG.rf.5f9496d88506c0165925fa68d1e9aed1.jpg', 'DJI_0052_JPG.rf.6450b261e69c905269935ab74aacf85d.jpg', 'DJI_0052_JPG.rf.6506f47904f97eee36da2b0e43dce013.jpg', 'DJI_0052_JPG.rf.697f87f3d8fc1a0776d0ee665c63775b.jpg', 'DJI_0052_JPG.rf.6ba9b5015b2f2658d421a1eb24ad4975.jpg', 'DJI_0052_JPG.rf.70514b1ec5682172cfdec5a07d3a4e4a.jpg', 'DJI_0052_JPG.rf.745fbabae1859fc127b02415e072d5be.jpg', 'DJI_0052_JPG.rf.752c6746f7f46f2edadba362026dae87.jpg', 'DJI_0052_JPG.rf.7ce2751c83ccaa5b4ab0801fc5cc00ee.jpg', 'DJI_0052_JPG.rf.84cfe3385fb84820acae4e24787008ed.jpg', 'DJI_0052_JPG.rf.86ddf3b2d362ab0a62cfde80d4a39936.jpg', 'DJI_0052_JPG.rf.87e8cf46cd00a6c5e0752b2b68b40134.jpg', 'DJI_0052_JPG.rf.9055bae578bb24ad027ae12251170726.jpg', 'DJI_0052_JPG.rf.918d198619ae2679040547c2e63e11ec.jpg', 'DJI_0052_JPG.rf.99e7850e0979b56629dfabeb4bec77eb.jpg', 'DJI_0052_JPG.rf.a24584eadba11bb01341f6711e3c76a6.jpg', 'DJI_0052_JPG.rf.a4ecce71f0ea6236d7d18df7f1e4946f.jpg', 'DJI_0052_JPG.rf.aa0a0db4327447e48e13149444d997b1.jpg', 'DJI_0052_JPG.rf.ac38859f988f3a89440f5105b16ea822.jpg', 'DJI_0052_JPG.rf.ac46ab421c949eef8a072b2b0d2f9bfe.jpg', 'DJI_0052_JPG.rf.b1d8f67137a9689558868ee21821393e.jpg', 'DJI_0052_JPG.rf.b6475c093f7a3b513bd24f60acef318a.jpg', 'DJI_0052_JPG.rf.bc0b8a8dc6e3a03f3b11e3cc893d79c8.jpg', 'DJI_0052_JPG.rf.c15c7507e1df8c6665d168c191ed9cfe.jpg', 'DJI_0052_JPG.rf.c491c25346ef5d82d56a70d96a2ea1dd.jpg', 'DJI_0052_JPG.rf.c5a9a1d9963ef97e0d8ed5e296e87046.jpg', 'DJI_0052_JPG.rf.cee290c0eb35fa4fe328c155fe60f54e.jpg', 'DJI_0052_JPG.rf.dd7b38e36d6519114c59f80d8f5f0637.jpg', 'DJI_0052_JPG.rf.e62904310fb2e2cee227fc4a27809c0f.jpg', 'DJI_0052_JPG.rf.f7b73912de72318194be1c0b4896cc27.jpg', 'DJI_0052_JPG.rf.fadf366750d88384037643a15b78f5e1.jpg', 'DJI_0083_JPG.rf.0189d1d1a304767a41a5357482bd9430.jpg', 'DJI_0083_JPG.rf.09c56b8ae320965e45874835666e4bf1.jpg', 'DJI_0083_JPG.rf.165375e1522c90d167b7a0dab2e3e36d.jpg', 'DJI_0083_JPG.rf.18bef32dcd8fe52d7636debd57c68eeb.jpg', 'DJI_0083_JPG.rf.1ed0b9ed558bbd9f106ac22dd41dd307.jpg', 'DJI_0083_JPG.rf.2f54f5ed5fb943e6fd21c3d90fe48d1f.jpg', 'DJI_0083_JPG.rf.2f7c6f17ee8e28fd6e95f16c3f8db02b.jpg', 'DJI_0083_JPG.rf.30a7a1d95079ce4b994117fc982035d7.jpg', 'DJI_0083_JPG.rf.32dad34bde4130014879fd91a5908aad.jpg', 'DJI_0083_JPG.rf.37fa0ab9d85bc7dde52951601ad4442b.jpg', 'DJI_0083_JPG.rf.3df2b2c15354533af356625e62e2181d.jpg', 'DJI_0083_JPG.rf.40e8453b1bca83c71b871aa7640c1f6a.jpg', 'DJI_0083_JPG.rf.47ffd96687eab15b875cce814f1b8b03.jpg', 'DJI_0083_JPG.rf.48d4cb1dabe2a83fe3abaee74a57d790.jpg', 'DJI_0083_JPG.rf.51fdd9b85c4e1fa88abce91ea4a3680b.jpg', 'DJI_0083_JPG.rf.5256e04d0e77eb5da856a1b193658e7a.jpg', 'DJI_0083_JPG.rf.5679725110389b2a8d46bca7ce68d9d1.jpg', 'DJI_0083_JPG.rf.5be748a3bfa68d24435062ea100e83c2.jpg', 'DJI_0083_JPG.rf.5d06bc4fbfacb98bef54caf4f99779f9.jpg', 'DJI_0083_JPG.rf.6475d6e6fe083bbb13e11e0e05e2c728.jpg', 'DJI_0083_JPG.rf.6e6ff9a5c00337ccd4df3ebe867da60b.jpg', 'DJI_0083_JPG.rf.6f5e301c18b02a902cf09b4466c8ad69.jpg', 'DJI_0083_JPG.rf.73e020a0edf5ca73e6b8f03e0654b143.jpg', 'DJI_0083_JPG.rf.81a900a4a4f7aba051366cc1e575f403.jpg', 'DJI_0083_JPG.rf.96802e69eaf9e9fc205871a320590001.jpg', 'DJI_0083_JPG.rf.a22b8dc341a6f242d57f0ed14bfa1c9f.jpg', 'DJI_0083_JPG.rf.aa568f5159d1a11a82e6017c791043f2.jpg', 'DJI_0083_JPG.rf.ad579d6ee48a9f1fac6f752968340024.jpg', 'DJI_0083_JPG.rf.af21082fc706f245453108913aae8acf.jpg', 'DJI_0083_JPG.rf.b18c07eedfbc1827929608380229deb5.jpg', 'DJI_0083_JPG.rf.b257434fcf7d6d185d1dd6a3ed33f96b.jpg', 'DJI_0083_JPG.rf.b3a91b4ebf547dad6f1a60772046ad3a.jpg', 'DJI_0083_JPG.rf.c1267a01ac8f36c99826fa85327b9d96.jpg', 'DJI_0083_JPG.rf.c5770fb2be1c99f7619a5db051d461f0.jpg', 'DJI_0083_JPG.rf.c950840cf8507daa0e34a5fc9d600985.jpg', 'DJI_0083_JPG.rf.cb7e3ea54a241bbd1b445080bcd78e3a.jpg', 'DJI_0083_JPG.rf.d03a1c55d08b85cf725883b5ecf96cdd.jpg', 'DJI_0083_JPG.rf.d20ed6ce40704e6e0947e0fb07bef114.jpg', 'DJI_0083_JPG.rf.d2594af21c2f78fc8667a632ca9759b7.jpg', 'DJI_0083_JPG.rf.d7785f5aa737a463d423e91dfceff6b9.jpg', 'DJI_0083_JPG.rf.d7c81984e1729be21587c2eea93dfb2c.jpg', 'DJI_0083_JPG.rf.d863fb47d73aa27acd3c066388d4fff1.jpg', 'DJI_0083_JPG.rf.eb8a900c87499880c7e86d97afedfb0e.jpg', 'DJI_0083_JPG.rf.ef1ea0da584691d4eade36e4c6fb103b.jpg', 'DJI_0083_JPG.rf.f484a7c1fe8db0e4f40041ef9725d587.jpg', 'DJI_0083_JPG.rf.f96f8717871ab08c77c0b71e40c6226f.jpg', 'DJI_0083_JPG.rf.fb5311d772aab91d371b8e0368e535be.jpg', 'DJI_0083_JPG.rf.fc07a212dd528d7d8c0910f1b974b5e3.jpg', 'DJI_0102_JPG.rf.01e86033439159068d46e660c794325b.jpg', 'DJI_0102_JPG.rf.0616de467d1bf0f2a7d8371fb83e4316.jpg', 'DJI_0102_JPG.rf.0768e17eed4fb138d729ce86fbedddc5.jpg', 'DJI_0102_JPG.rf.16bcd2840ebd567ae53548b870f3b639.jpg', 'DJI_0102_JPG.rf.21f5bf26a81715b97f85b76d04e8bc72.jpg', 'DJI_0102_JPG.rf.2613020e7fc974a0c5a6b15e2cc0db95.jpg', 'DJI_0102_JPG.rf.2901b010293c8fbcc5e4c21504b93eb1.jpg', 'DJI_0102_JPG.rf.344b558068e15371735221e9d77f22f3.jpg', 'DJI_0102_JPG.rf.3cf2a9cc464d77222d0b58763094e9bb.jpg', 'DJI_0102_JPG.rf.3f40a3347597d577d97228c1fa70c758.jpg', 'DJI_0102_JPG.rf.4c67e682b544a9c16d49206add9e026f.jpg', 'DJI_0102_JPG.rf.4c7d6848d16e663c49ed02a937efeb60.jpg', 'DJI_0102_JPG.rf.5048df2e998d98ad87c18199d9509433.jpg', 'DJI_0102_JPG.rf.540c50399519e8b3fafa80355a2607f9.jpg', 'DJI_0102_JPG.rf.5675972d2b8a0ce62f65c2062cf8a88b.jpg', 'DJI_0102_JPG.rf.59f651f235534002cc1ede900cdcd2ed.jpg', 'DJI_0102_JPG.rf.5aa08da04e564a5a20669b395ffc6b6d.jpg', 'DJI_0102_JPG.rf.5bad12648290f24f8e5cc4a051519791.jpg', 'DJI_0102_JPG.rf.5cc829e218297f7b84f1dafb90a55ada.jpg', 'DJI_0102_JPG.rf.5f1d34d51266b6760dc236d67e70fd18.jpg', 'DJI_0102_JPG.rf.66b91bc77a14ae1afcdc9bcd2f2c653c.jpg', 'DJI_0102_JPG.rf.672ae996a3b6e2f2f97c594b14549c00.jpg', 'DJI_0102_JPG.rf.6c06b2d93959c7a6640521131359ab48.jpg', 'DJI_0102_JPG.rf.6de7fb0aacd568552f69eee3ea5cabf5.jpg', 'DJI_0102_JPG.rf.6df9a8ce3380e8f8b36948817a8dbc6e.jpg', 'DJI_0102_JPG.rf.6e25b7badd7bf02c5a2cd2a22c3d6a82.jpg', 'DJI_0102_JPG.rf.769f6dacc86718c0436b5bfb3ee77e3c.jpg', 'DJI_0102_JPG.rf.78a607dd49639e0164637487a10ba503.jpg', 'DJI_0102_JPG.rf.7fdf6056cce11f9290af54f0aad82a7d.jpg', 'DJI_0102_JPG.rf.88ae1c92a0a6fa5d4f35ceaa39c67719.jpg', 'DJI_0102_JPG.rf.8db4e2537c3b30fa8449d6da4a287710.jpg', 'DJI_0102_JPG.rf.90d106b4213a4bb7fc2ce8a6d699df95.jpg', 'DJI_0102_JPG.rf.9136ea7a78ade58da967347d1f15b23a.jpg', 'DJI_0102_JPG.rf.929930bd9d0bf0d96ffdee3c64ad3311.jpg', 'DJI_0102_JPG.rf.93bd79fa0524eae1a05d4105d8ea7c9b.jpg', 'DJI_0102_JPG.rf.986523530115f192363158b6c754c9db.jpg', 'DJI_0102_JPG.rf.9abb501263e599b6e7f0fd155ad8eb6f.jpg', 'DJI_0102_JPG.rf.9d074294a33ca97a9aa17f653fedf32c.jpg', 'DJI_0102_JPG.rf.acb18b818dbac09eef2562fbb4d36170.jpg', 'DJI_0102_JPG.rf.acd3764024b0d105460a6bb34db6a6cf.jpg', 'DJI_0102_JPG.rf.b039e12107c6a6e407e9583a8c0aff7e.jpg', 'DJI_0102_JPG.rf.b884c2266ea5d3a690b80d9434a7024c.jpg', 'DJI_0102_JPG.rf.b8b94bea02f797a95d99e905d89921bd.jpg', 'DJI_0102_JPG.rf.b9dd71247891cf17a9d613e4a155e32c.jpg', 'DJI_0102_JPG.rf.c1412cc6a9dd41bfaf8cfe68cf765481.jpg', 'DJI_0102_JPG.rf.c2e4494c5a025aeffcdd5e31088d4080.jpg', 'DJI_0102_JPG.rf.c404e18996f23ba4eee5a47881f21d07.jpg', 'DJI_0102_JPG.rf.c47a24d1e4d8bc6814e16ce5f8f79146.jpg', 'DJI_0102_JPG.rf.c90356205bb57b8cac16775cf024ccb9.jpg', 'DJI_0102_JPG.rf.cd25a7b5a2d4b65ee3ef0a0a49f72047.jpg', 'DJI_0102_JPG.rf.d77ce32d76469e1f1938ff48afb1a040.jpg', 'DJI_0102_JPG.rf.d7cdb590e953a5e445b20d76f316c44d.jpg', 'DJI_0102_JPG.rf.dad796a3be4866cb925c840d9c22f305.jpg', 'DJI_0102_JPG.rf.db9fdcd5128ec6aa086f8404cd16676c.jpg', 'DJI_0102_JPG.rf.dd725dd31dbee84a4b7066bd73283fdd.jpg', 'DJI_0102_JPG.rf.dda58f84106d883250954c62528d4a10.jpg', 'DJI_0102_JPG.rf.dfb631a02808144b37fb5ccd1131cb0e.jpg', 'DJI_0102_JPG.rf.e0c9908610940af900287e2f09d96ec1.jpg', 'DJI_0102_JPG.rf.e2e76a2831c4e1f940ae242c50d47a1a.jpg', 'DJI_0102_JPG.rf.e2e8979b335cd59747cc13daf4c171a0.jpg', 'DJI_0102_JPG.rf.e33222fee5103c78769d5b1c4851f7d9.jpg', 'DJI_0102_JPG.rf.ebd3d2314b316c736abd745ce4e830be.jpg', 'DJI_0102_JPG.rf.ec6c874b7818e86f70ed5acb204aac98.jpg', 'DJI_0102_JPG.rf.f4a0b36ebb8d1d263f6f62f79710ef1b.jpg', 'DJI_0102_JPG.rf.f6f080cc9c2198646b1e0051beab2da3.jpg', 'DJI_0102_JPG.rf.f76f31ef2f26350de3d32ba8b2e568fb.jpg', 'DJI_0102_JPG.rf.f7f6fef6a524c53187552682242ba92d.jpg', 'DJI_0102_JPG.rf.fe49d70360c3115797120ec724a38b86.jpg', 'DJI_0102_JPG.rf.fe94528a2142d62d6b4461a2f8184943.jpg', 'DJI_0108_JPG.rf.02c917a8b2539bf7dec3ed4d3042efd3.jpg', 'DJI_0108_JPG.rf.0f587dfc3892ad16a3698c8ed108e8b8.jpg', 'DJI_0108_JPG.rf.10d2e1f26cb091c3afc9c3a2f1531dcc.jpg', 'DJI_0108_JPG.rf.14d8377a27deeb7e4a676bf6ba3225b2.jpg', 'DJI_0108_JPG.rf.16f8cd7fdee774c92e565c5a9956d684.jpg', 'DJI_0108_JPG.rf.17f905dce25bd8e997769938126894c2.jpg', 'DJI_0108_JPG.rf.18db56fd422c94d79a2c49612013edeb.jpg', 'DJI_0108_JPG.rf.1b08f532079c975756b20972948c1e06.jpg', 'DJI_0108_JPG.rf.1d101aece0553c3f63a14d3e24f73cc1.jpg', 'DJI_0108_JPG.rf.24d323fa0405731b66e15cd0aecf8d6c.jpg', 'DJI_0108_JPG.rf.283679c172d23411891381e8dcbe3b69.jpg', 'DJI_0108_JPG.rf.2dcc408aca9282a2388539c6edf5bc55.jpg', 'DJI_0108_JPG.rf.31800406b16a0541d2853b6877dea4fa.jpg', 'DJI_0108_JPG.rf.32c5eaf01a594adfada4edb74e219183.jpg', 'DJI_0108_JPG.rf.32f60553e1230c7432e5c25f5cc1c925.jpg', 'DJI_0108_JPG.rf.36c06f8569f08ab4d51c98a0ec2c7492.jpg', 'DJI_0108_JPG.rf.37407915a3941d986f0be8a88c466924.jpg', 'DJI_0108_JPG.rf.393c9ef3334e8f2f534ddef033243675.jpg', 'DJI_0108_JPG.rf.4a271b2826c8ad8998c44ce8571dd4cb.jpg', 'DJI_0108_JPG.rf.53faa80ace5b618a07d586cc2023eb30.jpg', 'DJI_0108_JPG.rf.63f6b0070b259afb71c6b627c21a0016.jpg', 'DJI_0108_JPG.rf.6415539561d73a489907efe288d5e7f1.jpg', 'DJI_0108_JPG.rf.68195219c5d1e839ee29454bf245c799.jpg', 'DJI_0108_JPG.rf.6f9ff0117308e7330c4cdf2c13ee4975.jpg', 'DJI_0108_JPG.rf.74b7b76945ffe7e845dd7b3222c0b378.jpg', 'DJI_0108_JPG.rf.74d4ff9b6dd4eb13beac1c9307d96bd3.jpg', 'DJI_0108_JPG.rf.81c2636c60941e4cf1313510bcd95e5d.jpg', 'DJI_0108_JPG.rf.831b27fcb6f96f745c0966749469b8b2.jpg', 'DJI_0108_JPG.rf.8468b2b2d742499cedcd9c7e29b58a45.jpg', 'DJI_0108_JPG.rf.85bc49e1c3fbec63a3396add7c65a5a8.jpg', 'DJI_0108_JPG.rf.89549249cb2cb67977d26fcf986bd776.jpg', 'DJI_0108_JPG.rf.89b5503957d610cdd2ee5c7d91586f8a.jpg', 'DJI_0108_JPG.rf.8db2c77449ca7c049bdd44cf8bd5969a.jpg', 'DJI_0108_JPG.rf.997b64f0d6e85c0d5063bcbaed7f4592.jpg', 'DJI_0108_JPG.rf.99939d4bd19aa6d0a53fc104ee7e7c55.jpg', 'DJI_0108_JPG.rf.9ccf4e3a4fc83931b269d0c846843e7a.jpg', 'DJI_0108_JPG.rf.9d569d575aa3561dd689772ab644637c.jpg', 'DJI_0108_JPG.rf.9e1fa947311eb12b753c4738100efb19.jpg', 'DJI_0108_JPG.rf.a380c15306e165c0c427511e3441b305.jpg', 'DJI_0108_JPG.rf.a441216eb45d03e1bb349b4fcad2729b.jpg', 'DJI_0108_JPG.rf.a4d5ffcff33a832c54917acddd590fc7.jpg', 'DJI_0108_JPG.rf.a9806dc002ea4ff1f06967807eeeae52.jpg', 'DJI_0108_JPG.rf.b1f73d65b238a49d155d746e6dc8be23.jpg', 'DJI_0108_JPG.rf.b455c181e108b150d9fc391ddcf4dda3.jpg', 'DJI_0108_JPG.rf.b57a309145cceca4d53261cb3a1723a8.jpg', 'DJI_0108_JPG.rf.ca96d312f06125df1a594435f4cc577e.jpg', 'DJI_0108_JPG.rf.dc4faa679f4c31fb1bdff16fff420fd6.jpg', 'DJI_0108_JPG.rf.ff57ecee03f789835840a033be6be617.jpg', 'DJI_0112_JPG.rf.04dbad45cdabd5600af7989ddbde0637.jpg', 'DJI_0112_JPG.rf.09e7044b8e836e3f815a7aeadee50ec5.jpg', 'DJI_0112_JPG.rf.1298738a41073bb74a3af10d18db2fb5.jpg', 'DJI_0112_JPG.rf.2a45b42ec140623b71be5247be9432d4.jpg', 'DJI_0112_JPG.rf.31a403e13926012ebfd3dace6211b4bf.jpg', 'DJI_0112_JPG.rf.3509fed6c24fa76b29390a50e2c86d5d.jpg', 'DJI_0112_JPG.rf.3805d792b99563e6d08d4b9473dcbc31.jpg', 'DJI_0112_JPG.rf.3a2b1771a4a10358017208df9ff6462a.jpg', 'DJI_0112_JPG.rf.3bde6749ab8ca2bbbd7be939ee3e47bf.jpg', 'DJI_0112_JPG.rf.3c434d5e0fb4a33f53eaaf49c1d39ff7.jpg', 'DJI_0112_JPG.rf.3e61923619647678d2609cb2e8dd2608.jpg', 'DJI_0112_JPG.rf.434bfcadbbd265ce89d329c2faa5b89d.jpg', 'DJI_0112_JPG.rf.453da0d85dc7a6399714e93df6005669.jpg', 'DJI_0112_JPG.rf.454d9ca79a3bc262a6788aa303b72238.jpg', 'DJI_0112_JPG.rf.4b323fa1d68ea2c596a9423063251288.jpg', 'DJI_0112_JPG.rf.4c9566b1462d52bc4b9114eb5e7893e1.jpg', 'DJI_0112_JPG.rf.4e4b5396f47c8f7c13a36a44976b613e.jpg', 'DJI_0112_JPG.rf.60dd5a4fcf6add7dede9a8e832531353.jpg', 'DJI_0112_JPG.rf.6958a0c126ceb039c26bd66943bb96fa.jpg', 'DJI_0112_JPG.rf.6d6db207ca08e9606161c0cb8d809c7d.jpg', 'DJI_0112_JPG.rf.6e8160f4c3b6039c5df34bd949b0df87.jpg', 'DJI_0112_JPG.rf.6f0c416583636f24c050d6f90893ce63.jpg', 'DJI_0112_JPG.rf.73d901a7ef64a430751072bce5a1e6a7.jpg', 'DJI_0112_JPG.rf.7ed425b6f544fd6b2db2c0564f32eec6.jpg', 'DJI_0112_JPG.rf.805459377cdb9ecda71e97911246ea51.jpg', 'DJI_0112_JPG.rf.93869ec2ac5b192f76b6328f3c00e415.jpg', 'DJI_0112_JPG.rf.981be692775a850a0d10196de9e06952.jpg', 'DJI_0112_JPG.rf.9c3fc4967bd874fdd9ba18be2240d99c.jpg', 'DJI_0112_JPG.rf.9fa174199468108479bfdfae0e3d8443.jpg', 'DJI_0112_JPG.rf.a046ebf90d65a179329de22684eb8d98.jpg', 'DJI_0112_JPG.rf.ab3635415d0988b2d0a25be2f45203f7.jpg', 'DJI_0112_JPG.rf.abae6f14d468590d62ac27ff85620fae.jpg', 'DJI_0112_JPG.rf.adca879ff17e7d645b14941e81baa539.jpg', 'DJI_0112_JPG.rf.b1c7aa077a15d47a3016b0ac1df8a576.jpg', 'DJI_0112_JPG.rf.b402464c479b577bd533cb9c8f087c85.jpg', 'DJI_0112_JPG.rf.b979f70c2e741336eb95a1e439c21c95.jpg', 'DJI_0112_JPG.rf.bc1c2e78d646427c953560ffa65bf826.jpg', 'DJI_0112_JPG.rf.bf1ef1c018b31740ec60ac33181e06e4.jpg', 'DJI_0112_JPG.rf.c75f9260139355dd1a489be69c0b1f4e.jpg', 'DJI_0112_JPG.rf.ced0adad01c954c5851e613ba95b9e81.jpg', 'DJI_0112_JPG.rf.d021a5ebb3c5b2be1b9525a30dfb2427.jpg', 'DJI_0112_JPG.rf.d6ede29b53a7d8af51e4275882eeb097.jpg', 'DJI_0112_JPG.rf.dd2cd95a3045e3edfbb6e2bfb539bd39.jpg', 'DJI_0112_JPG.rf.e36e7a585dbb2c6c890ccbd6db3226a8.jpg', 'DJI_0112_JPG.rf.e9afb6ac0ad4a6d81a89f87ddd018557.jpg', 'DJI_0112_JPG.rf.ec251a63eaba484d03589672b385132a.jpg', 'DJI_0112_JPG.rf.ef38184e10c3b52b876b60c3c62a6e33.jpg', 'DJI_0112_JPG.rf.f3160558c929085ba9b87c5d7a393ece.jpg', 'DJI_0112_JPG.rf.f698e5dd2a4e279fb77747fea0f5b13e.jpg', 'DJI_0112_JPG.rf.f69efd2c40f575a9fab12164d6fd062f.jpg', 'DJI_0112_JPG.rf.f76e766cb24b60d9fd2cb3205353f13a.jpg', 'DJI_0112_JPG.rf.f93b3dfb492e280f233f78f029022451.jpg', 'DJI_0112_JPG.rf.fb4991289e82c4c45b41ec02c7f93ca9.jpg', 'DJI_0112_JPG.rf.ff00d78e0608d2174f026df87b2a2efe.jpg', 'DJI_0158_JPG.rf.068623ebb94bc741f5f799103a76fdf5.jpg', 'DJI_0158_JPG.rf.0ad4f4d44ef46ba633dd88d558270b09.jpg', 'DJI_0158_JPG.rf.18da4a65eb7ad3bf033ae16dd5e783dc.jpg', 'DJI_0158_JPG.rf.1a789c77294fb91c385ce5c9451e8553.jpg', 'DJI_0158_JPG.rf.2d6f17fed859faba84c7950fa488a072.jpg', 'DJI_0158_JPG.rf.30a37bd2646570e03f7e4b3e05a59b2b.jpg', 'DJI_0158_JPG.rf.3105f93d8686e38e8f99cd1092901659.jpg', 'DJI_0158_JPG.rf.311de5eb9cb61f351eb19e038b443f28.jpg', 'DJI_0158_JPG.rf.385594aec6886974af651dd76301bad1.jpg', 'DJI_0158_JPG.rf.3c5819653488b3bfd4299d95e5c2fd03.jpg', 'DJI_0158_JPG.rf.4db6002ab52be43681caefe1bd08f135.jpg', 'DJI_0158_JPG.rf.4f18f9faa3b59d0b1c297cc43eb69dd0.jpg', 'DJI_0158_JPG.rf.5d10bd9066b94eb9c161801100ddd2f2.jpg', 'DJI_0158_JPG.rf.650c9fedf9f1d6f953e321995342105b.jpg', 'DJI_0158_JPG.rf.7476775035acc15a56154f869f5cc594.jpg', 'DJI_0158_JPG.rf.7ddc7104ba9b4ad2fd5436014dd206e9.jpg', 'DJI_0158_JPG.rf.a8299a8e3174e77cc0c63956579ae4ba.jpg', 'DJI_0158_JPG.rf.bc4fcc19d6ea40f52b94fa49943a87bd.jpg', 'DJI_0158_JPG.rf.bc8fd449e6983861c854517484643efb.jpg', 'DJI_0158_JPG.rf.bf3c852998381d715434d782a19762fa.jpg', 'DJI_0158_JPG.rf.c88966f10ce4c8b71b9f0fcb8646dd8b.jpg', 'DJI_0158_JPG.rf.d27f0f06eb1d67dae0bcb280e061a5e1.jpg', 'DJI_0158_JPG.rf.d32d7d0e5069660a010684804bcb9fc3.jpg', 'DJI_0158_JPG.rf.d541e54b70c89c6a282218ba7ecca223.jpg', 'DJI_0158_JPG.rf.ded3f6e5f2c2e5d3bcf2511d2505b513.jpg', 'DJI_0158_JPG.rf.e0eb5d19b99b2bf76e4a39d1c34b470c.jpg', 'DJI_0158_JPG.rf.f06893f66db3cdebbab0aa3308f4ff68.jpg', 'DJI_0158_JPG.rf.f369abbbb79b45cb14418d8333b6ddaf.jpg', 'DJI_0251_JPG.rf.0369d66bd90e10e5afd5ca1bfc31dac7.jpg', 'DJI_0251_JPG.rf.0d52adb21302af678f07737af11c2337.jpg', 'DJI_0251_JPG.rf.10341a02de8a71fa4c8b1339215029ad.jpg', 'DJI_0251_JPG.rf.1042d9415b5bd7ee36711e34f465f6c6.jpg', 'DJI_0251_JPG.rf.136d891c5d387ad28cedb6b79b0ab74b.jpg', 'DJI_0251_JPG.rf.16cc81c24738c3e09a8fe9829bc650b7.jpg', 'DJI_0251_JPG.rf.1aa22e1634b307b0ecb743e1708f25b9.jpg', 'DJI_0251_JPG.rf.295d88bcb3126ac7a7ceaaab54948b94.jpg', 'DJI_0251_JPG.rf.2a419f07fe5e7de3653599856d5b629e.jpg', 'DJI_0251_JPG.rf.2cbc3774ee7729c2d3081612fd7ad031.jpg', 'DJI_0251_JPG.rf.2d1657e654982a2eb4b8275e323b2749.jpg', 'DJI_0251_JPG.rf.2dd2040b18cbfc2604c7069ecbb71a92.jpg', 'DJI_0251_JPG.rf.414c11cf66858e63caf9af8c208a4cf7.jpg', 'DJI_0251_JPG.rf.4e17c86918d2b918b4a6a0d1c50f0c81.jpg', 'DJI_0251_JPG.rf.599abdd8fbd800203f468ca4539989a8.jpg', 'DJI_0251_JPG.rf.67dd2495405c4d1913119d33c9475c46.jpg', 'DJI_0251_JPG.rf.69866e88ab84253223701c0e48f8b026.jpg', 'DJI_0251_JPG.rf.6ccc86cfafc174c15aacc9d4fd1eff21.jpg', 'DJI_0251_JPG.rf.70799409ac3b7af45f1f8b68a5b4b6a9.jpg', 'DJI_0251_JPG.rf.9865031f8adf76bc0f4997531ccf66be.jpg', 'DJI_0251_JPG.rf.98be7a314f1854c8d1402e0676d19add.jpg', 'DJI_0251_JPG.rf.9c8270875f78fd35b54cb07b6aca2707.jpg', 'DJI_0251_JPG.rf.a2d1eeae6834706baa77ac5130e29f58.jpg', 'DJI_0251_JPG.rf.a327626cfc06eca067b8c12280a5f281.jpg', 'DJI_0251_JPG.rf.a55ca8baccb87c18301e17f4d5b3a7b4.jpg', 'DJI_0251_JPG.rf.a6e3d25d009146cb2a06248bd45fe572.jpg', 'DJI_0251_JPG.rf.aa8cad5ba2b493a94b54ecf4316c895b.jpg', 'DJI_0251_JPG.rf.b6c35f14c582058544d7ceb156d05c30.jpg', 'DJI_0251_JPG.rf.b7c08f752841153c8345aec26b77b89c.jpg', 'DJI_0251_JPG.rf.de918de7c7c1e13d70db1c888a3cbe3b.jpg', 'DJI_0251_JPG.rf.de9cd72d57bb5bd60565af49b77c9452.jpg', 'DJI_0251_JPG.rf.ea07e9a260c97c2c2fb3660de697a5d6.jpg', 'DJI_0251_JPG.rf.fbee4b210e5ae6e6a80119b387e3dc6b.jpg', 'DJI_0252_JPG.rf.013c135599b1d9d4abde3d66dece3361.jpg', 'DJI_0252_JPG.rf.055dc380432a45e98feb719bf7607060.jpg', 'DJI_0252_JPG.rf.0a4b63c29a8bd01afbc588cea9b7df89.jpg', 'DJI_0252_JPG.rf.19573b93445e79a142a8f0e13b8fcbc1.jpg', 'DJI_0252_JPG.rf.1bd8188e20f22f6a8971159e515bfc4d.jpg', 'DJI_0252_JPG.rf.3cfd6fa3fd2700bee318fc4c8b8a16e1.jpg', 'DJI_0252_JPG.rf.3d12db8da5e4d681cf0e0e9f085e2278.jpg', 'DJI_0252_JPG.rf.3d2253cc95b3cbefccfb32c8941c9b0c.jpg', 'DJI_0252_JPG.rf.417972acdb75797ce51d723d9675dc81.jpg', 'DJI_0252_JPG.rf.4901acb92982efc05bb382cda6a48c5f.jpg', 'DJI_0252_JPG.rf.4e4416c92139a3612fed027de785339d.jpg', 'DJI_0252_JPG.rf.5213d685ebef63a8b5a0ae0451c28740.jpg', 'DJI_0252_JPG.rf.532656a4d93553efa4776ffc1790accd.jpg', 'DJI_0252_JPG.rf.545627fe0659fee6f6aebe37ea899e03.jpg', 'DJI_0252_JPG.rf.5ea22311ad362121db186d72d903dc61.jpg', 'DJI_0252_JPG.rf.65aea691c7fcba533f6e416212580d76.jpg', 'DJI_0252_JPG.rf.6cdc486a01f4e340b36297734b230a3c.jpg', 'DJI_0252_JPG.rf.742652824505632d59fbee27cc6a865f.jpg', 'DJI_0252_JPG.rf.7dea404509ad6f47b4a0df8c62c72dde.jpg', 'DJI_0252_JPG.rf.7e29e8bd9a331e4448457c642e307a0a.jpg', 'DJI_0252_JPG.rf.8403c5f90fcebd4343cd9881f70552a0.jpg', 'DJI_0252_JPG.rf.861305d75f4568bca5796ac8345134d9.jpg', 'DJI_0252_JPG.rf.89305d29c3f2b9215dbcdd09de1fba86.jpg', 'DJI_0252_JPG.rf.9c6d4149d4398d8cbec888b377bd8484.jpg', 'DJI_0252_JPG.rf.a5b69646fa2f75d26a984af704d34cf4.jpg', 'DJI_0252_JPG.rf.ad14bccb20df3c3ac178992df8e86831.jpg', 'DJI_0252_JPG.rf.af2e12bac6e822e183bf0fbf15d71109.jpg', 'DJI_0252_JPG.rf.b093cb64bd7ecea674afcff788292460.jpg', 'DJI_0252_JPG.rf.b2147b4199775509cd520124b5dea6aa.jpg', 'DJI_0252_JPG.rf.b7bbf30df32da91b8353ab5ed9e03083.jpg', 'DJI_0252_JPG.rf.ba0a457b9ced7256b1b5f86d051b543b.jpg', 'DJI_0252_JPG.rf.c4cc702436d8ffb8f39022349702e8eb.jpg', 'DJI_0252_JPG.rf.c90e0b4f335024218f73d8c15d9f3abe.jpg', 'DJI_0252_JPG.rf.cbe5a63862e2ef25451fbdd03a3671ca.jpg', 'DJI_0252_JPG.rf.ccdd09ae3f196a8089d0a3eb1bbbb1cf.jpg', 'DJI_0252_JPG.rf.cf5e4fe29c3af458b57b68dc8faf6e8f.jpg', 'DJI_0252_JPG.rf.d2d4e1e493f0896ac1f84a6bba91e3dc.jpg', 'DJI_0252_JPG.rf.e3fc6564ebf6ab324f7ed2a43cb74db3.jpg', 'DJI_0252_JPG.rf.e75ac0566e2f5ba0ee978f0b790415e1.jpg', 'DJI_0252_JPG.rf.e76d9e84e574e427d1383a303adc020f.jpg', 'DJI_0252_JPG.rf.e827555b86dacf0f33d912b7e97a679f.jpg', 'DJI_0252_JPG.rf.efee7e12f8cd23e37c97511243c212bf.jpg', 'DJI_0252_JPG.rf.f4291e8fd7acbb6c9d5ef06dee2a8b52.jpg', 'DJI_0252_JPG.rf.f4b7cd65527e5fa5fba4ba58ba8fc7f4.jpg', 'DJI_0252_JPG.rf.f838f237881e49740d93dad6f2573880.jpg', 'DJI_0252_JPG.rf.f97bf9d78925bd8271f3bf77644ad9ad.jpg', 'DJI_0252_JPG.rf.fe6e1fd7e2829ce4b2609cdfe526dc9f.jpg', 'DJI_0252_JPG.rf.ff1f916a3cd7c9282cf20218183a6806.jpg', 'DJI_0254_JPG.rf.00e727f66eda58660bfa74a30adfb921.jpg', 'DJI_0254_JPG.rf.01c9d731be640df8e8f6030813f799f5.jpg', 'DJI_0254_JPG.rf.05dde50233ac1eb00bedcb2a6bbeb930.jpg', 'DJI_0254_JPG.rf.09bef8e1dc784059c3462dc437a367d2.jpg', 'DJI_0254_JPG.rf.0cd34463f766df8ad4fd0a3650acbd8c.jpg', 'DJI_0254_JPG.rf.15d0b0dd59e1b34ede7862327787443b.jpg', 'DJI_0254_JPG.rf.1e6428951601fc87adcafa6d0b3acacd.jpg', 'DJI_0254_JPG.rf.278f7896328207387b863d734394a3d8.jpg', 'DJI_0254_JPG.rf.2f0ab172932da48a9bf9aba37e86760f.jpg', 'DJI_0254_JPG.rf.3a9d014567b1a65b8dc6634052bb9168.jpg', 'DJI_0254_JPG.rf.3d89f47d439349106015de11e013e9d0.jpg', 'DJI_0254_JPG.rf.42b030c505a6152af09bd949a67c44ea.jpg', 'DJI_0254_JPG.rf.47a0600386e41b3521753aae6078036f.jpg', 'DJI_0254_JPG.rf.57a4ec3bb1854a7b3e3c5f2c0317e9b6.jpg', 'DJI_0254_JPG.rf.63564642cab70b6aeb96ca813113b590.jpg', 'DJI_0254_JPG.rf.67aca54244dde5baa4f9fa5a1a176021.jpg', 'DJI_0254_JPG.rf.69896f6342dadceec29d7df17054bcc5.jpg', 'DJI_0254_JPG.rf.6a1a2b03a05887ef63b48efc0a3c3669.jpg', 'DJI_0254_JPG.rf.76162b5473b15d5465b531402827fcc4.jpg', 'DJI_0254_JPG.rf.78e910fa77b934bc90236ad29f89f112.jpg', 'DJI_0254_JPG.rf.78f215bfef7fe63aff4dac121e4ccac3.jpg', 'DJI_0254_JPG.rf.7980b4968a3888f3d145004729021dd5.jpg', 'DJI_0254_JPG.rf.7c59568fff27a4387d6d7e4105cd5a64.jpg', 'DJI_0254_JPG.rf.7d3de3ed00e1b208e4dee40c3b37d0b2.jpg', 'DJI_0254_JPG.rf.7ebbc6fe9c6b664057e8bc959c07b8f4.jpg', 'DJI_0254_JPG.rf.8345a9ba2111d320e03d71e457d056aa.jpg', 'DJI_0254_JPG.rf.970cf0a83428f3770d1f81fe974c5f7b.jpg', 'DJI_0254_JPG.rf.aac984d8527f801a0cb9eabb349cef38.jpg', 'DJI_0254_JPG.rf.b056d6a452e13c3ea8e5236dfe9cb2e7.jpg', 'DJI_0254_JPG.rf.b3b46ac50398699f6043bd56482e0cb9.jpg', 'DJI_0254_JPG.rf.b49e29d94b4eda15086662eaeb6ee7f2.jpg', 'DJI_0254_JPG.rf.b9144e2f84a0c6c3d9648e9ef442b0c3.jpg', 'DJI_0254_JPG.rf.c77bccd84d539805c24cbf66656fb0d9.jpg', 'DJI_0254_JPG.rf.ca0123767c905c08aabbea5a5f50ee69.jpg', 'DJI_0254_JPG.rf.cb8568d27a38dd54d104e1627b02a964.jpg', 'DJI_0254_JPG.rf.d76f1adc37f1da64206681c4df9ef125.jpg', 'DJI_0254_JPG.rf.dc4ac13736cda3417d1d4cd9cee59557.jpg', 'DJI_0254_JPG.rf.e031432bbb1a776d88de624c94c7c6dc.jpg', 'DJI_0254_JPG.rf.e040676c7034a54da853c9bd41367b8a.jpg', 'DJI_0254_JPG.rf.e29ac3ba1f2e2b3239c497b053e68f4c.jpg', 'DJI_0254_JPG.rf.f576f56be722c50b488aba9334878532.jpg', 'DJI_0254_JPG.rf.f900da65466c41ba69c0d22179763703.jpg', 'DJI_0254_JPG.rf.fd0e6fa4385cb1e4dbd94561512638bc.jpg', 'DJI_0254_JPG.rf.fd44c094df6de6e2399c9926bb22e0c3.jpg', 'DJI_0254_JPG.rf.ff5224bcc3eb344b8ec5698e6e639fbd.jpg', 'DJI_0260_JPG.rf.1483038fd6442de8b3c08bd06399732c.jpg', 'DJI_0260_JPG.rf.2808be0692c1254eef9666d7da3be5b7.jpg', 'DJI_0260_JPG.rf.298d2588098652ba6b3795cdf99b2b23.jpg', 'DJI_0260_JPG.rf.3f636d220fc4769cf2414389cabcf6d1.jpg', 'DJI_0260_JPG.rf.4682b8641b2a48ac9b37e9c73d5cf45c.jpg', 'DJI_0260_JPG.rf.4de891b3e2dd119b4a9544762d89a79a.jpg', 'DJI_0260_JPG.rf.598b7ab0e4a21e3f7200b30ed1411aff.jpg', 'DJI_0260_JPG.rf.5a988bc57c7be6934a146ed2cc3a8545.jpg', 'DJI_0260_JPG.rf.680656987e21538bd329552d85ecf593.jpg', 'DJI_0260_JPG.rf.6884e4dd4b794145f9a3490e593d7595.jpg', 'DJI_0260_JPG.rf.6e1ffd1f0892e26ce5334ab70031525d.jpg', 'DJI_0260_JPG.rf.73f0d6bda6dc330be6c4976537796d7f.jpg', 'DJI_0260_JPG.rf.7e874f3433c065ad32cb552a60734b52.jpg', 'DJI_0260_JPG.rf.8b0f2947caae4d58ea71258c9d2d2adb.jpg', 'DJI_0260_JPG.rf.8d6870bc97099a2b098feffddd56923d.jpg', 'DJI_0260_JPG.rf.a39f66c1a6f7824a506409b99128a56d.jpg', 'DJI_0260_JPG.rf.b989bbaac2e91c884f34d5a619bdde18.jpg', 'DJI_0260_JPG.rf.c08720b0e2691a0ef3cb782999b18f49.jpg', 'DJI_0260_JPG.rf.c649ab8c2958d5225e18a664d4f9d12e.jpg', 'DJI_0260_JPG.rf.c99aa3565884a9a62a0f35244e3b3e6f.jpg', 'DJI_0260_JPG.rf.cc3a7fd27ec28e9921e15a9414ec0af0.jpg', 'DJI_0260_JPG.rf.cf316d130f3cce0a94f4de6fb74ed926.jpg', 'DJI_0260_JPG.rf.cfc321017939810daceca293efc83a31.jpg', 'DJI_0260_JPG.rf.d01e9a6a2d27d2b40add89b142288f25.jpg', 'DJI_0260_JPG.rf.d33df704c6eec7ba382a6c3f88ee3852.jpg', 'DJI_0260_JPG.rf.e1e8aa82fbff5d44904a57d7d7417565.jpg', 'DJI_0260_JPG.rf.e2ce0b63bfc5301f78ea0279e60ad8db.jpg', 'DJI_0260_JPG.rf.e8f497c7f751aac03e994dbdf1bcc31e.jpg', 'DJI_0260_JPG.rf.f969537a81895b8ee214f349551e48d7.jpg', 'DJI_0260_JPG.rf.fb821a0f5b3564a09b53b9e6279f70d3.jpg', 'DJI_0324_JPG.rf.02dff55e30a5f00093178fe61ef6813f.jpg', 'DJI_0324_JPG.rf.078545213aa41fa23481547782e8ab5b.jpg', 'DJI_0324_JPG.rf.07a1d432c04f7da9a71347011b9600e5.jpg', 'DJI_0324_JPG.rf.081f17fcbe8e43061d763be0478badfc.jpg', 'DJI_0324_JPG.rf.0b1f5e1c7daf98175c80758f1386354d.jpg', 'DJI_0324_JPG.rf.11e3b5bd11f895d2a300c7a12b4d25a3.jpg', 'DJI_0324_JPG.rf.12e77569cc4ad39692422e56bcadfc93.jpg', 'DJI_0324_JPG.rf.15cbb8f2ee22461def71309fdb4ff440.jpg', 'DJI_0324_JPG.rf.175cebc7993338138f0002ef12431c19.jpg', 'DJI_0324_JPG.rf.1afa96c946361733d452e8f9039dde05.jpg', 'DJI_0324_JPG.rf.212608e6af5bb299862f765086a1d9e3.jpg', 'DJI_0324_JPG.rf.21aac6e4cc1bdb5f11657325390311ea.jpg', 'DJI_0324_JPG.rf.23cc679025ae610ecc7aaa26f90a9c26.jpg', 'DJI_0324_JPG.rf.240cc830246ee75dfe786b59d841859c.jpg', 'DJI_0324_JPG.rf.242be4fab36b35c73ea3222a3ce2b36b.jpg', 'DJI_0324_JPG.rf.2507da2f807b6f075ca37758af4bee1b.jpg', 'DJI_0324_JPG.rf.291b693657eaa523bbe7116dab6e040f.jpg', 'DJI_0324_JPG.rf.3a05625e82a55814aa4b852b5166bde3.jpg', 'DJI_0324_JPG.rf.3bd8440343095ec4d10227e99eeabf85.jpg', 'DJI_0324_JPG.rf.3c17c717403cd9653dd626cbe056d482.jpg', 'DJI_0324_JPG.rf.3d9f88283684a6e3437fb5e8632e4d1d.jpg', 'DJI_0324_JPG.rf.43883deaa1fec6e7b0c2f0c174fb3f99.jpg', 'DJI_0324_JPG.rf.4a37510e08ac2402e8ecd0be319aaf2a.jpg', 'DJI_0324_JPG.rf.503ae3b13f7c4d68177d6e06fc67c429.jpg', 'DJI_0324_JPG.rf.51e229fa3628303b57396cfb83cdf2ed.jpg', 'DJI_0324_JPG.rf.5a897a3d7b6e094b1f60d4d664005d27.jpg', 'DJI_0324_JPG.rf.5eb6392dcbf0c9f59f1b900e8c8fb19c.jpg', 'DJI_0324_JPG.rf.61d5343bbe9714d3a1a0b7c161771e6b.jpg', 'DJI_0324_JPG.rf.629e95650b8b18a2ac061d811124a283.jpg', 'DJI_0324_JPG.rf.65b0c8d5a6903e97405191ee9a82d1dd.jpg', 'DJI_0324_JPG.rf.69d9d3588dfef369873d33ba3f369466.jpg', 'DJI_0324_JPG.rf.6b4da63a548abb3eceb0371e53a38c28.jpg', 'DJI_0324_JPG.rf.6e6bbb3227a03f6ed9319f5cf575ebcc.jpg', 'DJI_0324_JPG.rf.6f0e8259956c73f5627971e48550e6f8.jpg', 'DJI_0324_JPG.rf.7172d6a7f883b08bad4449aff1005a49.jpg', 'DJI_0324_JPG.rf.7b09abcb3dc11d0f05ad7b417fada50e.jpg', 'DJI_0324_JPG.rf.7baa5032927e73cf44e6490325ddd677.jpg', 'DJI_0324_JPG.rf.7e95d0443d25c21a57c98dc7a7a8c7d5.jpg', 'DJI_0324_JPG.rf.893acc343d8bb0989b0011d7ebc5a981.jpg', 'DJI_0324_JPG.rf.8980c0dd1caf3c2723def015aeecc284.jpg', 'DJI_0324_JPG.rf.8f741f6c23c58ad60dca3d265c69a1c0.jpg', 'DJI_0324_JPG.rf.94aa40b147553f9154eb6e5712ed58f6.jpg', 'DJI_0324_JPG.rf.98fb3d8e047df0d753d8a72c6b4c4ba4.jpg', 'DJI_0324_JPG.rf.9a622caaf81c441a986f0d7329aa5ed0.jpg', 'DJI_0324_JPG.rf.a4aebb271d44bdcddc368a5b6542dfa6.jpg', 'DJI_0324_JPG.rf.a568fdc2e60ff4a5b204a003f87218af.jpg', 'DJI_0324_JPG.rf.a98006f5fd011e0e6f8320cf02b87b25.jpg', 'DJI_0324_JPG.rf.ad683d23fcad50bb6c08f256f65ca4cc.jpg', 'DJI_0324_JPG.rf.af1e6212baf1b5ae8908dad2560abefc.jpg', 'DJI_0324_JPG.rf.b046a972c083e786c6543e505fda99a3.jpg', 'DJI_0324_JPG.rf.ba8a184fdd204eadecf163ed511dab3d.jpg', 'DJI_0324_JPG.rf.cad15cb459f42e0df0dc9c04f35728a0.jpg', 'DJI_0324_JPG.rf.ce666687be43ae11dbc36e1c2f31ff2d.jpg', 'DJI_0324_JPG.rf.d0838a303e0696dad25a7d8cf8c07bdf.jpg', 'DJI_0324_JPG.rf.e126bdd3f8462536f55d463e11c179e3.jpg', 'DJI_0324_JPG.rf.e2e6bb3fb182633a65908e45d80539ad.jpg', 'DJI_0324_JPG.rf.e6a5a74f2bb08ded7e8f8fca66cc2606.jpg', 'DJI_0324_JPG.rf.e83fc460efbea22524a4232047ce4144.jpg', 'DJI_0324_JPG.rf.e95a2cdc275e31c74d2b9dba0ad441ed.jpg', 'DJI_0324_JPG.rf.ebcc8a0f046e5e63de52dce21ec24fdf.jpg', 'DJI_0324_JPG.rf.ec02f7ca51203bddcb8dd8a2a6b2e25d.jpg', 'DJI_0324_JPG.rf.ee28b6ccc7150ecfdb2cfe7afbbfde4f.jpg', 'DJI_0324_JPG.rf.f443f85bd1d5e51cffb703be4fd74ea0.jpg', 'DJI_0324_JPG.rf.f999d970ef830e55a3861b0c69af8de0.jpg', 'DJI_0324_JPG.rf.fc632f69431c4db35c9acab216ca4cf1.jpg', 'DJI_0324_JPG.rf.fd7cc69b7546a0cabb79b90bc68009c5.jpg', 'DJI_0332_JPG.rf.06364b536d46b3ce8eeda0819671d07b.jpg', 'DJI_0332_JPG.rf.07feae5ae6a4a12dcd69a9922383c5a0.jpg', 'DJI_0332_JPG.rf.0843bbefc7e4553f035759e8bc59b6b9.jpg', 'DJI_0332_JPG.rf.1541e7f5bfb55cfa22e267859dbf81b2.jpg', 'DJI_0332_JPG.rf.24183df10f7d708083518deb22c5fec9.jpg', 'DJI_0332_JPG.rf.2679b223f8a611233daeebf100dabc8f.jpg', 'DJI_0332_JPG.rf.28276c094772295a9ce3edfc664af62b.jpg', 'DJI_0332_JPG.rf.2b47195a337da1112fe8b05f6a0cbe81.jpg', 'DJI_0332_JPG.rf.2c2645484cca614afbb537e12dd7e6d7.jpg', 'DJI_0332_JPG.rf.39852494b87e517f95c0f7abc797cd82.jpg', 'DJI_0332_JPG.rf.39d3c4ebe0036ad687473446676f7c69.jpg', 'DJI_0332_JPG.rf.458df45e0429f37022689f96ac9a87a6.jpg', 'DJI_0332_JPG.rf.5b48ad11a8017d74af8624eaf2f869fb.jpg', 'DJI_0332_JPG.rf.6427695a26d5171b0642ed9e4f6560ba.jpg', 'DJI_0332_JPG.rf.66178e937945ce4c9e3ac9576da15d2c.jpg', 'DJI_0332_JPG.rf.6f27f180db7182822bea319a62309c45.jpg', 'DJI_0332_JPG.rf.6f5c27a889d075c817e03b065fbef6cf.jpg', 'DJI_0332_JPG.rf.76c4ed8595fd4e785d7af39350c4aaf6.jpg', 'DJI_0332_JPG.rf.9bf759634d5a6d0184ad12b2e74a956c.jpg', 'DJI_0332_JPG.rf.a7f209ef51330d019e9722dcb2f14cae.jpg', 'DJI_0332_JPG.rf.a8c36a62ecd275ea99b8fe29c84e5206.jpg', 'DJI_0332_JPG.rf.aaa5cbd09f2e36d651a2f4b20117ff8f.jpg', 'DJI_0332_JPG.rf.ab5b7b41fb6095b85044fa32ee227e2b.jpg', 'DJI_0332_JPG.rf.b448671a404ba737a8eb856a5a9d5bc0.jpg', 'DJI_0332_JPG.rf.ba5b6a0d40103523c3a8372d14a11f41.jpg', 'DJI_0332_JPG.rf.c41254d9e50f965348939c7dd3454c27.jpg', 'DJI_0332_JPG.rf.c515bdb1fb22a0465fa2c04d00119328.jpg', 'DJI_0332_JPG.rf.de77dd9cd1397c862af88a23a24e881c.jpg', 'DJI_0332_JPG.rf.e9cbb342b2bf2554be31494498198c77.jpg', 'DJI_0332_JPG.rf.ea383a5c6a2de079c2bd51c8f3d373e4.jpg', 'DJI_0332_JPG.rf.ea48353eb4324a37d3e77d93b27cc421.jpg', 'DJI_0332_JPG.rf.ec70caffab3f69f9e2b85c0b65c65f0f.jpg', 'DJI_0355_JPG.rf.031b037c20c024c2f95b0e70d5a03797.jpg', 'DJI_0355_JPG.rf.10f5b0bb335c5db50a1d96581a8d00d6.jpg', 'DJI_0355_JPG.rf.221a625ec23aa80d9cc964991c3a3868.jpg', 'DJI_0355_JPG.rf.25e88d48471dff34b94706ea5dea20e0.jpg', 'DJI_0355_JPG.rf.2b155e5ee1b04dd71e1e414fe964f2ea.jpg', 'DJI_0355_JPG.rf.3532062a4eabc3b56a91abb7339a3d1f.jpg', 'DJI_0355_JPG.rf.365edd6fa67dc4c3d3744bc8892d4ff8.jpg', 'DJI_0355_JPG.rf.3e0f239d6a51c676e5f01251ec346dc1.jpg', 'DJI_0355_JPG.rf.465620b6c907f6176c3c05e73a37364c.jpg', 'DJI_0355_JPG.rf.4e3d70bb37bd3d159d0267c14f495c1b.jpg', 'DJI_0355_JPG.rf.5258f33bbac89b7ee1f2b7bd323981ed.jpg', 'DJI_0355_JPG.rf.5d0304017bb2697469b3801159de1f72.jpg', 'DJI_0355_JPG.rf.5dad7ed9fd5b14e0f304017e657eb2a2.jpg', 'DJI_0355_JPG.rf.5ee7f76ed446e6412f2ea05d8f55171e.jpg', 'DJI_0355_JPG.rf.6820721340cca5508cd41d17158f0536.jpg', 'DJI_0355_JPG.rf.8308397b9f14f81fbc544902a0c8cd37.jpg', 'DJI_0355_JPG.rf.85bdc539e8fa7606e5b7e3dfddc923e0.jpg', 'DJI_0355_JPG.rf.89090fb5dcb2915159a915d492557b2d.jpg', 'DJI_0355_JPG.rf.89fea7f26263aecb6cd75d191c51bec1.jpg', 'DJI_0355_JPG.rf.8bb8371ac46885f3d42ca04a6be0988f.jpg', 'DJI_0355_JPG.rf.8bc9823fe1bf39fd5927c5f50ad2f406.jpg', 'DJI_0355_JPG.rf.971eceffd5d88b63bacac45d44b53a9e.jpg', 'DJI_0355_JPG.rf.9b9e8d9e396fe81a149a6e5e8b54ec8d.jpg', 'DJI_0355_JPG.rf.b0c7217609bbe9ec45e6471f81ebc3e7.jpg', 'DJI_0355_JPG.rf.b6bb0954d4d4b68285e3c6bdd405b1b4.jpg', 'DJI_0355_JPG.rf.c850c147bfba5e2c5ae8e6a6dce629cd.jpg', 'DJI_0355_JPG.rf.cb28b9b8e2c69f8a55985b253da1dd86.jpg', 'DJI_0355_JPG.rf.ccb2fd0735b1378eda6d131f66446cd2.jpg', 'DJI_0355_JPG.rf.ce10f4a418e1bdb6b475928362620332.jpg', 'DJI_0355_JPG.rf.d0a0ee4a5b2e90d7a31c8a1fcbc84fd1.jpg', 'DJI_0355_JPG.rf.d109fcf995716af8c6d2feff77ea5617.jpg', 'DJI_0355_JPG.rf.d113473060e9482a560a765d3454e090.jpg', 'DJI_0355_JPG.rf.d1b4fd3d44c8d60647b2881876f145cd.jpg', 'DJI_0355_JPG.rf.d224a8ee5f478069736cee568025d6f9.jpg', 'DJI_0355_JPG.rf.d6bfd1819f33aa33756d1fad09887cd9.jpg', 'DJI_0355_JPG.rf.daa78c0b405e17a3f0b0ba4f7e4fa7b1.jpg', 'DJI_0355_JPG.rf.dafd96acaaa1ddbf2df88884cabc128e.jpg', 'DJI_0355_JPG.rf.e1fe6e5a9fd7a25e98eaf7f5a7887a97.jpg', 'DJI_0355_JPG.rf.e626d1fbb43521e8825ca3fca8e9c806.jpg', 'DJI_0355_JPG.rf.e736e5537616b07039487c1c2e90c8ad.jpg', 'DJI_0355_JPG.rf.ed7c8e3338e1b70495f7aed6f50f0cbb.jpg', 'DJI_0355_JPG.rf.f0ac2263feaaf2ba29ff71c53a678f1f.jpg', 'DJI_0355_JPG.rf.f16bf0c23df6c14eff33c30be71391bb.jpg', 'DJI_0355_JPG.rf.f22e84d97b5428605ed559dbea48574e.jpg', 'DJI_0355_JPG.rf.f4f9e2352e649cf2f6e4c985a80e44f0.jpg', 'DJI_0367_JPG.rf.0048b4fa42fe243b860e76357ebefc79.jpg', 'DJI_0367_JPG.rf.01472b8932034f35f98f42e5b6d7e69e.jpg', 'DJI_0367_JPG.rf.0471f6a180600d72b5ea006384afa881.jpg', 'DJI_0367_JPG.rf.183980343dbe11a1b5ed89d2daf67ca7.jpg', 'DJI_0367_JPG.rf.1b883b89f5e600372f98502e0a53b32c.jpg', 'DJI_0367_JPG.rf.2773039440cd19ba7336423d0dee0909.jpg', 'DJI_0367_JPG.rf.3489f6359a114ce51b4cf23ea06155f2.jpg', 'DJI_0367_JPG.rf.3cc5f3c709dc9af4c81c059ecb56a47c.jpg', 'DJI_0367_JPG.rf.479b5b2dd09bcdd6b4c1704fdc025ecb.jpg', 'DJI_0367_JPG.rf.54cd4d7e3cd7aa5722e037fab2d384bd.jpg', 'DJI_0367_JPG.rf.57e549e26826d0cae15a7d04fe7f39d4.jpg', 'DJI_0367_JPG.rf.59d3d50fa9653687bf66cc52ec4a3026.jpg', 'DJI_0367_JPG.rf.82bd1cc7dc05f94b3196715b421de8d2.jpg', 'DJI_0367_JPG.rf.85175a099aed629ff61c6dd262f5c976.jpg', 'DJI_0367_JPG.rf.894503bf7dc2348f643c034842a84673.jpg', 'DJI_0367_JPG.rf.93996885b66ecf320a83d96be6673e7f.jpg', 'DJI_0367_JPG.rf.9eb05dfe3d54011db107de7e4ef5f64a.jpg', 'DJI_0367_JPG.rf.a3e409aab68b51c4370c5fc4d5cb78d0.jpg', 'DJI_0367_JPG.rf.b2cc14d6a8b0417cacd07399d9e82445.jpg', 'DJI_0367_JPG.rf.d5679217833b18a5df7a52869fb2860f.jpg', 'DJI_0367_JPG.rf.d89cfaa54387240a5257c4b4d5f92ff5.jpg', 'DJI_0367_JPG.rf.dd81cf2a9d168ce8b61a5b477f1c5e3c.jpg', 'DJI_0367_JPG.rf.e1bce8b01c1837913a9213861cceaf79.jpg', 'DJI_0367_JPG.rf.f7564e5f7ead931fb22351ff46491564.jpg', 'DJI_0368_JPG.rf.06f1f25405b1037f89457abb637a2099.jpg', 'DJI_0368_JPG.rf.0997b12a78f4d2bf4320dcda3c3ec6f1.jpg', 'DJI_0368_JPG.rf.0f79df3a4d38446fd252f2ea0056e40e.jpg', 'DJI_0368_JPG.rf.1ba42141fd9daa0f357cc83911552e96.jpg', 'DJI_0368_JPG.rf.1d7ad5468e72bcf91ea0bf2a57800f69.jpg', 'DJI_0368_JPG.rf.21a370020e975b8f1260246573d37454.jpg', 'DJI_0368_JPG.rf.30e8362460a5af3d399619ba5f002d13.jpg', 'DJI_0368_JPG.rf.313dbe45958ddc1f28e3549c3e3f28cd.jpg', 'DJI_0368_JPG.rf.35bcf8af8b9611c910c5e36ebc991fd7.jpg', 'DJI_0368_JPG.rf.3874acda8bab4e905034ed835e239f63.jpg', 'DJI_0368_JPG.rf.3f087e7cc2c821723eac6becefa6cbfd.jpg', 'DJI_0368_JPG.rf.4455109a589c30f401cfb84960ebb5b4.jpg', 'DJI_0368_JPG.rf.52f6edc18912d85d932447c2ebbf92b7.jpg', 'DJI_0368_JPG.rf.590068f30ef18f2845c4c9fe626b4d7e.jpg', 'DJI_0368_JPG.rf.5c86d283a70dff8ae33e70948d582c16.jpg', 'DJI_0368_JPG.rf.60c915685f1f91d2a2eec8149e3bea8f.jpg', 'DJI_0368_JPG.rf.68b2a4665dd0de81b537f0f8f439e929.jpg', 'DJI_0368_JPG.rf.6bc3415b8e45335574231e0b5176ed5c.jpg', 'DJI_0368_JPG.rf.71d93905704f0b691575542146bcb1ec.jpg', 'DJI_0368_JPG.rf.724af6b9649aaa487fc2fd5a9743633b.jpg', 'DJI_0368_JPG.rf.84f5e6705bfa1d36f77be18b9650baff.jpg', 'DJI_0368_JPG.rf.8a705baeec96c45bca4463ebf4a3e30a.jpg', 'DJI_0368_JPG.rf.9b9e118d2bb11f7309d489db4acd23f3.jpg', 'DJI_0368_JPG.rf.aade82f31a63f35bed12f7ccd75afef5.jpg', 'DJI_0368_JPG.rf.b00be3c0db734cc7938dbba92eb69b1f.jpg', 'DJI_0368_JPG.rf.bd6a5b0df99c44ffb3d6853618e5d959.jpg', 'DJI_0368_JPG.rf.ccdf7be30cfbff558ce74546588b1de0.jpg', 'DJI_0368_JPG.rf.ce20b6a2f0ad52d5623c95ed7ea911b7.jpg', 'DJI_0368_JPG.rf.d082a402f05b838f5c452518e56e60c5.jpg', 'DJI_0368_JPG.rf.d72f1b0db74063b565df7c7ea4fe83f1.jpg', 'DJI_0368_JPG.rf.d8e47d22e6d96e4fce4ddc5200bd5d15.jpg', 'DJI_0368_JPG.rf.e12d4ec8cd7bfc73b23c62380234b76e.jpg', 'DJI_0368_JPG.rf.e39d280b3ef5ee63ba20857f7dc50d09.jpg', 'DJI_0368_JPG.rf.ea4c5ad0f4867f74db58e37aaf9aba96.jpg', 'DJI_0368_JPG.rf.f017753a4e7e2c98f9e4924bb2fdfb4a.jpg', 'DJI_0368_JPG.rf.fd081092cd4f6a79d7279f4ca46100c1.jpg', 'DJI_0392_JPG.rf.0c01c707aa8cc8b549befccc5c7381d1.jpg', 'DJI_0392_JPG.rf.17d5811957d763ac141cebe6ca2fa4ec.jpg', 'DJI_0392_JPG.rf.18f8b8b73c97c83457de79a4d1666a4b.jpg', 'DJI_0392_JPG.rf.230274eee6060b089aa6b7cb83cee7d0.jpg', 'DJI_0392_JPG.rf.277fc2569b311c4b0e2508beb7b85165.jpg', 'DJI_0392_JPG.rf.2e9ce2e5697f3eb37f833ce6a8e6c477.jpg', 'DJI_0392_JPG.rf.3aaeb9e3681a515c12de3e03af3c3ab0.jpg', 'DJI_0392_JPG.rf.416633c4c7667bcd793e7346cefe6761.jpg', 'DJI_0392_JPG.rf.4289d4e01d07f930acf3c402253c85f9.jpg', 'DJI_0392_JPG.rf.50d840461296e333d0408e8d5dcabbcf.jpg', 'DJI_0392_JPG.rf.510a3fe73bae0ae1fcc384216da6413f.jpg', 'DJI_0392_JPG.rf.52e7106397ba1cb2fef143e7b27ec9b3.jpg', 'DJI_0392_JPG.rf.59ac3a3c8bfeddcf0d86169a9a0f6bf4.jpg', 'DJI_0392_JPG.rf.5a6001cf83ceab83c5e8bf60517c23a3.jpg', 'DJI_0392_JPG.rf.61decce4a9eaf662402f39279581e025.jpg', 'DJI_0392_JPG.rf.7d30d4d7fd80e27393401440acd0921a.jpg', 'DJI_0392_JPG.rf.7f607b9e262b0b07eb59ee27a2148221.jpg', 'DJI_0392_JPG.rf.87510555decdb5f804a59d77a265d320.jpg', 'DJI_0392_JPG.rf.925642e841fe45961c6158d6aa294683.jpg', 'DJI_0392_JPG.rf.94efc64a886ef1c9255f84e0bfa3ad88.jpg', 'DJI_0392_JPG.rf.a23f08ab401d09581e455b6266cbf362.jpg', 'DJI_0392_JPG.rf.a34e997fcd9857bcf15daa50b28ac677.jpg', 'DJI_0392_JPG.rf.a7d60adf9c008cb7f26168c674808cde.jpg', 'DJI_0392_JPG.rf.b4a8592c9bbda7a51ba623c7576ff102.jpg', 'DJI_0392_JPG.rf.b71052b371f6d56bd6487b669a71195e.jpg', 'DJI_0392_JPG.rf.b8275d2b9699fb0eb6094ec93908f130.jpg', 'DJI_0392_JPG.rf.bfb60e21bfbbc8d0528b8b479b543b95.jpg', 'DJI_0392_JPG.rf.c2b2c98fa63a3933fca65e8f90837286.jpg', 'DJI_0392_JPG.rf.c522e9d604b321a2da19c14821301d70.jpg', 'DJI_0392_JPG.rf.ceaceac45b7b05c64e39e54c9881827c.jpg', 'DJI_0392_JPG.rf.da27dfe593f744440d143c1ec96c335c.jpg', 'DJI_0392_JPG.rf.dc211bf9e40f84a9e8518cd4851aae03.jpg', 'DJI_0392_JPG.rf.e0f4cf809e400261c312b72f1a7ba36b.jpg', 'DJI_0392_JPG.rf.e59d03021dcd4d9694fdee9f38a16e3e.jpg', 'DJI_0392_JPG.rf.e9b509480194192c6e88dfba03036351.jpg', 'DJI_0392_JPG.rf.ee3aa95e620044ec1147b1f6b757fbdc.jpg', 'DJI_0392_JPG.rf.f193110629c42785a041f6401d591fbd.jpg', 'DJI_0392_JPG.rf.f7474c4273d30be614c5984717dbae7b.jpg', 'DJI_0392_JPG.rf.fd6ff354b6270b697f303079ac7e3e91.jpg', 'DJI_0393_JPG.rf.02abd6e8f7f1fe95f34efdaee3d3b0ba.jpg', 'DJI_0393_JPG.rf.087e6c5be4358f80309ab75c26899174.jpg', 'DJI_0393_JPG.rf.0d5140e4bc7784681b7c8f3cb178907d.jpg', 'DJI_0393_JPG.rf.1a7b08663bda5c038439d9780c3f7fc6.jpg', 'DJI_0393_JPG.rf.1a8d2c79af1c8f41b368cad2e4fb9a6e.jpg', 'DJI_0393_JPG.rf.1d69b348e9041aef2048c3d5e8ce83e0.jpg', 'DJI_0393_JPG.rf.2105bac21e3a1ea8a1c94e0fc9b46f15.jpg', 'DJI_0393_JPG.rf.24b060dfbb9b3c2c71b24c87f0c033a5.jpg', 'DJI_0393_JPG.rf.2631465a890d32fc96daac56fdea33ea.jpg', 'DJI_0393_JPG.rf.2ce0c99f8c29eab936c64a180ead658a.jpg', 'DJI_0393_JPG.rf.305304ca2e9bd0f8cae2d9a5a5ffc0fd.jpg', 'DJI_0393_JPG.rf.311e3e0a32631fde88be0d45c646a98d.jpg', 'DJI_0393_JPG.rf.353ac0aa3a7409a1311974a9882a7f1d.jpg', 'DJI_0393_JPG.rf.3a6acfbcc17477e2ff401e8f40c46f1e.jpg', 'DJI_0393_JPG.rf.3d61f9cad1e32c1a712f191755102e68.jpg', 'DJI_0393_JPG.rf.3dd2f597e49d4ddb52e828bb9a04a5d1.jpg', 'DJI_0393_JPG.rf.41de29d30addc626f808db45beac1528.jpg', 'DJI_0393_JPG.rf.4b477bb35778266e542a306d052a9785.jpg', 'DJI_0393_JPG.rf.4b6dcc39cb4e8b783f9e45681dc9e4c8.jpg', 'DJI_0393_JPG.rf.528011c4fcbe4474910c230525d70c8f.jpg', 'DJI_0393_JPG.rf.5542fdd534848ae612901b0a3d0d8b11.jpg', 'DJI_0393_JPG.rf.580ec5607ade139e16096e7fa0f12668.jpg', 'DJI_0393_JPG.rf.5f7cbfbf67c840c01cd89a841c7cae2d.jpg', 'DJI_0393_JPG.rf.602b7c6c58335618bbfaabbd732b5c30.jpg', 'DJI_0393_JPG.rf.625b2942d6770015aaf569d9b764beb4.jpg', 'DJI_0393_JPG.rf.63447099746d33db6364b51add11c478.jpg', 'DJI_0393_JPG.rf.71f76c1bfebe7b10937e5a3f563b89d9.jpg', 'DJI_0393_JPG.rf.72fca3189d39bce9f1011c596eea351b.jpg', 'DJI_0393_JPG.rf.765596b0f3a4d075b550ea008f731a56.jpg', 'DJI_0393_JPG.rf.7f775d0223541259499ee299563fb21c.jpg', 'DJI_0393_JPG.rf.803dcfba3ec0a6aefd2d64e52de4ca52.jpg', 'DJI_0393_JPG.rf.81b24e71b7d60102e8821b9ffb4856d2.jpg', 'DJI_0393_JPG.rf.85f86600db436fef67987e67a8de0764.jpg', 'DJI_0393_JPG.rf.88119cf5a9d38c2d935ac890b7174a31.jpg', 'DJI_0393_JPG.rf.8c7b4ef295f28794ea82ae4d3632539c.jpg', 'DJI_0393_JPG.rf.8f768f88b9b9b78d083f40a27af1d58f.jpg', 'DJI_0393_JPG.rf.8f79e2646fc49346a65b133bfd01a9ab.jpg', 'DJI_0393_JPG.rf.93e0469758a126c4fb8bdf3f1aea4305.jpg', 'DJI_0393_JPG.rf.9ace7d453c22e365321b64455551b52c.jpg', 'DJI_0393_JPG.rf.a569c2df1d78b5237d2777a5d90b1cbb.jpg', 'DJI_0393_JPG.rf.a97402efb4697149d0e4a46e22e5fd8c.jpg', 'DJI_0393_JPG.rf.b026eca7a4e87697e5cd06ff3b735876.jpg', 'DJI_0393_JPG.rf.ba6648b0c5993452fd32e27bed3de193.jpg', 'DJI_0393_JPG.rf.bc2eaaf3c2609d33a335e46fc148376f.jpg', 'DJI_0393_JPG.rf.bdf54f798c311e490ad0d75271818ec3.jpg', 'DJI_0393_JPG.rf.c08b2c78e074c4bbbab76c3a980b7328.jpg', 'DJI_0393_JPG.rf.c259bb275e9f691bad2a457746096c47.jpg', 'DJI_0393_JPG.rf.c3f5762a53913c63783254ed77befc61.jpg', 'DJI_0393_JPG.rf.c418a3180ae679fbd4b185ed6bfd70ab.jpg', 'DJI_0393_JPG.rf.ca2a51eb7933e704257b1dda2f20c209.jpg', 'DJI_0393_JPG.rf.d11e7a8fc90f9cf9941dd6cddf0bf86f.jpg', 'DJI_0393_JPG.rf.d98ce405dfcc049b528272f1198a849d.jpg', 'DJI_0393_JPG.rf.f14c315968bc98a5fefad7284160cc4e.jpg', 'DJI_0393_JPG.rf.fe919e1077153f9ef3dddeded7eb1035.jpg', 'DJI_0399_JPG.rf.00fd6339b7da3f9d7f93f9b6921e9ede.jpg', 'DJI_0399_JPG.rf.04b24c5866e8a33f3aa432e1cf37a79c.jpg', 'DJI_0399_JPG.rf.06d4806a67e4fbdcf789231be1fc7850.jpg', 'DJI_0399_JPG.rf.082826c528ef173ae4452fd0d78c5946.jpg', 'DJI_0399_JPG.rf.092e1c08ab37b573a019fb84c7489978.jpg', 'DJI_0399_JPG.rf.09812b38656fe6e39d9a825c1c3431bb.jpg', 'DJI_0399_JPG.rf.0bf3b6d1902f5d7f1da59cbd8d01c00e.jpg', 'DJI_0399_JPG.rf.123eff57faed3478141e4353e027c8f2.jpg', 'DJI_0399_JPG.rf.185540a2acf33691994e079e33da48bc.jpg', 'DJI_0399_JPG.rf.1dd054a948eae51ccdaae3aca2692d9a.jpg', 'DJI_0399_JPG.rf.2146d3eb7c50cff9221cb2e15d7d7d5d.jpg', 'DJI_0399_JPG.rf.224555adff95e10aac6235e16e399e72.jpg', 'DJI_0399_JPG.rf.26d3b140051114168c758f5714b11ff1.jpg', 'DJI_0399_JPG.rf.296b1b4e399d9a79eb2890e70af10743.jpg', 'DJI_0399_JPG.rf.2a2911c8300c3bbe0fba79ba66a19d39.jpg', 'DJI_0399_JPG.rf.2c5daa3f45fa1b5087c33134f4e8e146.jpg', 'DJI_0399_JPG.rf.2c646554ec49a5b069d86dc65269d3dc.jpg', 'DJI_0399_JPG.rf.3242169c10773c7addea36688d0aebdc.jpg', 'DJI_0399_JPG.rf.35ada8b5ccc18e73f944bd6bee63a017.jpg', 'DJI_0399_JPG.rf.35ff303eae5555053307aa3ee719ea44.jpg', 'DJI_0399_JPG.rf.37bc28fe9e1a46cce4844ad9caff0d82.jpg', 'DJI_0399_JPG.rf.393717ca137854c1826eeac9cc79cc3d.jpg', 'DJI_0399_JPG.rf.3b7ee59ff2d2efc87b7ef911c54850b9.jpg', 'DJI_0399_JPG.rf.3c3f2b5ab88f2d12f9f66ee8ca8a95d1.jpg', 'DJI_0399_JPG.rf.3c4a42661782e49aaa56f540e51aa7f7.jpg', 'DJI_0399_JPG.rf.3cc8bcce0513334d63728c33fd46541f.jpg', 'DJI_0399_JPG.rf.412071f9c17f1fa9dd96359d76f3bc89.jpg', 'DJI_0399_JPG.rf.427883a31fb76668e45e29f461900424.jpg', 'DJI_0399_JPG.rf.48e1ce4230e2b3eb9ead7f4df0d6a06c.jpg', 'DJI_0399_JPG.rf.4d35cb3e34fb223a8c126fc4f9e6979d.jpg', 'DJI_0399_JPG.rf.5079d68be57c756352a038d7fef68e9b.jpg', 'DJI_0399_JPG.rf.5e54740f4da9392f115cb4c30e819e4c.jpg', 'DJI_0399_JPG.rf.5f01a4d9a28dc4854b19d93a84214f9e.jpg', 'DJI_0399_JPG.rf.624780cf1e88911d0e6a384199275e2c.jpg', 'DJI_0399_JPG.rf.640e024c39bb5c355761bcf53b862136.jpg', 'DJI_0399_JPG.rf.6a82d0ca9155ab7956ba15b695ca270b.jpg', 'DJI_0399_JPG.rf.6b3009315faa1fd653d5264df4582b38.jpg', 'DJI_0399_JPG.rf.76a51fcf821694a6ec9227edfc35c8cd.jpg', 'DJI_0399_JPG.rf.7cc398f77508a7bc620f6dba4348ebe8.jpg', 'DJI_0399_JPG.rf.7d32f36e25a0c1f57a0ab31010cb2c5c.jpg', 'DJI_0399_JPG.rf.813b265c6f199432b89e87c606515e52.jpg', 'DJI_0399_JPG.rf.83fe25542c4c7e5baecbf2fb4dd70e06.jpg', 'DJI_0399_JPG.rf.8476545392329aeeb762a6f4460bb619.jpg', 'DJI_0399_JPG.rf.85a720c7e2a343f557feff381d06776b.jpg', 'DJI_0399_JPG.rf.877e73c2ee7fb84793191173989d9e32.jpg', 'DJI_0399_JPG.rf.92cfa6c6705e3b5a4004b80520c50308.jpg', 'DJI_0399_JPG.rf.99067e475937c8e3ca887ce4ef7d314f.jpg', 'DJI_0399_JPG.rf.99bb92129397f550656c295f8f36e4a4.jpg', 'DJI_0399_JPG.rf.9adaa4db7ff30f46203e7a866e90974a.jpg', 'DJI_0399_JPG.rf.a4fb6613f1847d7578a1bb929b2633b5.jpg', 'DJI_0399_JPG.rf.a82888066d74a1a37ac752ae643cb833.jpg', 'DJI_0399_JPG.rf.a92a2d955fbf0f169629d539af67bb29.jpg', 'DJI_0399_JPG.rf.b500210cd7068fccde29e9a01669d0e5.jpg', 'DJI_0399_JPG.rf.b8f4385ea1c34e9e5124ff6fd6ac398a.jpg', 'DJI_0399_JPG.rf.bbe4ae1cd253b99fd03ff8d104d7768f.jpg', 'DJI_0399_JPG.rf.c327738cf0ebaaa6888e3fdfbf8b2a60.jpg', 'DJI_0399_JPG.rf.c502d755032b5d7592d607b37b707aab.jpg', 'DJI_0399_JPG.rf.d4feec55ed1c5129ae2f2695300fd296.jpg', 'DJI_0399_JPG.rf.d9d3d5420f3ddcb4015196b19da88d28.jpg', 'DJI_0399_JPG.rf.dd02d194b2af4f1f964567b4bfb075af.jpg', 'DJI_0399_JPG.rf.de3399bc2641be3f9882b662420abbfe.jpg', 'DJI_0399_JPG.rf.dee65937b06667bebbfb86ae3803e9c5.jpg', 'DJI_0399_JPG.rf.e305f7c38552f69fc635431552a15f60.jpg', 'DJI_0399_JPG.rf.e3ecd41e1f23d18fac563e3d04b5e397.jpg', 'DJI_0399_JPG.rf.e426734a75f378b467410f58954b39aa.jpg', 'DJI_0399_JPG.rf.e42e9f8e6b5ba9538ee9e4393eb7844c.jpg', 'DJI_0399_JPG.rf.e708cf2409ffbfa0ed5e9241f6321a0c.jpg', 'DJI_0399_JPG.rf.e96a3f0815a9dc872300326805a5a412.jpg', 'DJI_0399_JPG.rf.e99ab501668114edd023d12b67659e13.jpg', 'DJI_0399_JPG.rf.f4ddf1bf10d357c0fbf9a4556159dee8.jpg', 'DJI_0399_JPG.rf.f73af3683d469b2d1f73fe86fdbab207.jpg', 'DJI_0399_JPG.rf.f84630249abbdc6486ecd838c3410158.jpg', 'DJI_0399_JPG.rf.fd4de47e5cb6605943c3180d8c9de2ad.jpg', 'DJI_0399_JPG.rf.ff032718016ecfa980c1322d89057f4a.jpg', 'DJI_0399_JPG.rf.ff4f885a3310ce4bdaa53f370f13256e.jpg', 'DJI_0416_JPG.rf.05033f6cd4cfae2471683b3d0c75d881.jpg', 'DJI_0416_JPG.rf.09c3f62ca320e996c1063e524b50f062.jpg', 'DJI_0416_JPG.rf.2551c594e93600d0916e91173d85870b.jpg', 'DJI_0416_JPG.rf.2ce855e77a65d1e5b74b761a6915c66d.jpg', 'DJI_0416_JPG.rf.2e234cf9037563ef4d0120d774a73f6d.jpg', 'DJI_0416_JPG.rf.3123048fb6e1c20ea9e94f6bab0a89ee.jpg', 'DJI_0416_JPG.rf.3255652eebf43dd1af15f86d56027ecc.jpg', 'DJI_0416_JPG.rf.3ecdceda5f065d75804fff3e65be5e79.jpg', 'DJI_0416_JPG.rf.4294e47561ad0fa9a3317c34654a5992.jpg', 'DJI_0416_JPG.rf.458221c702697ca292527f484ed52bd8.jpg', 'DJI_0416_JPG.rf.461837705a8b11de6715e31a37b5f842.jpg', 'DJI_0416_JPG.rf.4b86067aa4ea4e8139a1e4bc19566efc.jpg', 'DJI_0416_JPG.rf.5ebec11b5112e5f52cc1ce7159bbdb17.jpg', 'DJI_0416_JPG.rf.62d5a8ae47e27111a29c1e72054cf383.jpg', 'DJI_0416_JPG.rf.652b4ea3d5f711a9c240d22747bdf62a.jpg', 'DJI_0416_JPG.rf.68bbabcd7fd9b30b0e53471c6abff472.jpg', 'DJI_0416_JPG.rf.6eb7ffa7270f833960818c2355fe8059.jpg', 'DJI_0416_JPG.rf.71131faf8dafd35d59e651699eaab154.jpg', 'DJI_0416_JPG.rf.72ed9000caade889695f659c8dcf9b2e.jpg', 'DJI_0416_JPG.rf.7441fc05695a61773e956b79e7efce53.jpg', 'DJI_0416_JPG.rf.7502bf6e6c1b41c788f8386793617129.jpg', 'DJI_0416_JPG.rf.88246220a28a4abdaab6f6486687cf2f.jpg', 'DJI_0416_JPG.rf.9a1a943cdb3e0a04d8621cb966a1b7ce.jpg', 'DJI_0416_JPG.rf.a114dca981df5bc0b6da66c79e0ff737.jpg', 'DJI_0416_JPG.rf.a2b9255efd09ef362fef34229d536fc4.jpg', 'DJI_0416_JPG.rf.a363709e01b0148e21b9b13582bc39ff.jpg', 'DJI_0416_JPG.rf.aa2f44f24df40cebd224eb6fb4ebcf9b.jpg', 'DJI_0416_JPG.rf.aa31f8ab6e4e4d3df587d4e70657651f.jpg', 'DJI_0416_JPG.rf.aad80cdc72d879b2cca964e752d1a942.jpg', 'DJI_0416_JPG.rf.b0ef12478f63cf1316a6f10a6be31159.jpg', 'DJI_0416_JPG.rf.b35b2cd58cba0790643b8437a5f449c3.jpg', 'DJI_0416_JPG.rf.bfc268074080fd7e929ee3eb706373e0.jpg', 'DJI_0416_JPG.rf.c3cfcdbde50228bd63cdffcf2c0e7561.jpg', 'DJI_0416_JPG.rf.d0da93b08b21af75b370ef1a0fd5a8d5.jpg', 'DJI_0416_JPG.rf.da4b224dd7d6fa99528dd8b4c5806941.jpg', 'DJI_0416_JPG.rf.df7abd4bcb9652080f65c310dc3e22b5.jpg', 'DJI_0416_JPG.rf.ee8c5fbf36b436c4324b60fbf9d25024.jpg', 'DJI_0416_JPG.rf.ef255ebc6ef7ecd64ada18843b63f4c5.jpg', 'DJI_0416_JPG.rf.f358a93f7f23ffcda57466ddcbf5df9c.jpg', 'DJI_0416_JPG.rf.f92f9dc4b24386168b25ead2824b571d.jpg', 'DJI_0416_JPG.rf.f995383f49643aacceabea7d37a24f82.jpg', 'DJI_0416_JPG.rf.fd7624c5273ac0fd8980cfca26787e7f.jpg', 'DJI_0467_JPG.rf.03633f8fdc21db3858fcb685cf94ab81.jpg', 'DJI_0467_JPG.rf.18d3a47832b17578020fb59d595fa0d8.jpg', 'DJI_0467_JPG.rf.22cd4d20ef272e29c9d0dec403510ef0.jpg', 'DJI_0467_JPG.rf.23d383d19611207cad46d1d57f886d1a.jpg', 'DJI_0467_JPG.rf.3a9aacb8475f423517938401551e1c1d.jpg', 'DJI_0467_JPG.rf.3c8e019a08b10efc2ad3acfbfa5d44a8.jpg', 'DJI_0467_JPG.rf.3f05dff938e783324f0a539ba43d3c20.jpg', 'DJI_0467_JPG.rf.420301df43016fd46b9e0937f0c51a7d.jpg', 'DJI_0467_JPG.rf.4fa9c36610108419b86da10faef2e89b.jpg', 'DJI_0467_JPG.rf.53f5236e139636a2dff5a22dd14d1fe3.jpg', 'DJI_0467_JPG.rf.5543d75032747f122001490287f0c9fe.jpg', 'DJI_0467_JPG.rf.56e2d5dfc62dfb007397bfaac43c9825.jpg', 'DJI_0467_JPG.rf.578cc00a36eee672e1700a3ecae42694.jpg', 'DJI_0467_JPG.rf.5b0777598aba3a5c2dc5f33b554ec593.jpg', 'DJI_0467_JPG.rf.5ed0afaa13986a2729f38d9233e58c65.jpg', 'DJI_0467_JPG.rf.628b60be635131e1bec8a9dc48b53b1c.jpg', 'DJI_0467_JPG.rf.6549f3295380e14328aa89767e5e3491.jpg', 'DJI_0467_JPG.rf.6bc073940491779b807830b8d43aef1b.jpg', 'DJI_0467_JPG.rf.6f05a669955d87f96f0874e75b5d75ed.jpg', 'DJI_0467_JPG.rf.6f194070b85bade97a45461b785a92c6.jpg', 'DJI_0467_JPG.rf.75547db6c522069a50946917f8333849.jpg', 'DJI_0467_JPG.rf.76907fbcb9ce8c3ad55f43d5822773a3.jpg', 'DJI_0467_JPG.rf.787b724f3e1aa297a0c1291cbbc4affd.jpg', 'DJI_0467_JPG.rf.801d77ac8cc2f963837f3d0c0a3a6f05.jpg', 'DJI_0467_JPG.rf.81bf5f3344507a09e220961b3015ed11.jpg', 'DJI_0467_JPG.rf.8494240a6009e3503d3032b4e7e3ee27.jpg', 'DJI_0467_JPG.rf.855496808dcc7455782eec3a3f7376b3.jpg', 'DJI_0467_JPG.rf.855a3f4364929c789c80a6735ad897df.jpg', 'DJI_0467_JPG.rf.86af8fdeb01aab56f613001af2062e63.jpg', 'DJI_0467_JPG.rf.8f98ea2b47c61b6a70884efa626afb2a.jpg', 'DJI_0467_JPG.rf.92f46e664c5b6d934e57db93907bcde9.jpg', 'DJI_0467_JPG.rf.9a918ce07f7d1277978f79962c4b2fd8.jpg', 'DJI_0467_JPG.rf.a14f76fa6df327963f0ca00bc01a4499.jpg', 'DJI_0467_JPG.rf.a7dabf461ebfd434a25f8bf673bf85d0.jpg', 'DJI_0467_JPG.rf.a86e343b53c538ed11fbd59a9e11bff1.jpg', 'DJI_0467_JPG.rf.a9a423a88e01215739b33c5017a7a939.jpg', 'DJI_0467_JPG.rf.b7a830cfa218e5e688af93b4575034db.jpg', 'DJI_0467_JPG.rf.bafe0191f84bcdc1ca46f8eecb94fb5e.jpg', 'DJI_0467_JPG.rf.bcf052b7e693f2e3a2f1ae5874e7bfdf.jpg', 'DJI_0467_JPG.rf.be763a6a1e18c7e55fb2082a11b3211c.jpg', 'DJI_0467_JPG.rf.c9031b4f255bbbbc23061c1be86cb27d.jpg', 'DJI_0467_JPG.rf.cc3af3dc50302f28d0eac848055f3215.jpg', 'DJI_0467_JPG.rf.cdc255c340baed4463f44d465a92f8c2.jpg', 'DJI_0467_JPG.rf.cf05b5e42003c0f80cc2b7f4fc828e3c.jpg', 'DJI_0467_JPG.rf.d62112325468a7cd514f0676c85ddf02.jpg', 'DJI_0467_JPG.rf.d80e47955e3693b71dfd96354581e6f3.jpg', 'DJI_0467_JPG.rf.dc63e20caa27ee568aa7c72522cadd8a.jpg', 'DJI_0467_JPG.rf.de9f722d201a41544e066917fa4aea18.jpg', 'DJI_0467_JPG.rf.e7c48192a7d1184c1d30fa4d505d23a2.jpg', 'DJI_0467_JPG.rf.e7d911d14ff19fdb496bb3a340c66ec2.jpg', 'DJI_0467_JPG.rf.edc1eefb7516cd3a5b88c4150c5c664f.jpg', 'DJI_0467_JPG.rf.ede4177018fc019a3c2d178414994aa2.jpg', 'DJI_0467_JPG.rf.f3eb290c36b64d2e56a3567f60fc5bc9.jpg', 'DJI_0467_JPG.rf.f773728bae0f693f3b9a285f2e5be2dc.jpg', 'DJI_0484_JPG.rf.013a04106d4bb4e4960722efc146b91d.jpg', 'DJI_0484_JPG.rf.0ab5cc6ee0e61700b566c412c5076cae.jpg', 'DJI_0484_JPG.rf.0fe03fa366b89c9df15620ffb121889d.jpg', 'DJI_0484_JPG.rf.11b403c1a886ec7a768058e97f876a76.jpg', 'DJI_0484_JPG.rf.215613027fb33350a91699b65c735963.jpg', 'DJI_0484_JPG.rf.2706f7f1fecf8c1aed2cb0b4667f865a.jpg', 'DJI_0484_JPG.rf.2db0b8954a2d25290da12b4be6ad5387.jpg', 'DJI_0484_JPG.rf.2eae66b38a8cd060819991112614b4f3.jpg', 'DJI_0484_JPG.rf.2f42c0d7e5742e5c1fd1b04635e9881e.jpg', 'DJI_0484_JPG.rf.3bb9d977b40fac1442d236fa1c16ed92.jpg', 'DJI_0484_JPG.rf.404dce0c59b31fb962e22a26a35bae91.jpg', 'DJI_0484_JPG.rf.4b0cba58396f2b759f170a4283fc9082.jpg', 'DJI_0484_JPG.rf.56b0bdb281da650e32d1ad75cb1f6a7d.jpg', 'DJI_0484_JPG.rf.5ef5cde1907ee07b25d8f84732251e5b.jpg', 'DJI_0484_JPG.rf.6320d32af7bc251fd7b00fdeb576ae9d.jpg', 'DJI_0484_JPG.rf.6aaa2c523dd423f83079333f2b660789.jpg', 'DJI_0484_JPG.rf.819935d62568846a75358f78d81778ab.jpg', 'DJI_0484_JPG.rf.84c61d21461a14376ee48bbe6dd928bd.jpg', 'DJI_0484_JPG.rf.87acef76450e6c076156ac473efa4094.jpg', 'DJI_0484_JPG.rf.8c04808b28eb96f4810a8a29b8ef6a1b.jpg', 'DJI_0484_JPG.rf.8c04f95fef42e84158067e10ebb26ba5.jpg', 'DJI_0484_JPG.rf.980cb1a33665b85b6acf81f76341c226.jpg', 'DJI_0484_JPG.rf.9bd8ad8f9931872e907d3723a587bac0.jpg', 'DJI_0484_JPG.rf.9d36ab4d84e5358023b5a1bf06e8fc3a.jpg', 'DJI_0484_JPG.rf.a3a56a2b0b84191ccd3cee4c30e44729.jpg', 'DJI_0484_JPG.rf.aa23c0e6edb2fa68e9fc7424373b0342.jpg', 'DJI_0484_JPG.rf.ab2735f0d0219e7feffc6f8e92f49906.jpg', 'DJI_0484_JPG.rf.ad2776e9984c8fa05d9734115ccca3db.jpg', 'DJI_0484_JPG.rf.b8903f7b1955f041d52cde7d5958d8d3.jpg', 'DJI_0484_JPG.rf.b9f55c9a5dd8f7f9993a6892703ca02f.jpg', 'DJI_0484_JPG.rf.bc996fa9a446a9a779c30a6d8165aa3e.jpg', 'DJI_0484_JPG.rf.c779fb16c48a19cf29549e096e4ca88c.jpg', 'DJI_0484_JPG.rf.cbb5b83780210b6e85c12421a7a9d4af.jpg', 'DJI_0484_JPG.rf.d53ed13196af7e4f0bb02e3af153ec7c.jpg', 'DJI_0484_JPG.rf.de029d0a6577e65117a2b975de3c9c6c.jpg', 'DJI_0484_JPG.rf.df0f5f37fb549d7918ce1eb9a4c5f422.jpg', 'DJI_0484_JPG.rf.e284d591bbda122a067fc86b23ce2021.jpg', 'DJI_0484_JPG.rf.ee014b1915bb3686caf0d7519f136927.jpg', 'DJI_0484_JPG.rf.fabd3466911382025b6d62d12d929a73.jpg', 'DJI_0484_JPG.rf.fc2674ebbefe2a8aee10d299e903aa6f.jpg', 'DJI_0484_JPG.rf.fc2a433feb0edd38f746b9a7a2ec5c31.jpg', 'DJI_0484_JPG.rf.ff0d592cf489c43e63ab3fff466f7c1e.jpg']\n"
          ]
        }
      ]
    },
    {
      "cell_type": "code",
      "source": [
        "from ultralytics import YOLO\n",
        "import torch\n",
        "import os\n",
        "\n",
        "# ✅ ENSURE YOLO USES GPU IF AVAILABLE\n",
        "device = \"cuda\" if torch.cuda.is_available() else \"cpu\"\n",
        "\n",
        "# ✅ FORCE LOADING YOLOv11L ONLY (BLOCK AUTODOWNLOAD)\n",
        "model_path = \"C:/Strawberry.v6i.yolov11/yolo11l.pt\"\n",
        "\n",
        "# ✅ CHECK IF THE WEIGHTS EXIST LOCALLY\n",
        "if not os.path.exists(model_path):\n",
        "    raise FileNotFoundError(f\"🚨 Model weights '{model_path}' not found! Place it in your directory before training.\")\n",
        "\n",
        "# ✅ FORCE LOADING THE LARGE MODEL ONLY\n",
        "model = YOLO(model_path)\n",
        "\n",
        "# ✅ PATH TO YOUR DATASET YAML FILE\n",
        "data_yaml = \"C:/Strawberry.v6i.yolov11/strawberry.yaml\"\n",
        "\n",
        "# ✅ BLOCK AUTOMATIC DOWNLOADS\n",
        "os.environ[\"YOLO_AUTO_DOWNLOAD\"] = \"0\"  # Ensures Ultralytics does not download anything\n",
        "\n",
        "# ✅ FORCE TRAIN WITH YOLOv11L ONLY\n",
        "model.train(\n",
        "    data=data_yaml,\n",
        "    epochs=100,\n",
        "    imgsz=640,\n",
        "    batch=16,\n",
        "    workers=4,\n",
        "    device=device,\n",
        "    project=\"YOLOv11_Training\",\n",
        "    name=\"YOLOv11L_Strawberry\",\n",
        "    exist_ok=True,\n",
        "    pretrained=False,  # **BLOCK AUTO-DOWNLOADING SMALLER MODELS**\n",
        "    amp=False,  # **DISABLE AUTOMATIC MIXED PRECISION (AMP)**\n",
        "    resume=False  # **ENSURE IT DOESN’T PICK A PREVIOUS RUN**\n",
        ")\n",
        "\n",
        "# ✅ SAVE FINAL MODEL WEIGHTS\n",
        "model.export(format=\"onnx\")  # Export for compatibility\n",
        "print(\"✅ Training complete. Model saved!\")"
      ],
      "metadata": {
        "colab": {
          "base_uri": "https://localhost:8080/"
        },
        "id": "yxKX77m6u_Qh",
        "outputId": "74492e78-0380-4c51-c332-940a9b825dc2"
      },
      "execution_count": 4,
      "outputs": [
        {
          "output_type": "stream",
          "name": "stdout",
          "text": [
            "New https://pypi.org/project/ultralytics/8.3.88 available  Update with 'pip install -U ultralytics'\n",
            "Ultralytics 8.3.80  Python-3.10.6 torch-2.5.1+cu124 CUDA:0 (NVIDIA GeForce RTX 3090, 24576MiB)\n",
            "\u001b[34m\u001b[1mengine\\trainer: \u001b[0mtask=detect, mode=train, model=C:/Strawberry.v6i.yolov11/yolo11l.pt, data=C:/Strawberry.v6i.yolov11/strawberry.yaml, epochs=100, time=None, patience=100, batch=16, imgsz=640, save=True, save_period=-1, cache=False, device=cuda, workers=4, project=YOLOv11_Training, name=YOLOv11L_Strawberry, exist_ok=True, pretrained=False, optimizer=auto, verbose=True, seed=0, deterministic=True, single_cls=False, rect=False, cos_lr=False, close_mosaic=10, resume=False, amp=False, fraction=1.0, profile=False, freeze=None, multi_scale=False, overlap_mask=True, mask_ratio=4, dropout=0.0, val=True, split=val, save_json=False, save_hybrid=False, conf=None, iou=0.7, max_det=300, half=False, dnn=False, plots=True, source=None, vid_stride=1, stream_buffer=False, visualize=False, augment=False, agnostic_nms=False, classes=None, retina_masks=False, embed=None, show=False, save_frames=False, save_txt=False, save_conf=False, save_crop=False, show_labels=True, show_conf=True, show_boxes=True, line_width=None, format=torchscript, keras=False, optimize=False, int8=False, dynamic=False, simplify=True, opset=None, workspace=None, nms=False, lr0=0.01, lrf=0.01, momentum=0.937, weight_decay=0.0005, warmup_epochs=3.0, warmup_momentum=0.8, warmup_bias_lr=0.1, box=7.5, cls=0.5, dfl=1.5, pose=12.0, kobj=1.0, nbs=64, hsv_h=0.015, hsv_s=0.7, hsv_v=0.4, degrees=0.0, translate=0.1, scale=0.5, shear=0.0, perspective=0.0, flipud=0.0, fliplr=0.5, bgr=0.0, mosaic=1.0, mixup=0.0, copy_paste=0.0, copy_paste_mode=flip, auto_augment=randaugment, erasing=0.4, crop_fraction=1.0, cfg=None, tracker=botsort.yaml, save_dir=YOLOv11_Training\\YOLOv11L_Strawberry\n",
            "Overriding model.yaml nc=80 with nc=2\n",
            "\n",
            "                   from  n    params  module                                       arguments                     \n",
            "  0                  -1  1      1856  ultralytics.nn.modules.conv.Conv             [3, 64, 3, 2]                 \n",
            "  1                  -1  1     73984  ultralytics.nn.modules.conv.Conv             [64, 128, 3, 2]               \n",
            "  2                  -1  2    173824  ultralytics.nn.modules.block.C3k2            [128, 256, 2, True, 0.25]     \n",
            "  3                  -1  1    590336  ultralytics.nn.modules.conv.Conv             [256, 256, 3, 2]              \n",
            "  4                  -1  2    691712  ultralytics.nn.modules.block.C3k2            [256, 512, 2, True, 0.25]     \n",
            "  5                  -1  1   2360320  ultralytics.nn.modules.conv.Conv             [512, 512, 3, 2]              \n",
            "  6                  -1  2   2234368  ultralytics.nn.modules.block.C3k2            [512, 512, 2, True]           \n",
            "  7                  -1  1   2360320  ultralytics.nn.modules.conv.Conv             [512, 512, 3, 2]              \n",
            "  8                  -1  2   2234368  ultralytics.nn.modules.block.C3k2            [512, 512, 2, True]           \n",
            "  9                  -1  1    656896  ultralytics.nn.modules.block.SPPF            [512, 512, 5]                 \n",
            " 10                  -1  2   1455616  ultralytics.nn.modules.block.C2PSA           [512, 512, 2]                 \n",
            " 11                  -1  1         0  torch.nn.modules.upsampling.Upsample         [None, 2, 'nearest']          \n",
            " 12             [-1, 6]  1         0  ultralytics.nn.modules.conv.Concat           [1]                           \n",
            " 13                  -1  2   2496512  ultralytics.nn.modules.block.C3k2            [1024, 512, 2, True]          \n",
            " 14                  -1  1         0  torch.nn.modules.upsampling.Upsample         [None, 2, 'nearest']          \n",
            " 15             [-1, 4]  1         0  ultralytics.nn.modules.conv.Concat           [1]                           \n",
            " 16                  -1  2    756736  ultralytics.nn.modules.block.C3k2            [1024, 256, 2, True]          \n",
            " 17                  -1  1    590336  ultralytics.nn.modules.conv.Conv             [256, 256, 3, 2]              \n",
            " 18            [-1, 13]  1         0  ultralytics.nn.modules.conv.Concat           [1]                           \n",
            " 19                  -1  2   2365440  ultralytics.nn.modules.block.C3k2            [768, 512, 2, True]           \n",
            " 20                  -1  1   2360320  ultralytics.nn.modules.conv.Conv             [512, 512, 3, 2]              \n",
            " 21            [-1, 10]  1         0  ultralytics.nn.modules.conv.Concat           [1]                           \n",
            " 22                  -1  2   2496512  ultralytics.nn.modules.block.C3k2            [1024, 512, 2, True]          \n",
            " 23        [16, 19, 22]  1   1412566  ultralytics.nn.modules.head.Detect           [2, [256, 512, 512]]          \n",
            "YOLO11l summary: 357 layers, 25,312,022 parameters, 25,312,006 gradients, 87.3 GFLOPs\n",
            "\n",
            "Transferred 1009/1015 items from pretrained weights\n",
            "\u001b[34m\u001b[1mTensorBoard: \u001b[0mStart with 'tensorboard --logdir YOLOv11_Training\\YOLOv11L_Strawberry', view at http://localhost:6006/\n",
            "Freezing layer 'model.23.dfl.conv.weight'\n"
          ]
        },
        {
          "output_type": "stream",
          "name": "stderr",
          "text": [
            "\u001b[34m\u001b[1mtrain: \u001b[0mScanning C:\\Strawberry.v6i.yolov11\\train\\labels.cache... 1236 images, 0 backgrounds, 0 corrupt: 100%|██████████|\u001b[0m"
          ]
        },
        {
          "output_type": "stream",
          "name": "stdout",
          "text": [
            "\u001b[34m\u001b[1malbumentations: \u001b[0mBlur(p=0.01, blur_limit=(3, 7)), MedianBlur(p=0.01, blur_limit=(3, 7)), ToGray(p=0.01), CLAHE(p=0.01, clip_limit=(1, 4.0), tile_grid_size=(8, 8))\n"
          ]
        },
        {
          "output_type": "stream",
          "name": "stderr",
          "text": [
            "\n",
            "\u001b[34m\u001b[1mval: \u001b[0mScanning C:\\Strawberry.v6i.yolov11\\valid\\labels.cache... 183 images, 0 backgrounds, 0 corrupt: 100%|██████████| 18\u001b[0m\n"
          ]
        },
        {
          "output_type": "stream",
          "name": "stdout",
          "text": [
            "Plotting labels to YOLOv11_Training\\YOLOv11L_Strawberry\\labels.jpg... \n",
            "\u001b[34m\u001b[1moptimizer:\u001b[0m 'optimizer=auto' found, ignoring 'lr0=0.01' and 'momentum=0.937' and determining best 'optimizer', 'lr0' and 'momentum' automatically... \n",
            "\u001b[34m\u001b[1moptimizer:\u001b[0m AdamW(lr=0.001667, momentum=0.9) with parameter groups 167 weight(decay=0.0), 174 weight(decay=0.0005), 173 bias(decay=0.0)\n",
            "\u001b[34m\u001b[1mTensorBoard: \u001b[0mmodel graph visualization added \n",
            "Image sizes 640 train, 640 val\n",
            "Using 4 dataloader workers\n",
            "Logging results to \u001b[1mYOLOv11_Training\\YOLOv11L_Strawberry\u001b[0m\n",
            "Starting training for 100 epochs...\n",
            "\n",
            "      Epoch    GPU_mem   box_loss   cls_loss   dfl_loss  Instances       Size\n"
          ]
        },
        {
          "output_type": "stream",
          "name": "stderr",
          "text": [
            "      1/100      20.9G      2.134      2.302      1.579         34        640: 100%|██████████| 78/78 [00:43<00:00,  1.\n",
            "                 Class     Images  Instances      Box(P          R      mAP50  mAP50-95): 100%|██████████| 6/6 [00:04<0"
          ]
        },
        {
          "output_type": "stream",
          "name": "stdout",
          "text": [
            "                   all        183        813    0.00675      0.223    0.00388    0.00171\n"
          ]
        },
        {
          "output_type": "stream",
          "name": "stderr",
          "text": [
            "\n"
          ]
        },
        {
          "output_type": "stream",
          "name": "stdout",
          "text": [
            "\n",
            "      Epoch    GPU_mem   box_loss   cls_loss   dfl_loss  Instances       Size\n"
          ]
        },
        {
          "output_type": "stream",
          "name": "stderr",
          "text": [
            "      2/100      20.9G      2.107      1.865      1.604         25        640: 100%|██████████| 78/78 [00:41<00:00,  1.\n",
            "                 Class     Images  Instances      Box(P          R      mAP50  mAP50-95): 100%|██████████| 6/6 [00:02<0"
          ]
        },
        {
          "output_type": "stream",
          "name": "stdout",
          "text": [
            "                   all        183        813      0.241      0.438      0.143     0.0595\n"
          ]
        },
        {
          "output_type": "stream",
          "name": "stderr",
          "text": [
            "\n"
          ]
        },
        {
          "output_type": "stream",
          "name": "stdout",
          "text": [
            "\n",
            "      Epoch    GPU_mem   box_loss   cls_loss   dfl_loss  Instances       Size\n"
          ]
        },
        {
          "output_type": "stream",
          "name": "stderr",
          "text": [
            "      3/100      20.9G      2.125      1.871      1.647         23        640: 100%|██████████| 78/78 [00:32<00:00,  2.\n",
            "                 Class     Images  Instances      Box(P          R      mAP50  mAP50-95): 100%|██████████| 6/6 [00:01<0"
          ]
        },
        {
          "output_type": "stream",
          "name": "stdout",
          "text": [
            "                   all        183        813      0.405      0.551      0.425      0.167\n"
          ]
        },
        {
          "output_type": "stream",
          "name": "stderr",
          "text": [
            "\n"
          ]
        },
        {
          "output_type": "stream",
          "name": "stdout",
          "text": [
            "\n",
            "      Epoch    GPU_mem   box_loss   cls_loss   dfl_loss  Instances       Size\n"
          ]
        },
        {
          "output_type": "stream",
          "name": "stderr",
          "text": [
            "      4/100      20.9G      2.096      1.774      1.604         31        640: 100%|██████████| 78/78 [00:32<00:00,  2.\n",
            "                 Class     Images  Instances      Box(P          R      mAP50  mAP50-95): 100%|██████████| 6/6 [00:08<0"
          ]
        },
        {
          "output_type": "stream",
          "name": "stdout",
          "text": [
            "                   all        183        813      0.482      0.479      0.408      0.162\n"
          ]
        },
        {
          "output_type": "stream",
          "name": "stderr",
          "text": [
            "\n"
          ]
        },
        {
          "output_type": "stream",
          "name": "stdout",
          "text": [
            "\n",
            "      Epoch    GPU_mem   box_loss   cls_loss   dfl_loss  Instances       Size\n"
          ]
        },
        {
          "output_type": "stream",
          "name": "stderr",
          "text": [
            "      5/100        21G      2.099      1.796      1.612         19        640: 100%|██████████| 78/78 [00:36<00:00,  2.\n",
            "                 Class     Images  Instances      Box(P          R      mAP50  mAP50-95): 100%|██████████| 6/6 [00:02<0"
          ]
        },
        {
          "output_type": "stream",
          "name": "stdout",
          "text": [
            "                   all        183        813      0.292      0.542      0.387      0.147\n"
          ]
        },
        {
          "output_type": "stream",
          "name": "stderr",
          "text": [
            "\n"
          ]
        },
        {
          "output_type": "stream",
          "name": "stdout",
          "text": [
            "\n",
            "      Epoch    GPU_mem   box_loss   cls_loss   dfl_loss  Instances       Size\n"
          ]
        },
        {
          "output_type": "stream",
          "name": "stderr",
          "text": [
            "      6/100      20.9G      2.025      1.731      1.556         30        640: 100%|██████████| 78/78 [00:32<00:00,  2.\n",
            "                 Class     Images  Instances      Box(P          R      mAP50  mAP50-95): 100%|██████████| 6/6 [00:13<0"
          ]
        },
        {
          "output_type": "stream",
          "name": "stdout",
          "text": [
            "                   all        183        813      0.449      0.528      0.483      0.207\n"
          ]
        },
        {
          "output_type": "stream",
          "name": "stderr",
          "text": [
            "\n"
          ]
        },
        {
          "output_type": "stream",
          "name": "stdout",
          "text": [
            "\n",
            "      Epoch    GPU_mem   box_loss   cls_loss   dfl_loss  Instances       Size\n"
          ]
        },
        {
          "output_type": "stream",
          "name": "stderr",
          "text": [
            "      7/100      20.9G      2.035      1.667      1.578         17        640: 100%|██████████| 78/78 [00:31<00:00,  2.\n",
            "                 Class     Images  Instances      Box(P          R      mAP50  mAP50-95): 100%|██████████| 6/6 [00:01<0"
          ]
        },
        {
          "output_type": "stream",
          "name": "stdout",
          "text": [
            "                   all        183        813      0.379      0.461      0.412      0.158\n"
          ]
        },
        {
          "output_type": "stream",
          "name": "stderr",
          "text": [
            "\n"
          ]
        },
        {
          "output_type": "stream",
          "name": "stdout",
          "text": [
            "\n",
            "      Epoch    GPU_mem   box_loss   cls_loss   dfl_loss  Instances       Size\n"
          ]
        },
        {
          "output_type": "stream",
          "name": "stderr",
          "text": [
            "      8/100      20.9G       1.99      1.657       1.54         24        640: 100%|██████████| 78/78 [00:32<00:00,  2.\n",
            "                 Class     Images  Instances      Box(P          R      mAP50  mAP50-95): 100%|██████████| 6/6 [00:19<0"
          ]
        },
        {
          "output_type": "stream",
          "name": "stdout",
          "text": [
            "                   all        183        813      0.523      0.525      0.495      0.192\n"
          ]
        },
        {
          "output_type": "stream",
          "name": "stderr",
          "text": [
            "\n"
          ]
        },
        {
          "output_type": "stream",
          "name": "stdout",
          "text": [
            "\n",
            "      Epoch    GPU_mem   box_loss   cls_loss   dfl_loss  Instances       Size\n"
          ]
        },
        {
          "output_type": "stream",
          "name": "stderr",
          "text": [
            "      9/100      20.9G      1.968      1.617      1.532         21        640: 100%|██████████| 78/78 [00:37<00:00,  2.\n",
            "                 Class     Images  Instances      Box(P          R      mAP50  mAP50-95): 100%|██████████| 6/6 [00:14<0"
          ]
        },
        {
          "output_type": "stream",
          "name": "stdout",
          "text": [
            "                   all        183        813      0.403      0.586      0.507      0.212\n"
          ]
        },
        {
          "output_type": "stream",
          "name": "stderr",
          "text": [
            "\n"
          ]
        },
        {
          "output_type": "stream",
          "name": "stdout",
          "text": [
            "\n",
            "      Epoch    GPU_mem   box_loss   cls_loss   dfl_loss  Instances       Size\n"
          ]
        },
        {
          "output_type": "stream",
          "name": "stderr",
          "text": [
            "     10/100      20.9G      1.962      1.614      1.533         13        640: 100%|██████████| 78/78 [00:34<00:00,  2.\n",
            "                 Class     Images  Instances      Box(P          R      mAP50  mAP50-95): 100%|██████████| 6/6 [00:12<0"
          ]
        },
        {
          "output_type": "stream",
          "name": "stdout",
          "text": [
            "                   all        183        813      0.521      0.559      0.501      0.204\n"
          ]
        },
        {
          "output_type": "stream",
          "name": "stderr",
          "text": [
            "\n"
          ]
        },
        {
          "output_type": "stream",
          "name": "stdout",
          "text": [
            "\n",
            "      Epoch    GPU_mem   box_loss   cls_loss   dfl_loss  Instances       Size\n"
          ]
        },
        {
          "output_type": "stream",
          "name": "stderr",
          "text": [
            "     11/100      20.9G      1.934      1.561      1.534         20        640: 100%|██████████| 78/78 [00:33<00:00,  2.\n",
            "                 Class     Images  Instances      Box(P          R      mAP50  mAP50-95): 100%|██████████| 6/6 [00:19<0"
          ]
        },
        {
          "output_type": "stream",
          "name": "stdout",
          "text": [
            "                   all        183        813      0.557      0.584      0.568      0.236\n"
          ]
        },
        {
          "output_type": "stream",
          "name": "stderr",
          "text": [
            "\n"
          ]
        },
        {
          "output_type": "stream",
          "name": "stdout",
          "text": [
            "\n",
            "      Epoch    GPU_mem   box_loss   cls_loss   dfl_loss  Instances       Size\n"
          ]
        },
        {
          "output_type": "stream",
          "name": "stderr",
          "text": [
            "     12/100      20.9G      1.924      1.547      1.506         37        640: 100%|██████████| 78/78 [00:33<00:00,  2.\n",
            "                 Class     Images  Instances      Box(P          R      mAP50  mAP50-95): 100%|██████████| 6/6 [00:12<0"
          ]
        },
        {
          "output_type": "stream",
          "name": "stdout",
          "text": [
            "                   all        183        813      0.513      0.614      0.555      0.218\n"
          ]
        },
        {
          "output_type": "stream",
          "name": "stderr",
          "text": [
            "\n"
          ]
        },
        {
          "output_type": "stream",
          "name": "stdout",
          "text": [
            "\n",
            "      Epoch    GPU_mem   box_loss   cls_loss   dfl_loss  Instances       Size\n"
          ]
        },
        {
          "output_type": "stream",
          "name": "stderr",
          "text": [
            "     13/100      20.9G      1.921      1.544      1.514         27        640: 100%|██████████| 78/78 [00:33<00:00,  2.\n",
            "                 Class     Images  Instances      Box(P          R      mAP50  mAP50-95): 100%|██████████| 6/6 [00:14<0"
          ]
        },
        {
          "output_type": "stream",
          "name": "stdout",
          "text": [
            "                   all        183        813      0.522      0.589      0.549      0.224\n"
          ]
        },
        {
          "output_type": "stream",
          "name": "stderr",
          "text": [
            "\n"
          ]
        },
        {
          "output_type": "stream",
          "name": "stdout",
          "text": [
            "\n",
            "      Epoch    GPU_mem   box_loss   cls_loss   dfl_loss  Instances       Size\n"
          ]
        },
        {
          "output_type": "stream",
          "name": "stderr",
          "text": [
            "     14/100      20.9G      1.885      1.464      1.477         27        640: 100%|██████████| 78/78 [00:31<00:00,  2.\n",
            "                 Class     Images  Instances      Box(P          R      mAP50  mAP50-95): 100%|██████████| 6/6 [00:01<0"
          ]
        },
        {
          "output_type": "stream",
          "name": "stdout",
          "text": [
            "                   all        183        813      0.484      0.558      0.533      0.226\n"
          ]
        },
        {
          "output_type": "stream",
          "name": "stderr",
          "text": [
            "\n"
          ]
        },
        {
          "output_type": "stream",
          "name": "stdout",
          "text": [
            "\n",
            "      Epoch    GPU_mem   box_loss   cls_loss   dfl_loss  Instances       Size\n"
          ]
        },
        {
          "output_type": "stream",
          "name": "stderr",
          "text": [
            "     15/100      20.9G      1.873      1.485      1.463         35        640: 100%|██████████| 78/78 [00:34<00:00,  2.\n",
            "                 Class     Images  Instances      Box(P          R      mAP50  mAP50-95): 100%|██████████| 6/6 [00:02<0"
          ]
        },
        {
          "output_type": "stream",
          "name": "stdout",
          "text": [
            "                   all        183        813      0.558      0.549      0.562      0.228\n"
          ]
        },
        {
          "output_type": "stream",
          "name": "stderr",
          "text": [
            "\n"
          ]
        },
        {
          "output_type": "stream",
          "name": "stdout",
          "text": [
            "\n",
            "      Epoch    GPU_mem   box_loss   cls_loss   dfl_loss  Instances       Size\n"
          ]
        },
        {
          "output_type": "stream",
          "name": "stderr",
          "text": [
            "     16/100      20.9G      1.873      1.484       1.48         15        640: 100%|██████████| 78/78 [00:38<00:00,  2.\n",
            "                 Class     Images  Instances      Box(P          R      mAP50  mAP50-95): 100%|██████████| 6/6 [00:02<0"
          ]
        },
        {
          "output_type": "stream",
          "name": "stdout",
          "text": [
            "                   all        183        813      0.545      0.508      0.497      0.203\n"
          ]
        },
        {
          "output_type": "stream",
          "name": "stderr",
          "text": [
            "\n"
          ]
        },
        {
          "output_type": "stream",
          "name": "stdout",
          "text": [
            "\n",
            "      Epoch    GPU_mem   box_loss   cls_loss   dfl_loss  Instances       Size\n"
          ]
        },
        {
          "output_type": "stream",
          "name": "stderr",
          "text": [
            "     17/100      20.9G      1.838      1.442      1.461         37        640: 100%|██████████| 78/78 [00:37<00:00,  2.\n",
            "                 Class     Images  Instances      Box(P          R      mAP50  mAP50-95): 100%|██████████| 6/6 [00:02<0"
          ]
        },
        {
          "output_type": "stream",
          "name": "stdout",
          "text": [
            "                   all        183        813      0.542      0.595      0.561      0.241\n"
          ]
        },
        {
          "output_type": "stream",
          "name": "stderr",
          "text": [
            "\n"
          ]
        },
        {
          "output_type": "stream",
          "name": "stdout",
          "text": [
            "\n",
            "      Epoch    GPU_mem   box_loss   cls_loss   dfl_loss  Instances       Size\n"
          ]
        },
        {
          "output_type": "stream",
          "name": "stderr",
          "text": [
            "     18/100      20.9G      1.841      1.446      1.477         31        640: 100%|██████████| 78/78 [00:38<00:00,  2.\n",
            "                 Class     Images  Instances      Box(P          R      mAP50  mAP50-95): 100%|██████████| 6/6 [00:02<0"
          ]
        },
        {
          "output_type": "stream",
          "name": "stdout",
          "text": [
            "                   all        183        813      0.587      0.549      0.536      0.221\n"
          ]
        },
        {
          "output_type": "stream",
          "name": "stderr",
          "text": [
            "\n"
          ]
        },
        {
          "output_type": "stream",
          "name": "stdout",
          "text": [
            "\n",
            "      Epoch    GPU_mem   box_loss   cls_loss   dfl_loss  Instances       Size\n"
          ]
        },
        {
          "output_type": "stream",
          "name": "stderr",
          "text": [
            "     19/100        21G      1.848      1.426      1.467         31        640: 100%|██████████| 78/78 [00:40<00:00,  1.\n",
            "                 Class     Images  Instances      Box(P          R      mAP50  mAP50-95): 100%|██████████| 6/6 [00:23<0"
          ]
        },
        {
          "output_type": "stream",
          "name": "stdout",
          "text": [
            "                   all        183        813      0.497      0.589       0.53       0.22\n"
          ]
        },
        {
          "output_type": "stream",
          "name": "stderr",
          "text": [
            "\n"
          ]
        },
        {
          "output_type": "stream",
          "name": "stdout",
          "text": [
            "\n",
            "      Epoch    GPU_mem   box_loss   cls_loss   dfl_loss  Instances       Size\n"
          ]
        },
        {
          "output_type": "stream",
          "name": "stderr",
          "text": [
            "     20/100      20.9G      1.842      1.437       1.46         33        640: 100%|██████████| 78/78 [00:31<00:00,  2.\n",
            "                 Class     Images  Instances      Box(P          R      mAP50  mAP50-95): 100%|██████████| 6/6 [00:16<0"
          ]
        },
        {
          "output_type": "stream",
          "name": "stdout",
          "text": [
            "                   all        183        813      0.501      0.647       0.55      0.235\n"
          ]
        },
        {
          "output_type": "stream",
          "name": "stderr",
          "text": [
            "\n"
          ]
        },
        {
          "output_type": "stream",
          "name": "stdout",
          "text": [
            "\n",
            "      Epoch    GPU_mem   box_loss   cls_loss   dfl_loss  Instances       Size\n"
          ]
        },
        {
          "output_type": "stream",
          "name": "stderr",
          "text": [
            "     21/100        21G      1.832      1.429      1.448         12        640: 100%|██████████| 78/78 [00:33<00:00,  2.\n",
            "                 Class     Images  Instances      Box(P          R      mAP50  mAP50-95): 100%|██████████| 6/6 [00:16<0"
          ]
        },
        {
          "output_type": "stream",
          "name": "stdout",
          "text": [
            "                   all        183        813      0.529      0.606      0.526      0.225\n"
          ]
        },
        {
          "output_type": "stream",
          "name": "stderr",
          "text": [
            "\n"
          ]
        },
        {
          "output_type": "stream",
          "name": "stdout",
          "text": [
            "\n",
            "      Epoch    GPU_mem   box_loss   cls_loss   dfl_loss  Instances       Size\n"
          ]
        },
        {
          "output_type": "stream",
          "name": "stderr",
          "text": [
            "     22/100      20.9G      1.786      1.381      1.441         39        640: 100%|██████████| 78/78 [00:31<00:00,  2.\n",
            "                 Class     Images  Instances      Box(P          R      mAP50  mAP50-95): 100%|██████████| 6/6 [00:02<0"
          ]
        },
        {
          "output_type": "stream",
          "name": "stdout",
          "text": [
            "                   all        183        813      0.565      0.593      0.565      0.239\n"
          ]
        },
        {
          "output_type": "stream",
          "name": "stderr",
          "text": [
            "\n"
          ]
        },
        {
          "output_type": "stream",
          "name": "stdout",
          "text": [
            "\n",
            "      Epoch    GPU_mem   box_loss   cls_loss   dfl_loss  Instances       Size\n"
          ]
        },
        {
          "output_type": "stream",
          "name": "stderr",
          "text": [
            "     23/100      20.9G      1.801       1.37      1.448         16        640: 100%|██████████| 78/78 [00:32<00:00,  2.\n",
            "                 Class     Images  Instances      Box(P          R      mAP50  mAP50-95): 100%|██████████| 6/6 [00:01<0"
          ]
        },
        {
          "output_type": "stream",
          "name": "stdout",
          "text": [
            "                   all        183        813      0.523      0.613      0.576      0.247\n"
          ]
        },
        {
          "output_type": "stream",
          "name": "stderr",
          "text": [
            "\n"
          ]
        },
        {
          "output_type": "stream",
          "name": "stdout",
          "text": [
            "\n",
            "      Epoch    GPU_mem   box_loss   cls_loss   dfl_loss  Instances       Size\n"
          ]
        },
        {
          "output_type": "stream",
          "name": "stderr",
          "text": [
            "     24/100      20.9G      1.765      1.376      1.422         22        640: 100%|██████████| 78/78 [00:37<00:00,  2.\n",
            "                 Class     Images  Instances      Box(P          R      mAP50  mAP50-95): 100%|██████████| 6/6 [00:23<0"
          ]
        },
        {
          "output_type": "stream",
          "name": "stdout",
          "text": [
            "                   all        183        813      0.507      0.615      0.558      0.239\n"
          ]
        },
        {
          "output_type": "stream",
          "name": "stderr",
          "text": [
            "\n"
          ]
        },
        {
          "output_type": "stream",
          "name": "stdout",
          "text": [
            "\n",
            "      Epoch    GPU_mem   box_loss   cls_loss   dfl_loss  Instances       Size\n"
          ]
        },
        {
          "output_type": "stream",
          "name": "stderr",
          "text": [
            "     25/100      20.9G      1.744      1.331      1.415         30        640: 100%|██████████| 78/78 [00:36<00:00,  2.\n",
            "                 Class     Images  Instances      Box(P          R      mAP50  mAP50-95): 100%|██████████| 6/6 [00:19<0"
          ]
        },
        {
          "output_type": "stream",
          "name": "stdout",
          "text": [
            "                   all        183        813      0.499        0.6      0.525       0.22\n"
          ]
        },
        {
          "output_type": "stream",
          "name": "stderr",
          "text": [
            "\n"
          ]
        },
        {
          "output_type": "stream",
          "name": "stdout",
          "text": [
            "\n",
            "      Epoch    GPU_mem   box_loss   cls_loss   dfl_loss  Instances       Size\n"
          ]
        },
        {
          "output_type": "stream",
          "name": "stderr",
          "text": [
            "     26/100      20.9G      1.746      1.353       1.42         33        640: 100%|██████████| 78/78 [00:36<00:00,  2.\n",
            "                 Class     Images  Instances      Box(P          R      mAP50  mAP50-95): 100%|██████████| 6/6 [00:03<0"
          ]
        },
        {
          "output_type": "stream",
          "name": "stdout",
          "text": [
            "                   all        183        813      0.496      0.631      0.549      0.232\n"
          ]
        },
        {
          "output_type": "stream",
          "name": "stderr",
          "text": [
            "\n"
          ]
        },
        {
          "output_type": "stream",
          "name": "stdout",
          "text": [
            "\n",
            "      Epoch    GPU_mem   box_loss   cls_loss   dfl_loss  Instances       Size\n"
          ]
        },
        {
          "output_type": "stream",
          "name": "stderr",
          "text": [
            "     27/100      20.9G      1.722      1.306      1.403         16        640: 100%|██████████| 78/78 [00:38<00:00,  2.\n",
            "                 Class     Images  Instances      Box(P          R      mAP50  mAP50-95): 100%|██████████| 6/6 [00:03<0"
          ]
        },
        {
          "output_type": "stream",
          "name": "stdout",
          "text": [
            "                   all        183        813      0.563       0.59      0.542      0.236\n"
          ]
        },
        {
          "output_type": "stream",
          "name": "stderr",
          "text": [
            "\n"
          ]
        },
        {
          "output_type": "stream",
          "name": "stdout",
          "text": [
            "\n",
            "      Epoch    GPU_mem   box_loss   cls_loss   dfl_loss  Instances       Size\n"
          ]
        },
        {
          "output_type": "stream",
          "name": "stderr",
          "text": [
            "     28/100      20.9G      1.738      1.316      1.406         26        640: 100%|██████████| 78/78 [00:39<00:00,  1.\n",
            "                 Class     Images  Instances      Box(P          R      mAP50  mAP50-95): 100%|██████████| 6/6 [00:03<0"
          ]
        },
        {
          "output_type": "stream",
          "name": "stdout",
          "text": [
            "                   all        183        813      0.453      0.661      0.523      0.218\n"
          ]
        },
        {
          "output_type": "stream",
          "name": "stderr",
          "text": [
            "\n"
          ]
        },
        {
          "output_type": "stream",
          "name": "stdout",
          "text": [
            "\n",
            "      Epoch    GPU_mem   box_loss   cls_loss   dfl_loss  Instances       Size\n"
          ]
        },
        {
          "output_type": "stream",
          "name": "stderr",
          "text": [
            "     29/100      20.9G      1.712      1.287      1.385         40        640: 100%|██████████| 78/78 [00:38<00:00,  2.\n",
            "                 Class     Images  Instances      Box(P          R      mAP50  mAP50-95): 100%|██████████| 6/6 [00:03<0"
          ]
        },
        {
          "output_type": "stream",
          "name": "stdout",
          "text": [
            "                   all        183        813      0.543      0.547      0.506      0.214\n"
          ]
        },
        {
          "output_type": "stream",
          "name": "stderr",
          "text": [
            "\n"
          ]
        },
        {
          "output_type": "stream",
          "name": "stdout",
          "text": [
            "\n",
            "      Epoch    GPU_mem   box_loss   cls_loss   dfl_loss  Instances       Size\n"
          ]
        },
        {
          "output_type": "stream",
          "name": "stderr",
          "text": [
            "     30/100      20.9G      1.688      1.267      1.382         26        640: 100%|██████████| 78/78 [00:39<00:00,  1.\n",
            "                 Class     Images  Instances      Box(P          R      mAP50  mAP50-95): 100%|██████████| 6/6 [00:03<0"
          ]
        },
        {
          "output_type": "stream",
          "name": "stdout",
          "text": [
            "                   all        183        813       0.52      0.588      0.543      0.231\n"
          ]
        },
        {
          "output_type": "stream",
          "name": "stderr",
          "text": [
            "\n"
          ]
        },
        {
          "output_type": "stream",
          "name": "stdout",
          "text": [
            "\n",
            "      Epoch    GPU_mem   box_loss   cls_loss   dfl_loss  Instances       Size\n"
          ]
        },
        {
          "output_type": "stream",
          "name": "stderr",
          "text": [
            "     31/100      20.9G      1.698      1.246        1.4         30        640: 100%|██████████| 78/78 [00:38<00:00,  2.\n",
            "                 Class     Images  Instances      Box(P          R      mAP50  mAP50-95): 100%|██████████| 6/6 [00:02<0"
          ]
        },
        {
          "output_type": "stream",
          "name": "stdout",
          "text": [
            "                   all        183        813      0.462      0.513      0.457      0.196\n"
          ]
        },
        {
          "output_type": "stream",
          "name": "stderr",
          "text": [
            "\n"
          ]
        },
        {
          "output_type": "stream",
          "name": "stdout",
          "text": [
            "\n",
            "      Epoch    GPU_mem   box_loss   cls_loss   dfl_loss  Instances       Size\n"
          ]
        },
        {
          "output_type": "stream",
          "name": "stderr",
          "text": [
            "     32/100      20.9G      1.704      1.246      1.384         37        640: 100%|██████████| 78/78 [00:38<00:00,  2.\n",
            "                 Class     Images  Instances      Box(P          R      mAP50  mAP50-95): 100%|██████████| 6/6 [00:03<0"
          ]
        },
        {
          "output_type": "stream",
          "name": "stdout",
          "text": [
            "                   all        183        813       0.51      0.547      0.516       0.21\n"
          ]
        },
        {
          "output_type": "stream",
          "name": "stderr",
          "text": [
            "\n"
          ]
        },
        {
          "output_type": "stream",
          "name": "stdout",
          "text": [
            "\n",
            "      Epoch    GPU_mem   box_loss   cls_loss   dfl_loss  Instances       Size\n"
          ]
        },
        {
          "output_type": "stream",
          "name": "stderr",
          "text": [
            "     33/100      20.8G      1.666       1.23      1.364         33        640: 100%|██████████| 78/78 [00:38<00:00,  2.\n",
            "                 Class     Images  Instances      Box(P          R      mAP50  mAP50-95): 100%|██████████| 6/6 [00:01<0"
          ]
        },
        {
          "output_type": "stream",
          "name": "stdout",
          "text": [
            "                   all        183        813      0.532      0.608      0.546      0.226\n"
          ]
        },
        {
          "output_type": "stream",
          "name": "stderr",
          "text": [
            "\n"
          ]
        },
        {
          "output_type": "stream",
          "name": "stdout",
          "text": [
            "\n",
            "      Epoch    GPU_mem   box_loss   cls_loss   dfl_loss  Instances       Size\n"
          ]
        },
        {
          "output_type": "stream",
          "name": "stderr",
          "text": [
            "     34/100      20.9G      1.645      1.228      1.356         48        640: 100%|██████████| 78/78 [00:37<00:00,  2.\n",
            "                 Class     Images  Instances      Box(P          R      mAP50  mAP50-95): 100%|██████████| 6/6 [00:02<0"
          ]
        },
        {
          "output_type": "stream",
          "name": "stdout",
          "text": [
            "                   all        183        813       0.55      0.616      0.545      0.233\n"
          ]
        },
        {
          "output_type": "stream",
          "name": "stderr",
          "text": [
            "\n"
          ]
        },
        {
          "output_type": "stream",
          "name": "stdout",
          "text": [
            "\n",
            "      Epoch    GPU_mem   box_loss   cls_loss   dfl_loss  Instances       Size\n"
          ]
        },
        {
          "output_type": "stream",
          "name": "stderr",
          "text": [
            "     35/100      20.9G      1.654      1.215      1.361         44        640: 100%|██████████| 78/78 [00:38<00:00,  2.\n",
            "                 Class     Images  Instances      Box(P          R      mAP50  mAP50-95): 100%|██████████| 6/6 [00:02<0"
          ]
        },
        {
          "output_type": "stream",
          "name": "stdout",
          "text": [
            "                   all        183        813      0.542      0.564      0.529       0.22\n"
          ]
        },
        {
          "output_type": "stream",
          "name": "stderr",
          "text": [
            "\n"
          ]
        },
        {
          "output_type": "stream",
          "name": "stdout",
          "text": [
            "\n",
            "      Epoch    GPU_mem   box_loss   cls_loss   dfl_loss  Instances       Size\n"
          ]
        },
        {
          "output_type": "stream",
          "name": "stderr",
          "text": [
            "     36/100      20.9G      1.642      1.205       1.36         27        640: 100%|██████████| 78/78 [00:38<00:00,  2.\n",
            "                 Class     Images  Instances      Box(P          R      mAP50  mAP50-95): 100%|██████████| 6/6 [00:02<0"
          ]
        },
        {
          "output_type": "stream",
          "name": "stdout",
          "text": [
            "                   all        183        813      0.507      0.577      0.504      0.205\n"
          ]
        },
        {
          "output_type": "stream",
          "name": "stderr",
          "text": [
            "\n"
          ]
        },
        {
          "output_type": "stream",
          "name": "stdout",
          "text": [
            "\n",
            "      Epoch    GPU_mem   box_loss   cls_loss   dfl_loss  Instances       Size\n"
          ]
        },
        {
          "output_type": "stream",
          "name": "stderr",
          "text": [
            "     37/100      20.9G      1.636       1.19      1.349         22        640: 100%|██████████| 78/78 [00:37<00:00,  2.\n",
            "                 Class     Images  Instances      Box(P          R      mAP50  mAP50-95): 100%|██████████| 6/6 [00:01<0"
          ]
        },
        {
          "output_type": "stream",
          "name": "stdout",
          "text": [
            "                   all        183        813      0.519      0.611      0.545      0.229\n"
          ]
        },
        {
          "output_type": "stream",
          "name": "stderr",
          "text": [
            "\n"
          ]
        },
        {
          "output_type": "stream",
          "name": "stdout",
          "text": [
            "\n",
            "      Epoch    GPU_mem   box_loss   cls_loss   dfl_loss  Instances       Size\n"
          ]
        },
        {
          "output_type": "stream",
          "name": "stderr",
          "text": [
            "     38/100      20.9G       1.63      1.181      1.342         28        640: 100%|██████████| 78/78 [00:37<00:00,  2.\n",
            "                 Class     Images  Instances      Box(P          R      mAP50  mAP50-95): 100%|██████████| 6/6 [00:01<0"
          ]
        },
        {
          "output_type": "stream",
          "name": "stdout",
          "text": [
            "                   all        183        813      0.549      0.585      0.544      0.238\n"
          ]
        },
        {
          "output_type": "stream",
          "name": "stderr",
          "text": [
            "\n"
          ]
        },
        {
          "output_type": "stream",
          "name": "stdout",
          "text": [
            "\n",
            "      Epoch    GPU_mem   box_loss   cls_loss   dfl_loss  Instances       Size\n"
          ]
        },
        {
          "output_type": "stream",
          "name": "stderr",
          "text": [
            "     39/100      20.9G      1.597       1.16      1.338         26        640: 100%|██████████| 78/78 [00:37<00:00,  2.\n",
            "                 Class     Images  Instances      Box(P          R      mAP50  mAP50-95): 100%|██████████| 6/6 [00:01<0"
          ]
        },
        {
          "output_type": "stream",
          "name": "stdout",
          "text": [
            "                   all        183        813       0.52      0.578      0.517      0.215\n"
          ]
        },
        {
          "output_type": "stream",
          "name": "stderr",
          "text": [
            "\n"
          ]
        },
        {
          "output_type": "stream",
          "name": "stdout",
          "text": [
            "\n",
            "      Epoch    GPU_mem   box_loss   cls_loss   dfl_loss  Instances       Size\n"
          ]
        },
        {
          "output_type": "stream",
          "name": "stderr",
          "text": [
            "     40/100      20.9G      1.587      1.138      1.327         34        640: 100%|██████████| 78/78 [00:37<00:00,  2.\n",
            "                 Class     Images  Instances      Box(P          R      mAP50  mAP50-95): 100%|██████████| 6/6 [00:01<0"
          ]
        },
        {
          "output_type": "stream",
          "name": "stdout",
          "text": [
            "                   all        183        813       0.53      0.588       0.52      0.221\n"
          ]
        },
        {
          "output_type": "stream",
          "name": "stderr",
          "text": [
            "\n"
          ]
        },
        {
          "output_type": "stream",
          "name": "stdout",
          "text": [
            "\n",
            "      Epoch    GPU_mem   box_loss   cls_loss   dfl_loss  Instances       Size\n"
          ]
        },
        {
          "output_type": "stream",
          "name": "stderr",
          "text": [
            "     41/100      20.9G      1.569      1.134      1.331         44        640: 100%|██████████| 78/78 [00:37<00:00,  2.\n",
            "                 Class     Images  Instances      Box(P          R      mAP50  mAP50-95): 100%|██████████| 6/6 [00:01<0"
          ]
        },
        {
          "output_type": "stream",
          "name": "stdout",
          "text": [
            "                   all        183        813      0.518      0.578      0.524      0.214\n"
          ]
        },
        {
          "output_type": "stream",
          "name": "stderr",
          "text": [
            "\n"
          ]
        },
        {
          "output_type": "stream",
          "name": "stdout",
          "text": [
            "\n",
            "      Epoch    GPU_mem   box_loss   cls_loss   dfl_loss  Instances       Size\n"
          ]
        },
        {
          "output_type": "stream",
          "name": "stderr",
          "text": [
            "     42/100      20.8G      1.558      1.105      1.298         40        640: 100%|██████████| 78/78 [00:37<00:00,  2.\n",
            "                 Class     Images  Instances      Box(P          R      mAP50  mAP50-95): 100%|██████████| 6/6 [00:01<0"
          ]
        },
        {
          "output_type": "stream",
          "name": "stdout",
          "text": [
            "                   all        183        813      0.523      0.555      0.507       0.21\n"
          ]
        },
        {
          "output_type": "stream",
          "name": "stderr",
          "text": [
            "\n"
          ]
        },
        {
          "output_type": "stream",
          "name": "stdout",
          "text": [
            "\n",
            "      Epoch    GPU_mem   box_loss   cls_loss   dfl_loss  Instances       Size\n"
          ]
        },
        {
          "output_type": "stream",
          "name": "stderr",
          "text": [
            "     43/100      20.9G      1.543      1.112      1.304         17        640: 100%|██████████| 78/78 [00:37<00:00,  2.\n",
            "                 Class     Images  Instances      Box(P          R      mAP50  mAP50-95): 100%|██████████| 6/6 [00:01<0"
          ]
        },
        {
          "output_type": "stream",
          "name": "stdout",
          "text": [
            "                   all        183        813      0.534      0.559      0.518      0.218\n"
          ]
        },
        {
          "output_type": "stream",
          "name": "stderr",
          "text": [
            "\n"
          ]
        },
        {
          "output_type": "stream",
          "name": "stdout",
          "text": [
            "\n",
            "      Epoch    GPU_mem   box_loss   cls_loss   dfl_loss  Instances       Size\n"
          ]
        },
        {
          "output_type": "stream",
          "name": "stderr",
          "text": [
            "     44/100      20.9G      1.544      1.096      1.306         28        640: 100%|██████████| 78/78 [00:37<00:00,  2.\n",
            "                 Class     Images  Instances      Box(P          R      mAP50  mAP50-95): 100%|██████████| 6/6 [00:01<0"
          ]
        },
        {
          "output_type": "stream",
          "name": "stdout",
          "text": [
            "                   all        183        813       0.51      0.599      0.528      0.219\n"
          ]
        },
        {
          "output_type": "stream",
          "name": "stderr",
          "text": [
            "\n"
          ]
        },
        {
          "output_type": "stream",
          "name": "stdout",
          "text": [
            "\n",
            "      Epoch    GPU_mem   box_loss   cls_loss   dfl_loss  Instances       Size\n"
          ]
        },
        {
          "output_type": "stream",
          "name": "stderr",
          "text": [
            "     45/100      20.9G      1.502      1.056      1.283         32        640: 100%|██████████| 78/78 [00:37<00:00,  2.\n",
            "                 Class     Images  Instances      Box(P          R      mAP50  mAP50-95): 100%|██████████| 6/6 [00:01<0"
          ]
        },
        {
          "output_type": "stream",
          "name": "stdout",
          "text": [
            "                   all        183        813      0.513      0.563      0.486      0.204\n"
          ]
        },
        {
          "output_type": "stream",
          "name": "stderr",
          "text": [
            "\n"
          ]
        },
        {
          "output_type": "stream",
          "name": "stdout",
          "text": [
            "\n",
            "      Epoch    GPU_mem   box_loss   cls_loss   dfl_loss  Instances       Size\n"
          ]
        },
        {
          "output_type": "stream",
          "name": "stderr",
          "text": [
            "     46/100      20.9G      1.502      1.044      1.274         36        640: 100%|██████████| 78/78 [00:37<00:00,  2.\n",
            "                 Class     Images  Instances      Box(P          R      mAP50  mAP50-95): 100%|██████████| 6/6 [00:01<0"
          ]
        },
        {
          "output_type": "stream",
          "name": "stdout",
          "text": [
            "                   all        183        813      0.502      0.586      0.493      0.202\n"
          ]
        },
        {
          "output_type": "stream",
          "name": "stderr",
          "text": [
            "\n"
          ]
        },
        {
          "output_type": "stream",
          "name": "stdout",
          "text": [
            "\n",
            "      Epoch    GPU_mem   box_loss   cls_loss   dfl_loss  Instances       Size\n"
          ]
        },
        {
          "output_type": "stream",
          "name": "stderr",
          "text": [
            "     47/100      20.9G      1.487       1.04      1.279         20        640: 100%|██████████| 78/78 [00:37<00:00,  2.\n",
            "                 Class     Images  Instances      Box(P          R      mAP50  mAP50-95): 100%|██████████| 6/6 [00:01<0"
          ]
        },
        {
          "output_type": "stream",
          "name": "stdout",
          "text": [
            "                   all        183        813      0.507      0.606      0.521       0.22\n"
          ]
        },
        {
          "output_type": "stream",
          "name": "stderr",
          "text": [
            "\n"
          ]
        },
        {
          "output_type": "stream",
          "name": "stdout",
          "text": [
            "\n",
            "      Epoch    GPU_mem   box_loss   cls_loss   dfl_loss  Instances       Size\n"
          ]
        },
        {
          "output_type": "stream",
          "name": "stderr",
          "text": [
            "     48/100      20.9G      1.462      1.028      1.269         20        640: 100%|██████████| 78/78 [00:37<00:00,  2.\n",
            "                 Class     Images  Instances      Box(P          R      mAP50  mAP50-95): 100%|██████████| 6/6 [00:02<0"
          ]
        },
        {
          "output_type": "stream",
          "name": "stdout",
          "text": [
            "                   all        183        813      0.527      0.611       0.52      0.217\n"
          ]
        },
        {
          "output_type": "stream",
          "name": "stderr",
          "text": [
            "\n"
          ]
        },
        {
          "output_type": "stream",
          "name": "stdout",
          "text": [
            "\n",
            "      Epoch    GPU_mem   box_loss   cls_loss   dfl_loss  Instances       Size\n"
          ]
        },
        {
          "output_type": "stream",
          "name": "stderr",
          "text": [
            "     49/100      20.9G      1.434      1.002      1.252         23        640: 100%|██████████| 78/78 [00:37<00:00,  2.\n",
            "                 Class     Images  Instances      Box(P          R      mAP50  mAP50-95): 100%|██████████| 6/6 [00:01<0"
          ]
        },
        {
          "output_type": "stream",
          "name": "stdout",
          "text": [
            "                   all        183        813      0.565      0.505      0.471      0.194\n"
          ]
        },
        {
          "output_type": "stream",
          "name": "stderr",
          "text": [
            "\n"
          ]
        },
        {
          "output_type": "stream",
          "name": "stdout",
          "text": [
            "\n",
            "      Epoch    GPU_mem   box_loss   cls_loss   dfl_loss  Instances       Size\n"
          ]
        },
        {
          "output_type": "stream",
          "name": "stderr",
          "text": [
            "     50/100      20.9G      1.439     0.9868      1.254         33        640: 100%|██████████| 78/78 [00:37<00:00,  2.\n",
            "                 Class     Images  Instances      Box(P          R      mAP50  mAP50-95): 100%|██████████| 6/6 [00:01<0"
          ]
        },
        {
          "output_type": "stream",
          "name": "stdout",
          "text": [
            "                   all        183        813      0.509      0.587      0.487      0.196\n"
          ]
        },
        {
          "output_type": "stream",
          "name": "stderr",
          "text": [
            "\n"
          ]
        },
        {
          "output_type": "stream",
          "name": "stdout",
          "text": [
            "\n",
            "      Epoch    GPU_mem   box_loss   cls_loss   dfl_loss  Instances       Size\n"
          ]
        },
        {
          "output_type": "stream",
          "name": "stderr",
          "text": [
            "     51/100      20.9G       1.46     0.9893      1.263         34        640: 100%|██████████| 78/78 [00:37<00:00,  2.\n",
            "                 Class     Images  Instances      Box(P          R      mAP50  mAP50-95): 100%|██████████| 6/6 [00:01<0"
          ]
        },
        {
          "output_type": "stream",
          "name": "stdout",
          "text": [
            "                   all        183        813      0.514      0.526      0.448      0.188\n"
          ]
        },
        {
          "output_type": "stream",
          "name": "stderr",
          "text": [
            "\n"
          ]
        },
        {
          "output_type": "stream",
          "name": "stdout",
          "text": [
            "\n",
            "      Epoch    GPU_mem   box_loss   cls_loss   dfl_loss  Instances       Size\n"
          ]
        },
        {
          "output_type": "stream",
          "name": "stderr",
          "text": [
            "     52/100      20.9G      1.402     0.9555      1.227         30        640: 100%|██████████| 78/78 [00:37<00:00,  2.\n",
            "                 Class     Images  Instances      Box(P          R      mAP50  mAP50-95): 100%|██████████| 6/6 [00:01<0"
          ]
        },
        {
          "output_type": "stream",
          "name": "stdout",
          "text": [
            "                   all        183        813       0.53      0.581      0.512      0.216\n"
          ]
        },
        {
          "output_type": "stream",
          "name": "stderr",
          "text": [
            "\n"
          ]
        },
        {
          "output_type": "stream",
          "name": "stdout",
          "text": [
            "\n",
            "      Epoch    GPU_mem   box_loss   cls_loss   dfl_loss  Instances       Size\n"
          ]
        },
        {
          "output_type": "stream",
          "name": "stderr",
          "text": [
            "     53/100      20.9G      1.408     0.9428      1.235         28        640: 100%|██████████| 78/78 [00:37<00:00,  2.\n",
            "                 Class     Images  Instances      Box(P          R      mAP50  mAP50-95): 100%|██████████| 6/6 [00:01<0"
          ]
        },
        {
          "output_type": "stream",
          "name": "stdout",
          "text": [
            "                   all        183        813      0.513      0.542      0.512      0.214\n"
          ]
        },
        {
          "output_type": "stream",
          "name": "stderr",
          "text": [
            "\n"
          ]
        },
        {
          "output_type": "stream",
          "name": "stdout",
          "text": [
            "\n",
            "      Epoch    GPU_mem   box_loss   cls_loss   dfl_loss  Instances       Size\n"
          ]
        },
        {
          "output_type": "stream",
          "name": "stderr",
          "text": [
            "     54/100      20.9G      1.386     0.9325      1.214         49        640: 100%|██████████| 78/78 [00:38<00:00,  2.\n",
            "                 Class     Images  Instances      Box(P          R      mAP50  mAP50-95): 100%|██████████| 6/6 [00:02<0"
          ]
        },
        {
          "output_type": "stream",
          "name": "stdout",
          "text": [
            "                   all        183        813        0.5      0.538      0.471      0.195\n"
          ]
        },
        {
          "output_type": "stream",
          "name": "stderr",
          "text": [
            "\n"
          ]
        },
        {
          "output_type": "stream",
          "name": "stdout",
          "text": [
            "\n",
            "      Epoch    GPU_mem   box_loss   cls_loss   dfl_loss  Instances       Size\n"
          ]
        },
        {
          "output_type": "stream",
          "name": "stderr",
          "text": [
            "     55/100      20.9G      1.372     0.9158      1.216         20        640: 100%|██████████| 78/78 [00:37<00:00,  2.\n",
            "                 Class     Images  Instances      Box(P          R      mAP50  mAP50-95): 100%|██████████| 6/6 [00:01<0"
          ]
        },
        {
          "output_type": "stream",
          "name": "stdout",
          "text": [
            "                   all        183        813      0.499      0.552       0.49      0.205\n"
          ]
        },
        {
          "output_type": "stream",
          "name": "stderr",
          "text": [
            "\n"
          ]
        },
        {
          "output_type": "stream",
          "name": "stdout",
          "text": [
            "\n",
            "      Epoch    GPU_mem   box_loss   cls_loss   dfl_loss  Instances       Size\n"
          ]
        },
        {
          "output_type": "stream",
          "name": "stderr",
          "text": [
            "     56/100      20.9G      1.353     0.9033      1.193         45        640: 100%|██████████| 78/78 [00:37<00:00,  2.\n",
            "                 Class     Images  Instances      Box(P          R      mAP50  mAP50-95): 100%|██████████| 6/6 [00:01<0"
          ]
        },
        {
          "output_type": "stream",
          "name": "stdout",
          "text": [
            "                   all        183        813       0.48       0.51      0.429      0.176\n"
          ]
        },
        {
          "output_type": "stream",
          "name": "stderr",
          "text": [
            "\n"
          ]
        },
        {
          "output_type": "stream",
          "name": "stdout",
          "text": [
            "\n",
            "      Epoch    GPU_mem   box_loss   cls_loss   dfl_loss  Instances       Size\n"
          ]
        },
        {
          "output_type": "stream",
          "name": "stderr",
          "text": [
            "     57/100      20.9G      1.353     0.8879      1.188         19        640: 100%|██████████| 78/78 [00:37<00:00,  2.\n",
            "                 Class     Images  Instances      Box(P          R      mAP50  mAP50-95): 100%|██████████| 6/6 [00:01<0"
          ]
        },
        {
          "output_type": "stream",
          "name": "stdout",
          "text": [
            "                   all        183        813      0.509      0.574       0.48      0.193\n"
          ]
        },
        {
          "output_type": "stream",
          "name": "stderr",
          "text": [
            "\n"
          ]
        },
        {
          "output_type": "stream",
          "name": "stdout",
          "text": [
            "\n",
            "      Epoch    GPU_mem   box_loss   cls_loss   dfl_loss  Instances       Size\n"
          ]
        },
        {
          "output_type": "stream",
          "name": "stderr",
          "text": [
            "     58/100      20.9G      1.326     0.8782      1.186         25        640: 100%|██████████| 78/78 [00:37<00:00,  2.\n",
            "                 Class     Images  Instances      Box(P          R      mAP50  mAP50-95): 100%|██████████| 6/6 [00:01<0"
          ]
        },
        {
          "output_type": "stream",
          "name": "stdout",
          "text": [
            "                   all        183        813      0.495      0.558      0.482      0.199\n"
          ]
        },
        {
          "output_type": "stream",
          "name": "stderr",
          "text": [
            "\n"
          ]
        },
        {
          "output_type": "stream",
          "name": "stdout",
          "text": [
            "\n",
            "      Epoch    GPU_mem   box_loss   cls_loss   dfl_loss  Instances       Size\n"
          ]
        },
        {
          "output_type": "stream",
          "name": "stderr",
          "text": [
            "     59/100      20.9G      1.311     0.8776      1.184         22        640: 100%|██████████| 78/78 [00:37<00:00,  2.\n",
            "                 Class     Images  Instances      Box(P          R      mAP50  mAP50-95): 100%|██████████| 6/6 [00:01<0"
          ]
        },
        {
          "output_type": "stream",
          "name": "stdout",
          "text": [
            "                   all        183        813      0.546      0.477      0.453      0.187\n"
          ]
        },
        {
          "output_type": "stream",
          "name": "stderr",
          "text": [
            "\n"
          ]
        },
        {
          "output_type": "stream",
          "name": "stdout",
          "text": [
            "\n",
            "      Epoch    GPU_mem   box_loss   cls_loss   dfl_loss  Instances       Size\n"
          ]
        },
        {
          "output_type": "stream",
          "name": "stderr",
          "text": [
            "     60/100      20.9G      1.294       0.85      1.168         25        640: 100%|██████████| 78/78 [00:37<00:00,  2.\n",
            "                 Class     Images  Instances      Box(P          R      mAP50  mAP50-95): 100%|██████████| 6/6 [00:01<0"
          ]
        },
        {
          "output_type": "stream",
          "name": "stdout",
          "text": [
            "                   all        183        813        0.5      0.554      0.471        0.2\n"
          ]
        },
        {
          "output_type": "stream",
          "name": "stderr",
          "text": [
            "\n"
          ]
        },
        {
          "output_type": "stream",
          "name": "stdout",
          "text": [
            "\n",
            "      Epoch    GPU_mem   box_loss   cls_loss   dfl_loss  Instances       Size\n"
          ]
        },
        {
          "output_type": "stream",
          "name": "stderr",
          "text": [
            "     61/100      20.9G      1.276      0.848      1.168         20        640: 100%|██████████| 78/78 [00:38<00:00,  2.\n",
            "                 Class     Images  Instances      Box(P          R      mAP50  mAP50-95): 100%|██████████| 6/6 [00:01<0"
          ]
        },
        {
          "output_type": "stream",
          "name": "stdout",
          "text": [
            "                   all        183        813      0.494      0.567      0.461      0.195\n"
          ]
        },
        {
          "output_type": "stream",
          "name": "stderr",
          "text": [
            "\n"
          ]
        },
        {
          "output_type": "stream",
          "name": "stdout",
          "text": [
            "\n",
            "      Epoch    GPU_mem   box_loss   cls_loss   dfl_loss  Instances       Size\n"
          ]
        },
        {
          "output_type": "stream",
          "name": "stderr",
          "text": [
            "     62/100      20.9G      1.273     0.8247      1.162         36        640: 100%|██████████| 78/78 [00:37<00:00,  2.\n",
            "                 Class     Images  Instances      Box(P          R      mAP50  mAP50-95): 100%|██████████| 6/6 [00:01<0"
          ]
        },
        {
          "output_type": "stream",
          "name": "stdout",
          "text": [
            "                   all        183        813      0.468      0.567      0.459      0.194\n"
          ]
        },
        {
          "output_type": "stream",
          "name": "stderr",
          "text": [
            "\n"
          ]
        },
        {
          "output_type": "stream",
          "name": "stdout",
          "text": [
            "\n",
            "      Epoch    GPU_mem   box_loss   cls_loss   dfl_loss  Instances       Size\n"
          ]
        },
        {
          "output_type": "stream",
          "name": "stderr",
          "text": [
            "     63/100      20.9G      1.256     0.8203      1.161         18        640: 100%|██████████| 78/78 [00:37<00:00,  2.\n",
            "                 Class     Images  Instances      Box(P          R      mAP50  mAP50-95): 100%|██████████| 6/6 [00:01<0"
          ]
        },
        {
          "output_type": "stream",
          "name": "stdout",
          "text": [
            "                   all        183        813      0.512      0.572       0.48      0.202\n"
          ]
        },
        {
          "output_type": "stream",
          "name": "stderr",
          "text": [
            "\n"
          ]
        },
        {
          "output_type": "stream",
          "name": "stdout",
          "text": [
            "\n",
            "      Epoch    GPU_mem   box_loss   cls_loss   dfl_loss  Instances       Size\n"
          ]
        },
        {
          "output_type": "stream",
          "name": "stderr",
          "text": [
            "     64/100      20.9G       1.26     0.8115      1.151         48        640: 100%|██████████| 78/78 [00:37<00:00,  2.\n",
            "                 Class     Images  Instances      Box(P          R      mAP50  mAP50-95): 100%|██████████| 6/6 [00:01<0"
          ]
        },
        {
          "output_type": "stream",
          "name": "stdout",
          "text": [
            "                   all        183        813      0.497      0.553      0.463      0.192\n"
          ]
        },
        {
          "output_type": "stream",
          "name": "stderr",
          "text": [
            "\n"
          ]
        },
        {
          "output_type": "stream",
          "name": "stdout",
          "text": [
            "\n",
            "      Epoch    GPU_mem   box_loss   cls_loss   dfl_loss  Instances       Size\n"
          ]
        },
        {
          "output_type": "stream",
          "name": "stderr",
          "text": [
            "     65/100      20.9G       1.24     0.7887      1.143         45        640: 100%|██████████| 78/78 [00:37<00:00,  2.\n",
            "                 Class     Images  Instances      Box(P          R      mAP50  mAP50-95): 100%|██████████| 6/6 [00:01<0"
          ]
        },
        {
          "output_type": "stream",
          "name": "stdout",
          "text": [
            "                   all        183        813      0.485      0.567      0.464      0.195\n"
          ]
        },
        {
          "output_type": "stream",
          "name": "stderr",
          "text": [
            "\n"
          ]
        },
        {
          "output_type": "stream",
          "name": "stdout",
          "text": [
            "\n",
            "      Epoch    GPU_mem   box_loss   cls_loss   dfl_loss  Instances       Size\n"
          ]
        },
        {
          "output_type": "stream",
          "name": "stderr",
          "text": [
            "     66/100      20.9G      1.217      0.794      1.128          7        640: 100%|██████████| 78/78 [00:37<00:00,  2.\n",
            "                 Class     Images  Instances      Box(P          R      mAP50  mAP50-95): 100%|██████████| 6/6 [00:01<0"
          ]
        },
        {
          "output_type": "stream",
          "name": "stdout",
          "text": [
            "                   all        183        813      0.504      0.553      0.463      0.196\n"
          ]
        },
        {
          "output_type": "stream",
          "name": "stderr",
          "text": [
            "\n"
          ]
        },
        {
          "output_type": "stream",
          "name": "stdout",
          "text": [
            "\n",
            "      Epoch    GPU_mem   box_loss   cls_loss   dfl_loss  Instances       Size\n"
          ]
        },
        {
          "output_type": "stream",
          "name": "stderr",
          "text": [
            "     67/100      20.9G      1.214     0.7831      1.123         33        640: 100%|██████████| 78/78 [00:37<00:00,  2.\n",
            "                 Class     Images  Instances      Box(P          R      mAP50  mAP50-95): 100%|██████████| 6/6 [00:01<0"
          ]
        },
        {
          "output_type": "stream",
          "name": "stdout",
          "text": [
            "                   all        183        813      0.553      0.501       0.47      0.195\n"
          ]
        },
        {
          "output_type": "stream",
          "name": "stderr",
          "text": [
            "\n"
          ]
        },
        {
          "output_type": "stream",
          "name": "stdout",
          "text": [
            "\n",
            "      Epoch    GPU_mem   box_loss   cls_loss   dfl_loss  Instances       Size\n"
          ]
        },
        {
          "output_type": "stream",
          "name": "stderr",
          "text": [
            "     68/100      20.9G      1.206     0.7769      1.128         25        640: 100%|██████████| 78/78 [00:37<00:00,  2.\n",
            "                 Class     Images  Instances      Box(P          R      mAP50  mAP50-95): 100%|██████████| 6/6 [00:01<0"
          ]
        },
        {
          "output_type": "stream",
          "name": "stdout",
          "text": [
            "                   all        183        813      0.489      0.567       0.47      0.198\n"
          ]
        },
        {
          "output_type": "stream",
          "name": "stderr",
          "text": [
            "\n"
          ]
        },
        {
          "output_type": "stream",
          "name": "stdout",
          "text": [
            "\n",
            "      Epoch    GPU_mem   box_loss   cls_loss   dfl_loss  Instances       Size\n"
          ]
        },
        {
          "output_type": "stream",
          "name": "stderr",
          "text": [
            "     69/100      20.9G      1.185      0.751      1.115         23        640: 100%|██████████| 78/78 [00:37<00:00,  2.\n",
            "                 Class     Images  Instances      Box(P          R      mAP50  mAP50-95): 100%|██████████| 6/6 [00:01<0"
          ]
        },
        {
          "output_type": "stream",
          "name": "stdout",
          "text": [
            "                   all        183        813      0.552        0.5       0.47      0.198\n"
          ]
        },
        {
          "output_type": "stream",
          "name": "stderr",
          "text": [
            "\n"
          ]
        },
        {
          "output_type": "stream",
          "name": "stdout",
          "text": [
            "\n",
            "      Epoch    GPU_mem   box_loss   cls_loss   dfl_loss  Instances       Size\n"
          ]
        },
        {
          "output_type": "stream",
          "name": "stderr",
          "text": [
            "     70/100      20.9G      1.176     0.7461        1.1         28        640: 100%|██████████| 78/78 [00:37<00:00,  2.\n",
            "                 Class     Images  Instances      Box(P          R      mAP50  mAP50-95): 100%|██████████| 6/6 [00:01<0"
          ]
        },
        {
          "output_type": "stream",
          "name": "stdout",
          "text": [
            "                   all        183        813      0.504      0.578      0.472      0.197\n"
          ]
        },
        {
          "output_type": "stream",
          "name": "stderr",
          "text": [
            "\n"
          ]
        },
        {
          "output_type": "stream",
          "name": "stdout",
          "text": [
            "\n",
            "      Epoch    GPU_mem   box_loss   cls_loss   dfl_loss  Instances       Size\n"
          ]
        },
        {
          "output_type": "stream",
          "name": "stderr",
          "text": [
            "     71/100      20.9G      1.173     0.7343      1.102         47        640: 100%|██████████| 78/78 [00:37<00:00,  2.\n",
            "                 Class     Images  Instances      Box(P          R      mAP50  mAP50-95): 100%|██████████| 6/6 [00:01<0"
          ]
        },
        {
          "output_type": "stream",
          "name": "stdout",
          "text": [
            "                   all        183        813      0.518      0.533      0.485      0.198\n"
          ]
        },
        {
          "output_type": "stream",
          "name": "stderr",
          "text": [
            "\n"
          ]
        },
        {
          "output_type": "stream",
          "name": "stdout",
          "text": [
            "\n",
            "      Epoch    GPU_mem   box_loss   cls_loss   dfl_loss  Instances       Size\n"
          ]
        },
        {
          "output_type": "stream",
          "name": "stderr",
          "text": [
            "     72/100      20.9G      1.142     0.7154      1.091         42        640: 100%|██████████| 78/78 [00:37<00:00,  2.\n",
            "                 Class     Images  Instances      Box(P          R      mAP50  mAP50-95): 100%|██████████| 6/6 [00:01<0"
          ]
        },
        {
          "output_type": "stream",
          "name": "stdout",
          "text": [
            "                   all        183        813      0.526      0.515      0.466      0.194\n"
          ]
        },
        {
          "output_type": "stream",
          "name": "stderr",
          "text": [
            "\n"
          ]
        },
        {
          "output_type": "stream",
          "name": "stdout",
          "text": [
            "\n",
            "      Epoch    GPU_mem   box_loss   cls_loss   dfl_loss  Instances       Size\n"
          ]
        },
        {
          "output_type": "stream",
          "name": "stderr",
          "text": [
            "     73/100      20.9G      1.149     0.7194      1.099         30        640: 100%|██████████| 78/78 [00:37<00:00,  2.\n",
            "                 Class     Images  Instances      Box(P          R      mAP50  mAP50-95): 100%|██████████| 6/6 [00:01<0"
          ]
        },
        {
          "output_type": "stream",
          "name": "stdout",
          "text": [
            "                   all        183        813      0.529      0.521      0.448      0.184\n"
          ]
        },
        {
          "output_type": "stream",
          "name": "stderr",
          "text": [
            "\n"
          ]
        },
        {
          "output_type": "stream",
          "name": "stdout",
          "text": [
            "\n",
            "      Epoch    GPU_mem   box_loss   cls_loss   dfl_loss  Instances       Size\n"
          ]
        },
        {
          "output_type": "stream",
          "name": "stderr",
          "text": [
            "     74/100      20.9G      1.107     0.6988      1.081         32        640: 100%|██████████| 78/78 [00:37<00:00,  2.\n",
            "                 Class     Images  Instances      Box(P          R      mAP50  mAP50-95): 100%|██████████| 6/6 [00:01<0"
          ]
        },
        {
          "output_type": "stream",
          "name": "stdout",
          "text": [
            "                   all        183        813       0.55      0.504      0.456       0.19\n"
          ]
        },
        {
          "output_type": "stream",
          "name": "stderr",
          "text": [
            "\n"
          ]
        },
        {
          "output_type": "stream",
          "name": "stdout",
          "text": [
            "\n",
            "      Epoch    GPU_mem   box_loss   cls_loss   dfl_loss  Instances       Size\n"
          ]
        },
        {
          "output_type": "stream",
          "name": "stderr",
          "text": [
            "     75/100      20.9G      1.131     0.7054      1.096         16        640: 100%|██████████| 78/78 [00:37<00:00,  2.\n",
            "                 Class     Images  Instances      Box(P          R      mAP50  mAP50-95): 100%|██████████| 6/6 [00:01<0"
          ]
        },
        {
          "output_type": "stream",
          "name": "stdout",
          "text": [
            "                   all        183        813       0.52      0.518      0.451      0.188\n"
          ]
        },
        {
          "output_type": "stream",
          "name": "stderr",
          "text": [
            "\n"
          ]
        },
        {
          "output_type": "stream",
          "name": "stdout",
          "text": [
            "\n",
            "      Epoch    GPU_mem   box_loss   cls_loss   dfl_loss  Instances       Size\n"
          ]
        },
        {
          "output_type": "stream",
          "name": "stderr",
          "text": [
            "     76/100      20.9G      1.116     0.7021      1.077         40        640: 100%|██████████| 78/78 [00:37<00:00,  2.\n",
            "                 Class     Images  Instances      Box(P          R      mAP50  mAP50-95): 100%|██████████| 6/6 [00:01<0"
          ]
        },
        {
          "output_type": "stream",
          "name": "stdout",
          "text": [
            "                   all        183        813      0.507      0.493      0.437      0.181\n"
          ]
        },
        {
          "output_type": "stream",
          "name": "stderr",
          "text": [
            "\n"
          ]
        },
        {
          "output_type": "stream",
          "name": "stdout",
          "text": [
            "\n",
            "      Epoch    GPU_mem   box_loss   cls_loss   dfl_loss  Instances       Size\n"
          ]
        },
        {
          "output_type": "stream",
          "name": "stderr",
          "text": [
            "     77/100      20.9G      1.086     0.6818      1.064         38        640: 100%|██████████| 78/78 [00:37<00:00,  2.\n",
            "                 Class     Images  Instances      Box(P          R      mAP50  mAP50-95): 100%|██████████| 6/6 [00:01<0"
          ]
        },
        {
          "output_type": "stream",
          "name": "stdout",
          "text": [
            "                   all        183        813      0.526      0.484      0.442      0.183\n"
          ]
        },
        {
          "output_type": "stream",
          "name": "stderr",
          "text": [
            "\n"
          ]
        },
        {
          "output_type": "stream",
          "name": "stdout",
          "text": [
            "\n",
            "      Epoch    GPU_mem   box_loss   cls_loss   dfl_loss  Instances       Size\n"
          ]
        },
        {
          "output_type": "stream",
          "name": "stderr",
          "text": [
            "     78/100      20.9G      1.092     0.6839      1.082         33        640: 100%|██████████| 78/78 [00:37<00:00,  2.\n",
            "                 Class     Images  Instances      Box(P          R      mAP50  mAP50-95): 100%|██████████| 6/6 [00:01<0"
          ]
        },
        {
          "output_type": "stream",
          "name": "stdout",
          "text": [
            "                   all        183        813       0.52       0.52      0.443      0.189\n"
          ]
        },
        {
          "output_type": "stream",
          "name": "stderr",
          "text": [
            "\n"
          ]
        },
        {
          "output_type": "stream",
          "name": "stdout",
          "text": [
            "\n",
            "      Epoch    GPU_mem   box_loss   cls_loss   dfl_loss  Instances       Size\n"
          ]
        },
        {
          "output_type": "stream",
          "name": "stderr",
          "text": [
            "     79/100      20.9G      1.081      0.667      1.064         31        640: 100%|██████████| 78/78 [00:37<00:00,  2.\n",
            "                 Class     Images  Instances      Box(P          R      mAP50  mAP50-95): 100%|██████████| 6/6 [00:01<0"
          ]
        },
        {
          "output_type": "stream",
          "name": "stdout",
          "text": [
            "                   all        183        813      0.554      0.487      0.447      0.186\n"
          ]
        },
        {
          "output_type": "stream",
          "name": "stderr",
          "text": [
            "\n"
          ]
        },
        {
          "output_type": "stream",
          "name": "stdout",
          "text": [
            "\n",
            "      Epoch    GPU_mem   box_loss   cls_loss   dfl_loss  Instances       Size\n"
          ]
        },
        {
          "output_type": "stream",
          "name": "stderr",
          "text": [
            "     80/100      20.9G      1.079     0.6636      1.066         28        640: 100%|██████████| 78/78 [00:37<00:00,  2.\n",
            "                 Class     Images  Instances      Box(P          R      mAP50  mAP50-95): 100%|██████████| 6/6 [00:01<0"
          ]
        },
        {
          "output_type": "stream",
          "name": "stdout",
          "text": [
            "                   all        183        813      0.547      0.506      0.451      0.188\n"
          ]
        },
        {
          "output_type": "stream",
          "name": "stderr",
          "text": [
            "\n"
          ]
        },
        {
          "output_type": "stream",
          "name": "stdout",
          "text": [
            "\n",
            "      Epoch    GPU_mem   box_loss   cls_loss   dfl_loss  Instances       Size\n"
          ]
        },
        {
          "output_type": "stream",
          "name": "stderr",
          "text": [
            "     81/100      20.9G      1.042     0.6383      1.046         23        640: 100%|██████████| 78/78 [00:37<00:00,  2.\n",
            "                 Class     Images  Instances      Box(P          R      mAP50  mAP50-95): 100%|██████████| 6/6 [00:01<0"
          ]
        },
        {
          "output_type": "stream",
          "name": "stdout",
          "text": [
            "                   all        183        813       0.51      0.517      0.438      0.181\n"
          ]
        },
        {
          "output_type": "stream",
          "name": "stderr",
          "text": [
            "\n"
          ]
        },
        {
          "output_type": "stream",
          "name": "stdout",
          "text": [
            "\n",
            "      Epoch    GPU_mem   box_loss   cls_loss   dfl_loss  Instances       Size\n"
          ]
        },
        {
          "output_type": "stream",
          "name": "stderr",
          "text": [
            "     82/100      20.9G      1.031     0.6347      1.045         30        640: 100%|██████████| 78/78 [00:37<00:00,  2.\n",
            "                 Class     Images  Instances      Box(P          R      mAP50  mAP50-95): 100%|██████████| 6/6 [00:01<0"
          ]
        },
        {
          "output_type": "stream",
          "name": "stdout",
          "text": [
            "                   all        183        813      0.502      0.492      0.431      0.179\n"
          ]
        },
        {
          "output_type": "stream",
          "name": "stderr",
          "text": [
            "\n"
          ]
        },
        {
          "output_type": "stream",
          "name": "stdout",
          "text": [
            "\n",
            "      Epoch    GPU_mem   box_loss   cls_loss   dfl_loss  Instances       Size\n"
          ]
        },
        {
          "output_type": "stream",
          "name": "stderr",
          "text": [
            "     83/100      20.9G      1.029      0.624      1.037         22        640: 100%|██████████| 78/78 [00:37<00:00,  2.\n",
            "                 Class     Images  Instances      Box(P          R      mAP50  mAP50-95): 100%|██████████| 6/6 [00:01<0"
          ]
        },
        {
          "output_type": "stream",
          "name": "stdout",
          "text": [
            "                   all        183        813       0.48      0.534      0.437       0.18\n"
          ]
        },
        {
          "output_type": "stream",
          "name": "stderr",
          "text": [
            "\n"
          ]
        },
        {
          "output_type": "stream",
          "name": "stdout",
          "text": [
            "\n",
            "      Epoch    GPU_mem   box_loss   cls_loss   dfl_loss  Instances       Size\n"
          ]
        },
        {
          "output_type": "stream",
          "name": "stderr",
          "text": [
            "     84/100      20.9G      1.033     0.6295      1.039         22        640: 100%|██████████| 78/78 [00:37<00:00,  2.\n",
            "                 Class     Images  Instances      Box(P          R      mAP50  mAP50-95): 100%|██████████| 6/6 [00:01<0"
          ]
        },
        {
          "output_type": "stream",
          "name": "stdout",
          "text": [
            "                   all        183        813      0.486      0.516      0.421      0.176\n"
          ]
        },
        {
          "output_type": "stream",
          "name": "stderr",
          "text": [
            "\n"
          ]
        },
        {
          "output_type": "stream",
          "name": "stdout",
          "text": [
            "\n",
            "      Epoch    GPU_mem   box_loss   cls_loss   dfl_loss  Instances       Size\n"
          ]
        },
        {
          "output_type": "stream",
          "name": "stderr",
          "text": [
            "     85/100      20.9G      1.012     0.6179      1.031         50        640: 100%|██████████| 78/78 [00:37<00:00,  2.\n",
            "                 Class     Images  Instances      Box(P          R      mAP50  mAP50-95): 100%|██████████| 6/6 [00:01<0"
          ]
        },
        {
          "output_type": "stream",
          "name": "stdout",
          "text": [
            "                   all        183        813      0.546      0.475      0.428      0.181\n"
          ]
        },
        {
          "output_type": "stream",
          "name": "stderr",
          "text": [
            "\n"
          ]
        },
        {
          "output_type": "stream",
          "name": "stdout",
          "text": [
            "\n",
            "      Epoch    GPU_mem   box_loss   cls_loss   dfl_loss  Instances       Size\n"
          ]
        },
        {
          "output_type": "stream",
          "name": "stderr",
          "text": [
            "     86/100      20.9G      1.004     0.6193      1.037         37        640: 100%|██████████| 78/78 [00:37<00:00,  2.\n",
            "                 Class     Images  Instances      Box(P          R      mAP50  mAP50-95): 100%|██████████| 6/6 [00:01<0"
          ]
        },
        {
          "output_type": "stream",
          "name": "stdout",
          "text": [
            "                   all        183        813      0.563      0.484      0.449      0.191\n"
          ]
        },
        {
          "output_type": "stream",
          "name": "stderr",
          "text": [
            "\n"
          ]
        },
        {
          "output_type": "stream",
          "name": "stdout",
          "text": [
            "\n",
            "      Epoch    GPU_mem   box_loss   cls_loss   dfl_loss  Instances       Size\n"
          ]
        },
        {
          "output_type": "stream",
          "name": "stderr",
          "text": [
            "     87/100      20.9G     0.9813     0.6033      1.026         17        640: 100%|██████████| 78/78 [00:37<00:00,  2.\n",
            "                 Class     Images  Instances      Box(P          R      mAP50  mAP50-95): 100%|██████████| 6/6 [00:01<0"
          ]
        },
        {
          "output_type": "stream",
          "name": "stdout",
          "text": [
            "                   all        183        813      0.534      0.512      0.444      0.184\n"
          ]
        },
        {
          "output_type": "stream",
          "name": "stderr",
          "text": [
            "\n"
          ]
        },
        {
          "output_type": "stream",
          "name": "stdout",
          "text": [
            "\n",
            "      Epoch    GPU_mem   box_loss   cls_loss   dfl_loss  Instances       Size\n"
          ]
        },
        {
          "output_type": "stream",
          "name": "stderr",
          "text": [
            "     88/100      20.9G     0.9792     0.6009      1.015         31        640: 100%|██████████| 78/78 [00:37<00:00,  2.\n",
            "                 Class     Images  Instances      Box(P          R      mAP50  mAP50-95): 100%|██████████| 6/6 [00:01<0"
          ]
        },
        {
          "output_type": "stream",
          "name": "stdout",
          "text": [
            "                   all        183        813      0.536      0.513      0.436      0.186\n"
          ]
        },
        {
          "output_type": "stream",
          "name": "stderr",
          "text": [
            "\n"
          ]
        },
        {
          "output_type": "stream",
          "name": "stdout",
          "text": [
            "\n",
            "      Epoch    GPU_mem   box_loss   cls_loss   dfl_loss  Instances       Size\n"
          ]
        },
        {
          "output_type": "stream",
          "name": "stderr",
          "text": [
            "     89/100      20.9G     0.9852     0.6065      1.027         19        640: 100%|██████████| 78/78 [00:37<00:00,  2.\n",
            "                 Class     Images  Instances      Box(P          R      mAP50  mAP50-95): 100%|██████████| 6/6 [00:01<0"
          ]
        },
        {
          "output_type": "stream",
          "name": "stdout",
          "text": [
            "                   all        183        813       0.55       0.51      0.447      0.188\n"
          ]
        },
        {
          "output_type": "stream",
          "name": "stderr",
          "text": [
            "\n"
          ]
        },
        {
          "output_type": "stream",
          "name": "stdout",
          "text": [
            "\n",
            "      Epoch    GPU_mem   box_loss   cls_loss   dfl_loss  Instances       Size\n"
          ]
        },
        {
          "output_type": "stream",
          "name": "stderr",
          "text": [
            "     90/100      20.9G     0.9712     0.5999      1.021         15        640: 100%|██████████| 78/78 [00:37<00:00,  2.\n",
            "                 Class     Images  Instances      Box(P          R      mAP50  mAP50-95): 100%|██████████| 6/6 [00:01<0"
          ]
        },
        {
          "output_type": "stream",
          "name": "stdout",
          "text": [
            "                   all        183        813      0.527      0.522      0.435      0.188\n"
          ]
        },
        {
          "output_type": "stream",
          "name": "stderr",
          "text": [
            "\n"
          ]
        },
        {
          "output_type": "stream",
          "name": "stdout",
          "text": [
            "Closing dataloader mosaic\n",
            "\u001b[34m\u001b[1malbumentations: \u001b[0mBlur(p=0.01, blur_limit=(3, 7)), MedianBlur(p=0.01, blur_limit=(3, 7)), ToGray(p=0.01), CLAHE(p=0.01, clip_limit=(1, 4.0), tile_grid_size=(8, 8))\n",
            "\n",
            "      Epoch    GPU_mem   box_loss   cls_loss   dfl_loss  Instances       Size\n"
          ]
        },
        {
          "output_type": "stream",
          "name": "stderr",
          "text": [
            "     91/100      20.9G      0.973     0.5962      1.042         22        640: 100%|██████████| 78/78 [00:38<00:00,  2.\n",
            "                 Class     Images  Instances      Box(P          R      mAP50  mAP50-95): 100%|██████████| 6/6 [00:02<0"
          ]
        },
        {
          "output_type": "stream",
          "name": "stdout",
          "text": [
            "                   all        183        813      0.553      0.536      0.474      0.203\n"
          ]
        },
        {
          "output_type": "stream",
          "name": "stderr",
          "text": [
            "\n"
          ]
        },
        {
          "output_type": "stream",
          "name": "stdout",
          "text": [
            "\n",
            "      Epoch    GPU_mem   box_loss   cls_loss   dfl_loss  Instances       Size\n"
          ]
        },
        {
          "output_type": "stream",
          "name": "stderr",
          "text": [
            "     92/100      20.9G      0.932     0.5598      1.033         16        640: 100%|██████████| 78/78 [00:37<00:00,  2.\n",
            "                 Class     Images  Instances      Box(P          R      mAP50  mAP50-95): 100%|██████████| 6/6 [00:01<0"
          ]
        },
        {
          "output_type": "stream",
          "name": "stdout",
          "text": [
            "                   all        183        813      0.503      0.511      0.443      0.187\n"
          ]
        },
        {
          "output_type": "stream",
          "name": "stderr",
          "text": [
            "\n"
          ]
        },
        {
          "output_type": "stream",
          "name": "stdout",
          "text": [
            "\n",
            "      Epoch    GPU_mem   box_loss   cls_loss   dfl_loss  Instances       Size\n"
          ]
        },
        {
          "output_type": "stream",
          "name": "stderr",
          "text": [
            "     93/100      20.9G     0.9039     0.5372      1.022         21        640: 100%|██████████| 78/78 [00:37<00:00,  2.\n",
            "                 Class     Images  Instances      Box(P          R      mAP50  mAP50-95): 100%|██████████| 6/6 [00:01<0"
          ]
        },
        {
          "output_type": "stream",
          "name": "stdout",
          "text": [
            "                   all        183        813      0.493      0.536      0.445      0.187\n"
          ]
        },
        {
          "output_type": "stream",
          "name": "stderr",
          "text": [
            "\n"
          ]
        },
        {
          "output_type": "stream",
          "name": "stdout",
          "text": [
            "\n",
            "      Epoch    GPU_mem   box_loss   cls_loss   dfl_loss  Instances       Size\n"
          ]
        },
        {
          "output_type": "stream",
          "name": "stderr",
          "text": [
            "     94/100      20.9G     0.8855     0.5204      1.008         20        640: 100%|██████████| 78/78 [00:37<00:00,  2.\n",
            "                 Class     Images  Instances      Box(P          R      mAP50  mAP50-95): 100%|██████████| 6/6 [00:01<0"
          ]
        },
        {
          "output_type": "stream",
          "name": "stdout",
          "text": [
            "                   all        183        813      0.506      0.524      0.446      0.187\n"
          ]
        },
        {
          "output_type": "stream",
          "name": "stderr",
          "text": [
            "\n"
          ]
        },
        {
          "output_type": "stream",
          "name": "stdout",
          "text": [
            "\n",
            "      Epoch    GPU_mem   box_loss   cls_loss   dfl_loss  Instances       Size\n"
          ]
        },
        {
          "output_type": "stream",
          "name": "stderr",
          "text": [
            "     95/100      20.9G     0.8758     0.5045      1.004         27        640: 100%|██████████| 78/78 [00:37<00:00,  2.\n",
            "                 Class     Images  Instances      Box(P          R      mAP50  mAP50-95): 100%|██████████| 6/6 [00:02<0"
          ]
        },
        {
          "output_type": "stream",
          "name": "stdout",
          "text": [
            "                   all        183        813      0.495      0.542       0.45      0.188\n"
          ]
        },
        {
          "output_type": "stream",
          "name": "stderr",
          "text": [
            "\n"
          ]
        },
        {
          "output_type": "stream",
          "name": "stdout",
          "text": [
            "\n",
            "      Epoch    GPU_mem   box_loss   cls_loss   dfl_loss  Instances       Size\n"
          ]
        },
        {
          "output_type": "stream",
          "name": "stderr",
          "text": [
            "     96/100      20.9G     0.8668     0.5108     0.9973         18        640: 100%|██████████| 78/78 [00:37<00:00,  2.\n",
            "                 Class     Images  Instances      Box(P          R      mAP50  mAP50-95): 100%|██████████| 6/6 [00:01<0"
          ]
        },
        {
          "output_type": "stream",
          "name": "stdout",
          "text": [
            "                   all        183        813      0.505      0.533       0.44      0.188\n"
          ]
        },
        {
          "output_type": "stream",
          "name": "stderr",
          "text": [
            "\n"
          ]
        },
        {
          "output_type": "stream",
          "name": "stdout",
          "text": [
            "\n",
            "      Epoch    GPU_mem   box_loss   cls_loss   dfl_loss  Instances       Size\n"
          ]
        },
        {
          "output_type": "stream",
          "name": "stderr",
          "text": [
            "     97/100      20.9G     0.8717     0.5172      1.002         18        640: 100%|██████████| 78/78 [00:37<00:00,  2.\n",
            "                 Class     Images  Instances      Box(P          R      mAP50  mAP50-95): 100%|██████████| 6/6 [00:01<0"
          ]
        },
        {
          "output_type": "stream",
          "name": "stdout",
          "text": [
            "                   all        183        813      0.495      0.526      0.438      0.184\n"
          ]
        },
        {
          "output_type": "stream",
          "name": "stderr",
          "text": [
            "\n"
          ]
        },
        {
          "output_type": "stream",
          "name": "stdout",
          "text": [
            "\n",
            "      Epoch    GPU_mem   box_loss   cls_loss   dfl_loss  Instances       Size\n"
          ]
        },
        {
          "output_type": "stream",
          "name": "stderr",
          "text": [
            "     98/100      20.9G     0.8716       0.52      1.003         14        640: 100%|██████████| 78/78 [00:37<00:00,  2.\n",
            "                 Class     Images  Instances      Box(P          R      mAP50  mAP50-95): 100%|██████████| 6/6 [00:01<0"
          ]
        },
        {
          "output_type": "stream",
          "name": "stdout",
          "text": [
            "                   all        183        813       0.52      0.483      0.435      0.185\n"
          ]
        },
        {
          "output_type": "stream",
          "name": "stderr",
          "text": [
            "\n"
          ]
        },
        {
          "output_type": "stream",
          "name": "stdout",
          "text": [
            "\n",
            "      Epoch    GPU_mem   box_loss   cls_loss   dfl_loss  Instances       Size\n"
          ]
        },
        {
          "output_type": "stream",
          "name": "stderr",
          "text": [
            "     99/100      20.9G     0.8425     0.4981     0.9957         15        640: 100%|██████████| 78/78 [00:37<00:00,  2.\n",
            "                 Class     Images  Instances      Box(P          R      mAP50  mAP50-95): 100%|██████████| 6/6 [00:01<0"
          ]
        },
        {
          "output_type": "stream",
          "name": "stdout",
          "text": [
            "                   all        183        813      0.531       0.49      0.445      0.191\n"
          ]
        },
        {
          "output_type": "stream",
          "name": "stderr",
          "text": [
            "\n"
          ]
        },
        {
          "output_type": "stream",
          "name": "stdout",
          "text": [
            "\n",
            "      Epoch    GPU_mem   box_loss   cls_loss   dfl_loss  Instances       Size\n"
          ]
        },
        {
          "output_type": "stream",
          "name": "stderr",
          "text": [
            "    100/100      20.9G      0.834     0.4958     0.9862         30        640: 100%|██████████| 78/78 [00:37<00:00,  2.\n",
            "                 Class     Images  Instances      Box(P          R      mAP50  mAP50-95): 100%|██████████| 6/6 [00:01<0"
          ]
        },
        {
          "output_type": "stream",
          "name": "stdout",
          "text": [
            "                   all        183        813      0.492      0.534      0.442      0.189\n"
          ]
        },
        {
          "output_type": "stream",
          "name": "stderr",
          "text": [
            "\n"
          ]
        },
        {
          "output_type": "stream",
          "name": "stdout",
          "text": [
            "\n",
            "100 epochs completed in 1.186 hours.\n",
            "Optimizer stripped from YOLOv11_Training\\YOLOv11L_Strawberry\\weights\\last.pt, 51.2MB\n",
            "Optimizer stripped from YOLOv11_Training\\YOLOv11L_Strawberry\\weights\\best.pt, 51.2MB\n",
            "\n",
            "Validating YOLOv11_Training\\YOLOv11L_Strawberry\\weights\\best.pt...\n",
            "Ultralytics 8.3.80  Python-3.10.6 torch-2.5.1+cu124 CUDA:0 (NVIDIA GeForce RTX 3090, 24576MiB)\n",
            "YOLO11l summary (fused): 190 layers, 25,280,854 parameters, 0 gradients, 86.6 GFLOPs\n"
          ]
        },
        {
          "output_type": "stream",
          "name": "stderr",
          "text": [
            "                 Class     Images  Instances      Box(P          R      mAP50  mAP50-95): 100%|██████████| 6/6 [00:02<0\n"
          ]
        },
        {
          "output_type": "stream",
          "name": "stdout",
          "text": [
            "                   all        183        813      0.524      0.609      0.576      0.247\n",
            "               Healthy        117        280      0.531      0.509      0.503      0.213\n",
            "             Unhealthy        160        533      0.517      0.709      0.649       0.28\n",
            "Speed: 0.3ms preprocess, 6.6ms inference, 0.0ms loss, 2.5ms postprocess per image\n",
            "Results saved to \u001b[1mYOLOv11_Training\\YOLOv11L_Strawberry\u001b[0m\n",
            "Ultralytics 8.3.80  Python-3.10.6 torch-2.5.1+cu124 CPU (AMD Ryzen 7 5800X 8-Core Processor)\n",
            "YOLO11l summary (fused): 190 layers, 25,280,854 parameters, 0 gradients, 86.6 GFLOPs\n",
            "\n",
            "\u001b[34m\u001b[1mPyTorch:\u001b[0m starting from 'YOLOv11_Training\\YOLOv11L_Strawberry\\weights\\best.pt' with input shape (1, 3, 640, 640) BCHW and output shape(s) (1, 6, 8400) (48.8 MB)\n",
            "\u001b[31m\u001b[1mrequirements:\u001b[0m Ultralytics requirement ['onnxslim'] not found, attempting AutoUpdate...\n",
            "Collecting onnxslim\n",
            "  Downloading onnxslim-0.1.48-py3-none-any.whl.metadata (4.6 kB)\n",
            "Requirement already satisfied: onnx in c:\\users\\jahin catalan mahbub\\appdata\\local\\programs\\python\\python310\\lib\\site-packages (from onnxslim) (1.13.0)\n",
            "Requirement already satisfied: sympy in c:\\users\\jahin catalan mahbub\\appdata\\local\\programs\\python\\python310\\lib\\site-packages (from onnxslim) (1.13.1)\n",
            "Requirement already satisfied: packaging in c:\\users\\jahin catalan mahbub\\appdata\\local\\programs\\python\\python310\\lib\\site-packages (from onnxslim) (24.1)\n",
            "Requirement already satisfied: numpy>=1.16.6 in c:\\users\\jahin catalan mahbub\\appdata\\local\\programs\\python\\python310\\lib\\site-packages (from onnx->onnxslim) (1.23.0)\n",
            "Requirement already satisfied: protobuf<4,>=3.20.2 in c:\\users\\jahin catalan mahbub\\appdata\\local\\programs\\python\\python310\\lib\\site-packages (from onnx->onnxslim) (3.20.3)\n",
            "Requirement already satisfied: typing-extensions>=3.6.2.1 in c:\\users\\jahin catalan mahbub\\appdata\\local\\programs\\python\\python310\\lib\\site-packages (from onnx->onnxslim) (4.12.2)\n",
            "Requirement already satisfied: mpmath<1.4,>=1.1.0 in c:\\users\\jahin catalan mahbub\\appdata\\local\\programs\\python\\python310\\lib\\site-packages (from sympy->onnxslim) (1.3.0)\n",
            "Downloading onnxslim-0.1.48-py3-none-any.whl (142 kB)\n",
            "Installing collected packages: onnxslim\n",
            "Successfully installed onnxslim-0.1.48\n",
            "\n",
            "\u001b[31m\u001b[1mrequirements:\u001b[0m AutoUpdate success  2.2s, installed 1 package: ['onnxslim']\n",
            "\u001b[31m\u001b[1mrequirements:\u001b[0m  \u001b[1mRestart runtime or rerun command for updates to take effect\u001b[0m\n",
            "\n",
            "\n",
            "\u001b[34m\u001b[1mONNX:\u001b[0m starting export with onnx 1.13.0 opset 19...\n",
            "\u001b[34m\u001b[1mONNX:\u001b[0m slimming with onnxslim 0.1.48...\n",
            "\u001b[34m\u001b[1mONNX:\u001b[0m simplifier failure: FLOAT8E4M3FN\n",
            "\u001b[34m\u001b[1mONNX:\u001b[0m export success  4.8s, saved as 'YOLOv11_Training\\YOLOv11L_Strawberry\\weights\\best.onnx' (96.7 MB)\n",
            "\n",
            "Export complete (6.1s)\n",
            "Results saved to \u001b[1mC:\\Users\\Jahin Catalan Mahbub\\YOLOv11_Training\\YOLOv11L_Strawberry\\weights\u001b[0m\n",
            "Predict:         yolo predict task=detect model=YOLOv11_Training\\YOLOv11L_Strawberry\\weights\\best.onnx imgsz=640  \n",
            "Validate:        yolo val task=detect model=YOLOv11_Training\\YOLOv11L_Strawberry\\weights\\best.onnx imgsz=640 data=C:/Strawberry.v6i.yolov11/strawberry.yaml  \n",
            "Visualize:       https://netron.app\n",
            "✅ Training complete. Model saved!\n"
          ]
        }
      ]
    },
    {
      "cell_type": "code",
      "source": [
        "import torch\n",
        "import numpy as np\n",
        "import matplotlib.pyplot as plt\n",
        "from sklearn.metrics import (\n",
        "    accuracy_score, precision_score, recall_score, f1_score,\n",
        "    confusion_matrix, roc_curve, auc\n",
        ")\n",
        "from ultralytics import YOLO\n",
        "\n",
        "# 🔹 Load the trained model\n",
        "model = YOLO(\"C:/users/Jahin Catalan Mahbub/YOLOv11_Training/YOLOv11L_Strawberry/weights/best.pt\")\n",
        "\n",
        "# 🔹 Run model validation\n",
        "results = model.val(\n",
        "    data=\"C:/Strawberry.v6i.yolov11/strawberry.yaml\",\n",
        "    conf=0.2,  # Confidence threshold\n",
        "    iou=0.1,    # IoU threshold\n",
        "    device=0\n",
        ")\n",
        "\n",
        "# ✅ Extract YOLO evaluation metrics\n",
        "metrics = results.box  # YOLO stores metrics here\n",
        "\n",
        "# 🚀 **Fix: Remove parentheses to extract correct values**\n",
        "precision = metrics.mp  # Mean Precision across classes\n",
        "recall = metrics.mr  # Mean Recall across classes\n",
        "map50 = metrics.map50  # mAP at 0.5 IoU\n",
        "map50_95 = metrics.map  # mAP at IoU 0.5-0.95\n",
        "\n",
        "# 🔹 Compute F1 Score\n",
        "f1 = (2 * precision * recall) / (precision + recall) if (precision + recall) > 0 else 0\n",
        "\n",
        "# 🔹 Compute False Positive Rate Approximation\n",
        "fp = 1 - precision if precision > 0 else 1\n",
        "false_positive_rate = fp\n",
        "\n",
        "# 🔹 Compute Accuracy Approximation (Using Precision and Recall)\n",
        "accuracy = recall  # Since we don't have TN, this is an approximation\n",
        "\n",
        "# 🔹 Print Metrics\n",
        "print(f\"🔹 Accuracy (approx.): {accuracy * 100:.2f}%\")\n",
        "print(f\"🔹 Precision: {precision * 100:.2f}%\")\n",
        "print(f\"🔹 Recall (Sensitivity): {recall * 100:.2f}%\")\n",
        "print(f\"🔹 F1 Score: {f1 * 100:.2f}%\")\n",
        "print(f\"🔹 False Positive Rate (approx.): {false_positive_rate * 100:.2f}%\")\n",
        "print(f\"🔹 Mean Average Precision (mAP@0.5): {map50 * 100:.2f}%\")\n",
        "print(f\"🔹 Mean Average Precision (mAP@0.5-0.95): {map50_95 * 100:.2f}%\")\n",
        "\n",
        "# 🔹 Plot Precision-Recall Curve as a Proxy for ROC\n",
        "plt.figure(figsize=(8, 6))\n",
        "plt.plot(metrics.r, metrics.p, color='blue', lw=2, label=f'Precision-Recall Curve (mAP50={map50:.2f})')\n",
        "plt.xlabel('Recall')\n",
        "plt.ylabel('Precision')\n",
        "plt.title('Precision-Recall Curve')\n",
        "plt.legend(loc='lower right')\n",
        "plt.grid(alpha=0.5)\n",
        "plt.savefig(\"precision_recall_curve.png\")  # Saves the plot\n",
        "plt.show()  # Forces display"
      ],
      "metadata": {
        "colab": {
          "base_uri": "https://localhost:8080/",
          "height": 312
        },
        "id": "rui6eVVSB4k8",
        "outputId": "f9a9b262-7721-4ec5-8131-d9348dcfb92b"
      },
      "execution_count": 17,
      "outputs": [
        {
          "output_type": "stream",
          "name": "stdout",
          "text": [
            "Ultralytics 8.3.80  Python-3.10.6 torch-2.5.1+cu124 CUDA:0 (NVIDIA GeForce RTX 3090, 24576MiB)\n",
            "YOLO11l summary (fused): 190 layers, 25,280,854 parameters, 0 gradients, 86.6 GFLOPs\n"
          ]
        },
        {
          "output_type": "stream",
          "name": "stderr",
          "text": [
            "\u001b[34m\u001b[1mval: \u001b[0mScanning C:\\Strawberry.v6i.yolov11\\valid\\labels.cache... 183 images, 0 backgrounds, 0 corrupt: 100%|██████████| 18\u001b[0m\n",
            "                 Class     Images  Instances      Box(P          R      mAP50  mAP50-95): 100%|██████████| 12/12 [00:02\n"
          ]
        },
        {
          "output_type": "stream",
          "name": "stdout",
          "text": [
            "                   all        183        813      0.512      0.624      0.588      0.273\n",
            "               Healthy        117        280      0.507      0.533      0.513      0.238\n",
            "             Unhealthy        160        533      0.516      0.715      0.663      0.308\n",
            "Speed: 0.6ms preprocess, 6.9ms inference, 0.0ms loss, 0.9ms postprocess per image\n",
            "Results saved to \u001b[1mruns\\detect\\val13\u001b[0m\n",
            "🔹 Accuracy (approx.): 62.39%\n",
            "🔹 Precision: 51.17%\n",
            "🔹 Recall (Sensitivity): 62.39%\n",
            "🔹 F1 Score: 56.22%\n",
            "🔹 False Positive Rate (approx.): 48.83%\n",
            "🔹 Mean Average Precision (mAP@0.5): 58.80%\n",
            "🔹 Mean Average Precision (mAP@0.5-0.95): 27.28%\n"
          ]
        },
        {
          "output_type": "display_data",
          "data": {
            "text/plain": [
              "<Figure size 800x600 with 1 Axes>"
            ]
          },
          "metadata": {}
        }
      ]
    }
  ]
}